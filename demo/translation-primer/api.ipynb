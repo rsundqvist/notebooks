{
 "cells": [
  {
   "cell_type": "markdown",
   "id": "72d46e41-b0dc-4d4a-b114-f90788b5884c",
   "metadata": {},
   "source": [
    "# Primer: API implementation\n",
    "This notebook reconstructs the `Translator` showcased in the [Translation primer](../../../translation-primer.rst) using the API."
   ]
  },
  {
   "cell_type": "code",
   "execution_count": 1,
   "id": "d3aa815a-49f8-408c-bb4e-e0f088a114d4",
   "metadata": {},
   "outputs": [
    {
     "name": "stdout",
     "output_type": "stream",
     "text": [
      "rics.__version__='0.17.0.dev1'\n",
      "sys.version='3.10.6 (main, Aug 10 2022, 11:40:04) [GCC 11.3.0]'\n",
      "\u001b[33m8c24336\u001b[m\u001b[33m (\u001b[m\u001b[1;36mHEAD -> \u001b[m\u001b[1;32mmain\u001b[m\u001b[33m, \u001b[m\u001b[1;31morigin/main\u001b[m\u001b[33m, \u001b[m\u001b[1;31morigin/HEAD\u001b[m\u001b[33m)\u001b[m Rerun sql demo\n"
     ]
    }
   ],
   "source": [
    "import sys\n",
    "import rics\n",
    "\n",
    "# Print relevant versions\n",
    "print(f\"{rics.__version__=}\")\n",
    "print(f\"{sys.version=}\")\n",
    "!git log --pretty=oneline --abbrev-commit -1"
   ]
  },
  {
   "cell_type": "code",
   "execution_count": 2,
   "id": "f5d4beac-fe6c-440f-bef8-da1a6aae9213",
   "metadata": {},
   "outputs": [],
   "source": [
    "from rics.utility import configure_stuff\n",
    "\n",
    "configure_stuff(rics_level=\"DEBUG\")"
   ]
  },
  {
   "cell_type": "markdown",
   "id": "ad0fd150-f88c-4688-befd-4033c6df9d8f",
   "metadata": {},
   "source": [
    "## Translatable data"
   ]
  },
  {
   "cell_type": "code",
   "execution_count": 3,
   "id": "03f1f870-4189-48b7-b992-9c3262b52f4a",
   "metadata": {},
   "outputs": [
    {
     "data": {
      "text/html": [
       "<div>\n",
       "<style scoped>\n",
       "    .dataframe tbody tr th:only-of-type {\n",
       "        vertical-align: middle;\n",
       "    }\n",
       "\n",
       "    .dataframe tbody tr th {\n",
       "        vertical-align: top;\n",
       "    }\n",
       "\n",
       "    .dataframe thead th {\n",
       "        text-align: right;\n",
       "    }\n",
       "</style>\n",
       "<table border=\"1\" class=\"dataframe\">\n",
       "  <thead>\n",
       "    <tr style=\"text-align: right;\">\n",
       "      <th></th>\n",
       "      <th>human_id</th>\n",
       "      <th>bitten_by</th>\n",
       "    </tr>\n",
       "  </thead>\n",
       "  <tbody>\n",
       "    <tr>\n",
       "      <th>0</th>\n",
       "      <td>1904</td>\n",
       "      <td>1</td>\n",
       "    </tr>\n",
       "    <tr>\n",
       "      <th>1</th>\n",
       "      <td>1991</td>\n",
       "      <td>0</td>\n",
       "    </tr>\n",
       "    <tr>\n",
       "      <th>2</th>\n",
       "      <td>1991</td>\n",
       "      <td>2</td>\n",
       "    </tr>\n",
       "    <tr>\n",
       "      <th>3</th>\n",
       "      <td>1999</td>\n",
       "      <td>0</td>\n",
       "    </tr>\n",
       "  </tbody>\n",
       "</table>\n",
       "</div>"
      ],
      "text/plain": [
       "   human_id  bitten_by\n",
       "0      1904          1\n",
       "1      1991          0\n",
       "2      1991          2\n",
       "3      1999          0"
      ]
     },
     "execution_count": 3,
     "metadata": {},
     "output_type": "execute_result"
    }
   ],
   "source": [
    "from pandas import read_csv\n",
    "\n",
    "bite_report = read_csv(\"biting-victims-2019-05-11.csv\")\n",
    "bite_report"
   ]
  },
  {
   "cell_type": "markdown",
   "id": "d531ee50-2a4f-42f4-a3a1-2a6689a56c10",
   "metadata": {},
   "source": [
    "## Name-to-source mapping"
   ]
  },
  {
   "cell_type": "code",
   "execution_count": 4,
   "id": "1fefab00-ce61-49e4-8a55-cf425526b88d",
   "metadata": {},
   "outputs": [],
   "source": [
    "from rics.mapping import HeuristicScore, Mapper\n",
    "\n",
    "score_function = HeuristicScore(\"equality\", heuristics=[\"like_database_table\"])\n",
    "mapper = Mapper(score_function, overrides={\"bitten_by\": \"animals\"})"
   ]
  },
  {
   "cell_type": "markdown",
   "id": "5ac6d864-445c-4f77-8bfc-5a5939449635",
   "metadata": {},
   "source": [
    "## Translation format"
   ]
  },
  {
   "cell_type": "code",
   "execution_count": 5,
   "id": "552eaded-7d5a-417e-a4e3-367befde3537",
   "metadata": {},
   "outputs": [],
   "source": [
    "translation_format = \"[{title}. ]{name} (id={id})[ the {species}]\""
   ]
  },
  {
   "cell_type": "markdown",
   "id": "6b021019-9123-49eb-9b7d-2505ebcde411",
   "metadata": {},
   "source": [
    "## Placeholder mapping\n",
    "Define heuristic score function."
   ]
  },
  {
   "cell_type": "code",
   "execution_count": 6,
   "id": "44cf127e-5c43-4c78-a063-73a973daee9d",
   "metadata": {},
   "outputs": [],
   "source": [
    "from rics.translation.fetching import PandasFetcher\n",
    "\n",
    "\n",
    "def smurf_column_heuristic(value, candidates, context):\n",
    "    \"\"\"Heuristic for matching columns that use the \"smurf\" convention.\n",
    "\n",
    "    The value is the desired placeholder, the context is the name of the source\n",
    "    for which placeholder mapping is being performed.\n",
    "    \"\"\"\n",
    "    return (\n",
    "        f\"{context[:-1]}_{value}\" if context[-1] == \"s\" else f\"{context}_{value}\",\n",
    "        candidates,\n",
    "    )\n",
    "\n",
    "\n",
    "smurf_score = HeuristicScore(\"equality\", heuristics=[smurf_column_heuristic])"
   ]
  },
  {
   "cell_type": "markdown",
   "id": "c8fc205b-9479-43de-88e3-2917aea3cd78",
   "metadata": {},
   "source": [
    "## Create fetcher"
   ]
  },
  {
   "cell_type": "code",
   "execution_count": 7,
   "id": "4ab10458-8b72-4462-8ad6-e8bd8aa602fa",
   "metadata": {},
   "outputs": [],
   "source": [
    "fetcher = PandasFetcher(\n",
    "    read_csv, read_path_format=\"./sources/{}.csv\", mapper=Mapper(smurf_score)\n",
    ")"
   ]
  },
  {
   "cell_type": "markdown",
   "id": "4e904823-aa47-417c-8025-b70372090946",
   "metadata": {},
   "source": [
    "## Moment of truth"
   ]
  },
  {
   "cell_type": "code",
   "execution_count": 8,
   "id": "288e628e-9ad8-4805-a455-bc65c60baf35",
   "metadata": {},
   "outputs": [
    {
     "name": "stderr",
     "output_type": "stream",
     "text": [
      "2022-10-14T19:28:57.705 [rics.translation.fetching.PandasFetcher:DEBUG] Sources initialized: ['humans', 'animals']\n",
      "2022-10-14T19:28:57.709 [rics.mapping.Mapper:DEBUG] Begin computing match scores for values=('human_id', 'bitten_by') to candidates=('humans', 'animals') using HeuristicScore([like_database_table()] -> equality).\n",
      "2022-10-14T19:28:57.713 [rics.mapping.Mapper:DEBUG] Computed 2x2 match scores in 0.00354622 sec:\n",
      "candidates  humans  animals\n",
      "values                     \n",
      "human_id         1        0\n",
      "bitten_by     -inf      inf\n",
      "2022-10-14T19:28:57.723 [rics.mapping.Mapper.accept:DEBUG] Accepted: 'bitten_by' -> 'animals'; score=inf (short-circuit or override).\n",
      "2022-10-14T19:28:57.729 [rics.mapping.Mapper.accept.details:DEBUG] This match supersedes 1 other matches:\n",
      "    'bitten_by' -> 'humans'; score=-inf (superseded by short-circuit or override).\n",
      "2022-10-14T19:28:57.733 [rics.mapping.Mapper.accept:DEBUG] Accepted: 'human_id' -> 'humans'; score=1.000 >= 1.0.\n",
      "2022-10-14T19:28:57.734 [rics.mapping.Mapper.accept.details:DEBUG] This match supersedes 1 other matches:\n",
      "    'human_id' -> 'animals'; score=0.000 < 1.0 (below threshold).\n",
      "2022-10-14T19:28:57.736 [rics.mapping.Mapper:DEBUG] Match selection with cardinality='ManyToOne' completed in 0.0227624 sec.\n",
      "2022-10-14T19:28:57.746 [rics.mapping.Mapper:DEBUG] Begin computing match scores for values=('id', 'title', 'species', 'name') in context='humans' to candidates=('title', 'name', 'id') using HeuristicScore([smurf_column_heuristic()] -> equality).\n",
      "2022-10-14T19:28:57.750 [rics.mapping.Mapper:DEBUG] Computed 4x3 match scores in 0.00297266 sec:\n",
      "candidates  title  name   id\n",
      "values                      \n",
      "id           -inf  -inf  inf\n",
      "title         inf  -inf -inf\n",
      "species         0     0    0\n",
      "name         -inf   inf -inf\n",
      "2022-10-14T19:28:57.753 [rics.mapping.Mapper.accept:DEBUG] Accepted: 'id' -> 'id'; score=inf (short-circuit or override).\n",
      "2022-10-14T19:28:57.755 [rics.mapping.Mapper.accept.details:DEBUG] This match supersedes 2 other matches:\n",
      "    'id' -> 'title'; score=-inf (superseded by short-circuit or override).\n",
      "    'id' -> 'name'; score=-inf (superseded by short-circuit or override).\n",
      "2022-10-14T19:28:57.755 [rics.mapping.Mapper.accept:DEBUG] Accepted: 'title' -> 'title'; score=inf (short-circuit or override).\n",
      "2022-10-14T19:28:57.756 [rics.mapping.Mapper.accept.details:DEBUG] This match supersedes 2 other matches:\n",
      "    'title' -> 'name'; score=-inf (superseded by short-circuit or override).\n",
      "    'title' -> 'id'; score=-inf (superseded by short-circuit or override).\n",
      "2022-10-14T19:28:57.757 [rics.mapping.Mapper.accept:DEBUG] Accepted: 'name' -> 'name'; score=inf (short-circuit or override).\n",
      "2022-10-14T19:28:57.758 [rics.mapping.Mapper.accept.details:DEBUG] This match supersedes 2 other matches:\n",
      "    'name' -> 'title'; score=-inf (superseded by short-circuit or override).\n",
      "    'name' -> 'id'; score=-inf (superseded by short-circuit or override).\n",
      "2022-10-14T19:28:57.759 [rics.mapping.Mapper.unmapped.details:DEBUG] Could not map value='species':\n",
      "    'species' -> 'title'; score=0.000 < 1.0 (below threshold).\n",
      "    'species' -> 'name'; score=0.000 < 1.0 (below threshold).\n",
      "    'species' -> 'id'; score=0.000 < 1.0 (below threshold).\n",
      "2022-10-14T19:28:57.761 [rics.mapping.Mapper.unmapped:DEBUG] Could not map {'species'} in context='humans' to any of candidates={'id', 'title', 'name'}.\n",
      "2022-10-14T19:28:57.762 [rics.mapping.Mapper:DEBUG] Match selection with cardinality='ManyToOne' completed in 0.011366 sec.\n",
      "2022-10-14T19:28:57.763 [rics.translation.fetching.AbstractFetcher:DEBUG] Placeholder mappings for source='humans': {'id': 'id', 'title': 'title', 'name': 'name', 'species': None}.\n",
      "2022-10-14T19:28:57.772 [rics.translation.fetching.AbstractFetcher:DEBUG] Fetched ('id', 'name', 'title') for 3 IDS from 'FetchInstruction(source='humans', ids={1904, 1999, 1991}, placeholders=('title', 'name', 'id', 'species'), required={'name', 'id'}, all_placeholders=False)' in 0.00794815 sec using PandasFetcher(sources=['humans', 'animals']).\n",
      "2022-10-14T19:28:57.773 [rics.mapping.Mapper:DEBUG] Begin computing match scores for values=('id', 'title', 'species', 'name') in context='animals' to candidates=('species', 'name', 'animal_id') using HeuristicScore([smurf_column_heuristic()] -> equality).\n",
      "2022-10-14T19:28:57.779 [rics.mapping.Mapper:DEBUG] Computed 4x3 match scores in 0.00378662 sec:\n",
      "candidates  species  name  animal_id\n",
      "values                              \n",
      "id                0     0          1\n",
      "title             0     0          0\n",
      "species         inf  -inf       -inf\n",
      "name           -inf   inf       -inf\n",
      "2022-10-14T19:28:57.785 [rics.mapping.Mapper.accept:DEBUG] Accepted: 'species' -> 'species'; score=inf (short-circuit or override).\n",
      "2022-10-14T19:28:57.792 [rics.mapping.Mapper.accept.details:DEBUG] This match supersedes 2 other matches:\n",
      "    'species' -> 'name'; score=-inf (superseded by short-circuit or override).\n",
      "    'species' -> 'animal_id'; score=-inf (superseded by short-circuit or override).\n",
      "2022-10-14T19:28:57.794 [rics.mapping.Mapper.accept:DEBUG] Accepted: 'name' -> 'name'; score=inf (short-circuit or override).\n",
      "2022-10-14T19:28:57.795 [rics.mapping.Mapper.accept.details:DEBUG] This match supersedes 2 other matches:\n",
      "    'name' -> 'species'; score=-inf (superseded by short-circuit or override).\n",
      "    'name' -> 'animal_id'; score=-inf (superseded by short-circuit or override).\n",
      "2022-10-14T19:28:57.797 [rics.mapping.Mapper.accept:DEBUG] Accepted: 'id' -> 'animal_id'; score=1.000 >= 1.0.\n",
      "2022-10-14T19:28:57.798 [rics.mapping.Mapper.accept.details:DEBUG] This match supersedes 2 other matches:\n",
      "    'id' -> 'species'; score=0.000 < 1.0 (below threshold).\n",
      "    'id' -> 'name'; score=0.000 < 1.0 (below threshold).\n",
      "2022-10-14T19:28:57.802 [rics.mapping.Mapper.unmapped.details:DEBUG] Could not map value='title':\n",
      "    'title' -> 'species'; score=0.000 < 1.0 (below threshold).\n",
      "    'title' -> 'name'; score=0.000 < 1.0 (below threshold).\n",
      "    'title' -> 'animal_id'; score=0.000 < 1.0 (below threshold).\n",
      "2022-10-14T19:28:57.805 [rics.mapping.Mapper.unmapped:DEBUG] Could not map {'title'} in context='animals' to any of candidates={'name', 'species', 'animal_id'}.\n",
      "2022-10-14T19:28:57.806 [rics.mapping.Mapper:DEBUG] Match selection with cardinality='ManyToOne' completed in 0.0232844 sec.\n",
      "2022-10-14T19:28:57.808 [rics.translation.fetching.AbstractFetcher:DEBUG] Placeholder mappings for source='animals': {'id': 'animal_id', 'species': 'species', 'name': 'name', 'title': None}.\n",
      "2022-10-14T19:28:57.812 [rics.translation.fetching.AbstractFetcher:DEBUG] Fetched ('animal_id', 'name', 'species') for 3 IDS from 'FetchInstruction(source='animals', ids={0, 1, 2}, placeholders=('name', 'animal_id', 'species'), required={'name', 'animal_id'}, all_placeholders=False)' in 0.00279254 sec using PandasFetcher(sources=['humans', 'animals']).\n",
      "2022-10-14T19:28:57.815 [rics.translation.Translator:DEBUG] Failed to translate 0.000% of IDs for name='human_id' using source='humans'.\n",
      "2022-10-14T19:28:57.816 [rics.translation.Translator:DEBUG] Failed to translate 0.000% of IDs for name='bitten_by' using source='animals'.\n",
      "2022-10-14T19:28:57.817 [rics.translation.Translator:DEBUG] Verified 8 IDs from 2 different sources in 0.00370594 sec.\n"
     ]
    },
    {
     "data": {
      "text/html": [
       "<div>\n",
       "<style scoped>\n",
       "    .dataframe tbody tr th:only-of-type {\n",
       "        vertical-align: middle;\n",
       "    }\n",
       "\n",
       "    .dataframe tbody tr th {\n",
       "        vertical-align: top;\n",
       "    }\n",
       "\n",
       "    .dataframe thead th {\n",
       "        text-align: right;\n",
       "    }\n",
       "</style>\n",
       "<table border=\"1\" class=\"dataframe\">\n",
       "  <thead>\n",
       "    <tr style=\"text-align: right;\">\n",
       "      <th></th>\n",
       "      <th>human_id</th>\n",
       "      <th>bitten_by</th>\n",
       "    </tr>\n",
       "  </thead>\n",
       "  <tbody>\n",
       "    <tr>\n",
       "      <th>0</th>\n",
       "      <td>Mr. Fred (id=1904)</td>\n",
       "      <td>Morris (id=1) the dog</td>\n",
       "    </tr>\n",
       "    <tr>\n",
       "      <th>1</th>\n",
       "      <td>Mr. Richard (id=1991)</td>\n",
       "      <td>Tarzan (id=0) the cat</td>\n",
       "    </tr>\n",
       "    <tr>\n",
       "      <th>2</th>\n",
       "      <td>Mr. Richard (id=1991)</td>\n",
       "      <td>Simba (id=2) the lion</td>\n",
       "    </tr>\n",
       "    <tr>\n",
       "      <th>3</th>\n",
       "      <td>Dr. Sofia (id=1999)</td>\n",
       "      <td>Tarzan (id=0) the cat</td>\n",
       "    </tr>\n",
       "  </tbody>\n",
       "</table>\n",
       "</div>"
      ],
      "text/plain": [
       "                human_id              bitten_by\n",
       "0     Mr. Fred (id=1904)  Morris (id=1) the dog\n",
       "1  Mr. Richard (id=1991)  Tarzan (id=0) the cat\n",
       "2  Mr. Richard (id=1991)  Simba (id=2) the lion\n",
       "3    Dr. Sofia (id=1999)  Tarzan (id=0) the cat"
      ]
     },
     "execution_count": 8,
     "metadata": {},
     "output_type": "execute_result"
    }
   ],
   "source": [
    "from rics.translation import Translator\n",
    "\n",
    "translator = Translator(fetcher, fmt=translation_format, mapper=mapper)\n",
    "translated_bite_report = translator.translate(bite_report)\n",
    "translated_bite_report"
   ]
  },
  {
   "cell_type": "code",
   "execution_count": 9,
   "id": "9078871d-7af9-43ea-97ad-3f430c4202d3",
   "metadata": {},
   "outputs": [],
   "source": [
    "assert translated_bite_report.equals(\n",
    "    read_csv(\"biting-victims-2019-05-11-translated.csv\")\n",
    ")"
   ]
  },
  {
   "cell_type": "code",
   "execution_count": null,
   "id": "368bfda3-a2cf-40d7-b1a7-d65ea062faec",
   "metadata": {},
   "outputs": [],
   "source": []
  }
 ],
 "metadata": {
  "kernelspec": {
   "display_name": "Python 3 (ipykernel)",
   "language": "python",
   "name": "python3"
  },
  "language_info": {
   "codemirror_mode": {
    "name": "ipython",
    "version": 3
   },
   "file_extension": ".py",
   "mimetype": "text/x-python",
   "name": "python",
   "nbconvert_exporter": "python",
   "pygments_lexer": "ipython3",
   "version": "3.10.6"
  }
 },
 "nbformat": 4,
 "nbformat_minor": 5
}
