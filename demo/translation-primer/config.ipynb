{
 "cells": [
  {
   "cell_type": "markdown",
   "id": "13f908c9-91ef-4c10-9342-8c7d1d282b49",
   "metadata": {},
   "source": [
    "# Primer: TOML implementation\n",
    "This notebook reconstructs the `Translator` showcased in the [Translation primer](../../../translation-primer.rst) using the a [TOML configuration](config.toml)."
   ]
  },
  {
   "cell_type": "code",
   "execution_count": 1,
   "id": "0369b718-55fc-46f1-bf0f-510d541514df",
   "metadata": {},
   "outputs": [
    {
     "name": "stdout",
     "output_type": "stream",
     "text": [
      "rics.__version__='0.17.0.dev1'\n",
      "sys.version='3.10.6 (main, Aug 10 2022, 11:40:04) [GCC 11.3.0]'\n",
      "\u001b[33m8c24336\u001b[m\u001b[33m (\u001b[m\u001b[1;36mHEAD -> \u001b[m\u001b[1;32mmain\u001b[m\u001b[33m, \u001b[m\u001b[1;31morigin/main\u001b[m\u001b[33m, \u001b[m\u001b[1;31morigin/HEAD\u001b[m\u001b[33m)\u001b[m Rerun sql demo\n"
     ]
    }
   ],
   "source": [
    "import sys\n",
    "import rics\n",
    "\n",
    "# Print relevant versions\n",
    "print(f\"{rics.__version__=}\")\n",
    "print(f\"{sys.version=}\")\n",
    "!git log --pretty=oneline --abbrev-commit -1"
   ]
  },
  {
   "cell_type": "code",
   "execution_count": 2,
   "id": "34780c6c-edd2-4380-9932-6b6336bf40ea",
   "metadata": {},
   "outputs": [],
   "source": [
    "from rics.utility import configure_stuff\n",
    "\n",
    "configure_stuff(rics_level=\"DEBUG\")"
   ]
  },
  {
   "cell_type": "markdown",
   "id": "1487d6cf-9f0f-477f-ac00-01442e0ca99d",
   "metadata": {},
   "source": [
    "## Translatable data"
   ]
  },
  {
   "cell_type": "code",
   "execution_count": 3,
   "id": "8b7cb6d7-f985-4d8c-b2a9-46302422371d",
   "metadata": {},
   "outputs": [
    {
     "data": {
      "text/html": [
       "<div>\n",
       "<style scoped>\n",
       "    .dataframe tbody tr th:only-of-type {\n",
       "        vertical-align: middle;\n",
       "    }\n",
       "\n",
       "    .dataframe tbody tr th {\n",
       "        vertical-align: top;\n",
       "    }\n",
       "\n",
       "    .dataframe thead th {\n",
       "        text-align: right;\n",
       "    }\n",
       "</style>\n",
       "<table border=\"1\" class=\"dataframe\">\n",
       "  <thead>\n",
       "    <tr style=\"text-align: right;\">\n",
       "      <th></th>\n",
       "      <th>human_id</th>\n",
       "      <th>bitten_by</th>\n",
       "    </tr>\n",
       "  </thead>\n",
       "  <tbody>\n",
       "    <tr>\n",
       "      <th>0</th>\n",
       "      <td>1904</td>\n",
       "      <td>1</td>\n",
       "    </tr>\n",
       "    <tr>\n",
       "      <th>1</th>\n",
       "      <td>1991</td>\n",
       "      <td>0</td>\n",
       "    </tr>\n",
       "    <tr>\n",
       "      <th>2</th>\n",
       "      <td>1991</td>\n",
       "      <td>2</td>\n",
       "    </tr>\n",
       "    <tr>\n",
       "      <th>3</th>\n",
       "      <td>1999</td>\n",
       "      <td>0</td>\n",
       "    </tr>\n",
       "  </tbody>\n",
       "</table>\n",
       "</div>"
      ],
      "text/plain": [
       "   human_id  bitten_by\n",
       "0      1904          1\n",
       "1      1991          0\n",
       "2      1991          2\n",
       "3      1999          0"
      ]
     },
     "execution_count": 3,
     "metadata": {},
     "output_type": "execute_result"
    }
   ],
   "source": [
    "from pandas import read_csv\n",
    "\n",
    "bite_report = read_csv(\"biting-victims-2019-05-11.csv\")\n",
    "bite_report"
   ]
  },
  {
   "cell_type": "markdown",
   "id": "6b021019-9123-49eb-9b7d-2505ebcde411",
   "metadata": {},
   "source": [
    "## Define heuristic score function"
   ]
  },
  {
   "cell_type": "code",
   "execution_count": 4,
   "id": "44cf127e-5c43-4c78-a063-73a973daee9d",
   "metadata": {},
   "outputs": [],
   "source": [
    "from rics.translation.fetching import PandasFetcher\n",
    "from rics.mapping import HeuristicScore, Mapper\n",
    "\n",
    "\n",
    "def smurf_column_heuristic(value, candidates, context):\n",
    "    \"\"\"Heuristic for matching columns that use the \"smurf\" convention.\n",
    "\n",
    "    The value is the desired placeholder, the context is the name of the source\n",
    "    for which placeholder mapping is being performed.\n",
    "    \"\"\"\n",
    "    return (\n",
    "        f\"{context[:-1]}_{value}\" if context[-1] == \"s\" else f\"{context}_{value}\",\n",
    "        candidates,\n",
    "    )"
   ]
  },
  {
   "cell_type": "markdown",
   "id": "4e904823-aa47-417c-8025-b70372090946",
   "metadata": {},
   "source": [
    "## Moment of truth"
   ]
  },
  {
   "cell_type": "code",
   "execution_count": 5,
   "id": "288e628e-9ad8-4805-a455-bc65c60baf35",
   "metadata": {},
   "outputs": [
    {
     "name": "stderr",
     "output_type": "stream",
     "text": [
      "2022-10-14T19:29:03.813 [rics.translation.fetching.PandasFetcher:DEBUG] Sources initialized: ['humans', 'animals']\n",
      "2022-10-14T19:29:03.816 [rics.mapping.Mapper:DEBUG] Begin computing match scores for values=('human_id', 'bitten_by') to candidates=('humans', 'animals') using HeuristicScore([like_database_table()] -> equality).\n",
      "2022-10-14T19:29:03.820 [rics.mapping.Mapper:DEBUG] Computed 2x2 match scores in 0.0043593 sec:\n",
      "candidates  humans  animals\n",
      "values                     \n",
      "human_id         1        0\n",
      "bitten_by     -inf      inf\n",
      "2022-10-14T19:29:03.831 [rics.mapping.Mapper.accept:DEBUG] Accepted: 'bitten_by' -> 'animals'; score=inf (short-circuit or override).\n",
      "2022-10-14T19:29:03.831 [rics.mapping.Mapper.accept.details:DEBUG] This match supersedes 1 other matches:\n",
      "    'bitten_by' -> 'humans'; score=-inf (superseded by short-circuit or override).\n",
      "2022-10-14T19:29:03.833 [rics.mapping.Mapper.accept:DEBUG] Accepted: 'human_id' -> 'humans'; score=1.000 >= 1.0.\n",
      "2022-10-14T19:29:03.834 [rics.mapping.Mapper.accept.details:DEBUG] This match supersedes 1 other matches:\n",
      "    'human_id' -> 'animals'; score=0.000 < 1.0 (below threshold).\n",
      "2022-10-14T19:29:03.836 [rics.mapping.Mapper:DEBUG] Match selection with cardinality='ManyToOne' completed in 0.0148181 sec.\n",
      "2022-10-14T19:29:03.843 [rics.mapping.Mapper:DEBUG] Begin computing match scores for values=('title', 'species', 'id', 'name') in context='humans' to candidates=('title', 'id', 'name') using HeuristicScore([force_lower_case() | smurf_column_heuristic()] -> AbstractFetcher.default_score_function).\n",
      "2022-10-14T19:29:03.847 [rics.mapping.Mapper:DEBUG] Computed 4x3 match scores in 0.00310232 sec:\n",
      "candidates  title   id  name\n",
      "values                      \n",
      "title         inf -inf  -inf\n",
      "species         0    0     0\n",
      "id           -inf  inf  -inf\n",
      "name         -inf -inf   inf\n",
      "2022-10-14T19:29:03.851 [rics.mapping.Mapper.accept:DEBUG] Accepted: 'title' -> 'title'; score=inf (short-circuit or override).\n",
      "2022-10-14T19:29:03.852 [rics.mapping.Mapper.accept.details:DEBUG] This match supersedes 2 other matches:\n",
      "    'title' -> 'id'; score=-inf (superseded by short-circuit or override).\n",
      "    'title' -> 'name'; score=-inf (superseded by short-circuit or override).\n",
      "2022-10-14T19:29:03.853 [rics.mapping.Mapper.accept:DEBUG] Accepted: 'id' -> 'id'; score=inf (short-circuit or override).\n",
      "2022-10-14T19:29:03.856 [rics.mapping.Mapper.accept.details:DEBUG] This match supersedes 2 other matches:\n",
      "    'id' -> 'title'; score=-inf (superseded by short-circuit or override).\n",
      "    'id' -> 'name'; score=-inf (superseded by short-circuit or override).\n",
      "2022-10-14T19:29:03.859 [rics.mapping.Mapper.accept:DEBUG] Accepted: 'name' -> 'name'; score=inf (short-circuit or override).\n",
      "2022-10-14T19:29:03.863 [rics.mapping.Mapper.accept.details:DEBUG] This match supersedes 2 other matches:\n",
      "    'name' -> 'title'; score=-inf (superseded by short-circuit or override).\n",
      "    'name' -> 'id'; score=-inf (superseded by short-circuit or override).\n",
      "2022-10-14T19:29:03.864 [rics.mapping.Mapper.unmapped.details:DEBUG] Could not map value='species':\n",
      "    'species' -> 'title'; score=0.000 < 1.0 (below threshold).\n",
      "    'species' -> 'id'; score=0.000 < 1.0 (below threshold).\n",
      "    'species' -> 'name'; score=0.000 < 1.0 (below threshold).\n",
      "2022-10-14T19:29:03.866 [rics.mapping.Mapper.unmapped:DEBUG] Could not map {'species'} in context='humans' to any of candidates={'title', 'id', 'name'}.\n",
      "2022-10-14T19:29:03.868 [rics.mapping.Mapper:DEBUG] Match selection with cardinality='ManyToOne' completed in 0.0192683 sec.\n",
      "2022-10-14T19:29:03.869 [rics.translation.fetching.AbstractFetcher:DEBUG] Placeholder mappings for source='humans': {'title': 'title', 'id': 'id', 'name': 'name', 'species': None}.\n",
      "2022-10-14T19:29:03.877 [rics.translation.fetching.AbstractFetcher:DEBUG] Fetched ('id', 'name', 'title') for 3 IDS from 'FetchInstruction(source='humans', ids={1904, 1999, 1991}, placeholders=('title', 'name', 'id', 'species'), required={'id', 'name'}, all_placeholders=False)' in 0.00722466 sec using PandasFetcher(sources=['humans', 'animals']).\n",
      "2022-10-14T19:29:03.883 [rics.mapping.Mapper:DEBUG] Begin computing match scores for values=('title', 'species', 'id', 'name') in context='animals' to candidates=('species', 'name', 'animal_id') using HeuristicScore([force_lower_case() | smurf_column_heuristic()] -> AbstractFetcher.default_score_function).\n",
      "2022-10-14T19:29:03.893 [rics.mapping.Mapper:DEBUG] Computed 4x3 match scores in 0.00575338 sec:\n",
      "candidates  species  name  animal_id\n",
      "values                              \n",
      "title             0 0.125          0\n",
      "species         inf  -inf       -inf\n",
      "id                0     0          1\n",
      "name           -inf   inf       -inf\n",
      "2022-10-14T19:29:03.899 [rics.mapping.Mapper.accept:DEBUG] Accepted: 'species' -> 'species'; score=inf (short-circuit or override).\n",
      "2022-10-14T19:29:03.900 [rics.mapping.Mapper.accept.details:DEBUG] This match supersedes 2 other matches:\n",
      "    'species' -> 'name'; score=-inf (superseded by short-circuit or override).\n",
      "    'species' -> 'animal_id'; score=-inf (superseded by short-circuit or override).\n",
      "2022-10-14T19:29:03.902 [rics.mapping.Mapper.accept:DEBUG] Accepted: 'name' -> 'name'; score=inf (short-circuit or override).\n",
      "2022-10-14T19:29:03.903 [rics.mapping.Mapper.accept.details:DEBUG] This match supersedes 2 other matches:\n",
      "    'name' -> 'species'; score=-inf (superseded by short-circuit or override).\n",
      "    'name' -> 'animal_id'; score=-inf (superseded by short-circuit or override).\n",
      "2022-10-14T19:29:03.904 [rics.mapping.Mapper.accept:DEBUG] Accepted: 'id' -> 'animal_id'; score=1.000 >= 1.0.\n",
      "2022-10-14T19:29:03.904 [rics.mapping.Mapper.accept.details:DEBUG] This match supersedes 2 other matches:\n",
      "    'id' -> 'species'; score=0.000 < 1.0 (below threshold).\n",
      "    'id' -> 'name'; score=0.000 < 1.0 (below threshold).\n",
      "2022-10-14T19:29:03.907 [rics.mapping.Mapper.unmapped.details:DEBUG] Could not map value='title':\n",
      "    'title' -> 'name'; score=0.125 < 1.0 (below threshold).\n",
      "    'title' -> 'species'; score=0.000 < 1.0 (below threshold).\n",
      "    'title' -> 'animal_id'; score=0.000 < 1.0 (below threshold).\n",
      "2022-10-14T19:29:03.909 [rics.mapping.Mapper.unmapped:DEBUG] Could not map {'title'} in context='animals' to any of candidates={'animal_id', 'name', 'species'}.\n",
      "2022-10-14T19:29:03.910 [rics.mapping.Mapper:DEBUG] Match selection with cardinality='ManyToOne' completed in 0.0130033 sec.\n",
      "2022-10-14T19:29:03.912 [rics.translation.fetching.AbstractFetcher:DEBUG] Placeholder mappings for source='animals': {'species': 'species', 'id': 'animal_id', 'name': 'name', 'title': None}.\n",
      "2022-10-14T19:29:03.918 [rics.translation.fetching.AbstractFetcher:DEBUG] Fetched ('animal_id', 'name', 'species') for 3 IDS from 'FetchInstruction(source='animals', ids={0, 1, 2}, placeholders=('name', 'animal_id', 'species'), required={'name', 'animal_id'}, all_placeholders=False)' in 0.00486831 sec using PandasFetcher(sources=['humans', 'animals']).\n",
      "2022-10-14T19:29:03.921 [rics.translation.Translator:DEBUG] Failed to translate 0.000% of IDs for name='human_id' using source='humans'.\n",
      "2022-10-14T19:29:03.922 [rics.translation.Translator:DEBUG] Failed to translate 0.000% of IDs for name='bitten_by' using source='animals'.\n",
      "2022-10-14T19:29:03.926 [rics.translation.Translator:DEBUG] Verified 8 IDs from 2 different sources in 0.00507118 sec.\n"
     ]
    },
    {
     "data": {
      "text/html": [
       "<div>\n",
       "<style scoped>\n",
       "    .dataframe tbody tr th:only-of-type {\n",
       "        vertical-align: middle;\n",
       "    }\n",
       "\n",
       "    .dataframe tbody tr th {\n",
       "        vertical-align: top;\n",
       "    }\n",
       "\n",
       "    .dataframe thead th {\n",
       "        text-align: right;\n",
       "    }\n",
       "</style>\n",
       "<table border=\"1\" class=\"dataframe\">\n",
       "  <thead>\n",
       "    <tr style=\"text-align: right;\">\n",
       "      <th></th>\n",
       "      <th>human_id</th>\n",
       "      <th>bitten_by</th>\n",
       "    </tr>\n",
       "  </thead>\n",
       "  <tbody>\n",
       "    <tr>\n",
       "      <th>0</th>\n",
       "      <td>Mr. Fred (id=1904)</td>\n",
       "      <td>Morris (id=1) the dog</td>\n",
       "    </tr>\n",
       "    <tr>\n",
       "      <th>1</th>\n",
       "      <td>Mr. Richard (id=1991)</td>\n",
       "      <td>Tarzan (id=0) the cat</td>\n",
       "    </tr>\n",
       "    <tr>\n",
       "      <th>2</th>\n",
       "      <td>Mr. Richard (id=1991)</td>\n",
       "      <td>Simba (id=2) the lion</td>\n",
       "    </tr>\n",
       "    <tr>\n",
       "      <th>3</th>\n",
       "      <td>Dr. Sofia (id=1999)</td>\n",
       "      <td>Tarzan (id=0) the cat</td>\n",
       "    </tr>\n",
       "  </tbody>\n",
       "</table>\n",
       "</div>"
      ],
      "text/plain": [
       "                human_id              bitten_by\n",
       "0     Mr. Fred (id=1904)  Morris (id=1) the dog\n",
       "1  Mr. Richard (id=1991)  Tarzan (id=0) the cat\n",
       "2  Mr. Richard (id=1991)  Simba (id=2) the lion\n",
       "3    Dr. Sofia (id=1999)  Tarzan (id=0) the cat"
      ]
     },
     "execution_count": 5,
     "metadata": {},
     "output_type": "execute_result"
    }
   ],
   "source": [
    "from rics.translation import Translator\n",
    "\n",
    "translated_bite_report = Translator.from_config(\"config.toml\").translate(bite_report)\n",
    "translated_bite_report"
   ]
  },
  {
   "cell_type": "code",
   "execution_count": 6,
   "id": "8a9bd821-980d-43f2-bec9-d2c189d63f2a",
   "metadata": {},
   "outputs": [],
   "source": [
    "assert translated_bite_report.equals(\n",
    "    read_csv(\"biting-victims-2019-05-11-translated.csv\")\n",
    ")"
   ]
  },
  {
   "cell_type": "markdown",
   "id": "aa4ee1f0-99e3-4a12-9249-77c4b55951ba",
   "metadata": {
    "tags": []
   },
   "source": [
    "## Print the config\n",
    "Click [here](config.toml) to download."
   ]
  },
  {
   "cell_type": "code",
   "execution_count": 7,
   "id": "349297b4-bc51-449e-bdbc-746487109156",
   "metadata": {},
   "outputs": [
    {
     "name": "stdout",
     "output_type": "stream",
     "text": [
      "\u001b[38;2;61;123;123;03m################################################################################\u001b[39;00m\n",
      "\u001b[38;2;61;123;123;03m# For help, see https://rics.readthedocs.io                                    #\u001b[39;00m\n",
      "\u001b[38;2;61;123;123;03m################################################################################\u001b[39;00m\n",
      "\u001b[38;2;0;128;0;01m[translator]\u001b[39;00m\n",
      "fmt\u001b[38;2;187;187;187m \u001b[39m\u001b[38;2;102;102;102m=\u001b[39m\u001b[38;2;187;187;187m \u001b[39m\u001b[38;2;186;33;33m\"[{title}. ]{name} (id={id})[ the {species}]\"\u001b[39m\n",
      "\n",
      "\u001b[38;2;61;123;123;03m# ------------------------------------------------------------------------------\u001b[39;00m\n",
      "\u001b[38;2;61;123;123;03m# Name-to-source mapping configuration. Binds names to source, eg 'cute_animals'\u001b[39;00m\n",
      "\u001b[38;2;61;123;123;03m# -> 'my_database.animals'. Overrides take precedence over scoring logic.\u001b[39;00m\n",
      "\u001b[38;2;0;128;0;01m[translator.mapping]\u001b[39;00m\n",
      "score_function\u001b[38;2;102;102;102m=\u001b[39m\u001b[38;2;186;33;33m\"equality\"\u001b[39m\n",
      "\u001b[38;2;0;128;0;01m[[translator.mapping.score_function_heuristics]]\u001b[39;00m\n",
      "function\u001b[38;2;187;187;187m \u001b[39m\u001b[38;2;102;102;102m=\u001b[39m\u001b[38;2;187;187;187m \u001b[39m\u001b[38;2;186;33;33m\"like_database_table\"\u001b[39m\n",
      "\n",
      "\u001b[38;2;0;128;0;01m[translator.mapping.overrides]\u001b[39;00m\n",
      "bitten_by\u001b[38;2;187;187;187m \u001b[39m\u001b[38;2;102;102;102m=\u001b[39m\u001b[38;2;187;187;187m \u001b[39m\u001b[38;2;186;33;33m\"animals\"\u001b[39m\n",
      "\n",
      "\u001b[38;2;61;123;123;03m################################################################################\u001b[39;00m\n",
      "\u001b[38;2;61;123;123;03m# Fetching configuration.\u001b[39;00m\n",
      "\u001b[38;2;61;123;123;03m################################################################################\u001b[39;00m\n",
      "\u001b[38;2;0;128;0;01m[fetching.PandasFetcher]\u001b[39;00m\n",
      "read_function\u001b[38;2;187;187;187m \u001b[39m\u001b[38;2;102;102;102m=\u001b[39m\u001b[38;2;187;187;187m \u001b[39m\u001b[38;2;186;33;33m\"read_csv\"\u001b[39m\n",
      "read_path_format\u001b[38;2;102;102;102m=\u001b[39m\u001b[38;2;187;187;187m \u001b[39m\u001b[38;2;186;33;33m\"./sources/{}.csv\"\u001b[39m\n",
      "\n",
      "\u001b[38;2;61;123;123;03m# ------------------------------------------------------------------------------\u001b[39;00m\n",
      "\u001b[38;2;61;123;123;03m# Placeholder mapping configuration. Binds actual names in sources (such as\u001b[39;00m\n",
      "\u001b[38;2;61;123;123;03m# column names in an SQL table) to wanted names, eg id = 'animal_id'.\u001b[39;00m\n",
      "\u001b[38;2;0;128;0;01m[[fetching.mapping.score_function_heuristics]]\u001b[39;00m\n",
      "function\u001b[38;2;187;187;187m \u001b[39m\u001b[38;2;102;102;102m=\u001b[39m\u001b[38;2;187;187;187m \u001b[39m\u001b[38;2;186;33;33m\"__main__.smurf_column_heuristic\"\u001b[39m\n"
     ]
    }
   ],
   "source": [
    "!pygmentize config.toml"
   ]
  },
  {
   "cell_type": "code",
   "execution_count": null,
   "id": "fe95775c-cbba-4741-b7aa-43a360f5d1cb",
   "metadata": {},
   "outputs": [],
   "source": []
  }
 ],
 "metadata": {
  "kernelspec": {
   "display_name": "Python 3 (ipykernel)",
   "language": "python",
   "name": "python3"
  },
  "language_info": {
   "codemirror_mode": {
    "name": "ipython",
    "version": 3
   },
   "file_extension": ".py",
   "mimetype": "text/x-python",
   "name": "python",
   "nbconvert_exporter": "python",
   "pygments_lexer": "ipython3",
   "version": "3.10.6"
  }
 },
 "nbformat": 4,
 "nbformat_minor": 5
}
