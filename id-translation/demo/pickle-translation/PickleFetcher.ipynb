{
 "cells": [
  {
   "cell_type": "markdown",
   "id": "e186ded6-87a3-440b-8467-dd2b8aa2cbc6",
   "metadata": {},
   "source": [
    "# Fetching data using `PandasFetcher`\n",
    "Translating using pickle files."
   ]
  },
  {
   "cell_type": "code",
   "execution_count": 1,
   "id": "96a95da6-8332-4eb1-a5eb-45cd433f649d",
   "metadata": {
    "execution": {
     "iopub.execute_input": "2023-03-25T10:23:35.025459Z",
     "iopub.status.busy": "2023-03-25T10:23:35.025303Z",
     "iopub.status.idle": "2023-03-25T10:23:35.581982Z",
     "shell.execute_reply": "2023-03-25T10:23:35.581325Z",
     "shell.execute_reply.started": "2023-03-25T10:23:35.025440Z"
    },
    "tags": []
   },
   "outputs": [
    {
     "name": "stdout",
     "output_type": "stream",
     "text": [
      "rics.__version__='3.0.0'\n",
      "id_translation.__version__='0.3.1.dev1'\n",
      "sys.version='3.10.6 (main, Mar 10 2023, 10:55:28) [GCC 11.3.0]'\n",
      "👻 Configured some stuff just the way I like it!\n",
      "\u001b[33md2093a4\u001b[m\u001b[33m (\u001b[m\u001b[1;36mHEAD\u001b[m\u001b[33m, \u001b[m\u001b[1;31morigin/main\u001b[m\u001b[33m, \u001b[m\u001b[1;31morigin/HEAD\u001b[m\u001b[33m, \u001b[m\u001b[1;32mmain\u001b[m\u001b[33m)\u001b[m Update help link in TOML files\n"
     ]
    }
   ],
   "source": [
    "import sys\n",
    "import rics\n",
    "import id_translation\n",
    "\n",
    "# Print relevant versions\n",
    "print(f\"{rics.__version__=}\")\n",
    "print(f\"{id_translation.__version__=}\")\n",
    "print(f\"{sys.version=}\")\n",
    "rics.configure_stuff(rics_level=\"DEBUG\", id_translation_level=\"DEBUG\")\n",
    "!git log --pretty=oneline --abbrev-commit -1"
   ]
  },
  {
   "cell_type": "markdown",
   "id": "7863f401-2150-44e5-bf62-06e6ac249e09",
   "metadata": {},
   "source": [
    "## Make local Pickle files\n",
    "We'lll download data from https://datasets.imdbws.com and clean it to make sure all values are given (which means that for actors are dead and titles have stopped airing)."
   ]
  },
  {
   "cell_type": "code",
   "execution_count": 2,
   "id": "2f4a030e-0a9c-432d-bacd-9d157366e8ca",
   "metadata": {
    "execution": {
     "iopub.execute_input": "2023-03-25T10:23:35.584015Z",
     "iopub.status.busy": "2023-03-25T10:23:35.583560Z",
     "iopub.status.idle": "2023-03-25T10:23:35.587944Z",
     "shell.execute_reply": "2023-03-25T10:23:35.587149Z",
     "shell.execute_reply.started": "2023-03-25T10:23:35.583997Z"
    },
    "tags": []
   },
   "outputs": [],
   "source": [
    "sources = [\"name.basics\", \"title.basics\"]"
   ]
  },
  {
   "cell_type": "code",
   "execution_count": 3,
   "id": "a891db10-da77-44bd-9f43-2756cf12c14c",
   "metadata": {
    "execution": {
     "iopub.execute_input": "2023-03-25T10:23:35.588900Z",
     "iopub.status.busy": "2023-03-25T10:23:35.588755Z",
     "iopub.status.idle": "2023-03-25T10:24:16.146019Z",
     "shell.execute_reply": "2023-03-25T10:24:16.145433Z",
     "shell.execute_reply.started": "2023-03-25T10:23:35.588891Z"
    },
    "tags": []
   },
   "outputs": [
    {
     "name": "stderr",
     "output_type": "stream",
     "text": [
      "2023-03-25T11:23:35.590 [rics.utility.misc.get_local_or_remote:DEBUG] Local file path: '/home/dev/git/id-translation/jupyterlab/id-translation/data-cache/name.basics.tsv.gz'.\n",
      "2023-03-25T11:23:35.591 [rics.utility.misc.get_local_or_remote:DEBUG] Remote file path: 'https://datasets.imdbws.com/name.basics.tsv.gz'.\n",
      "2023-03-25T11:23:35.614 [rics.utility.misc.get_local_or_remote:INFO] Fetching data from 'https://datasets.imdbws.com/name.basics.tsv.gz'..\n"
     ]
    },
    {
     "data": {
      "application/vnd.jupyter.widget-view+json": {
       "model_id": "4949482c001d4aeaa7c433816f87e142",
       "version_major": 2,
       "version_minor": 0
      },
      "text/plain": [
       "https://datasets.imdbws.com/name.basics.tsv.gz:   0%|          | 0.00/232M [00:00<?, ?iB/s]"
      ]
     },
     "metadata": {},
     "output_type": "display_data"
    },
    {
     "name": "stderr",
     "output_type": "stream",
     "text": [
      "2023-03-25T11:23:39.196 [rics.utility.misc.get_local_or_remote:INFO] Local processed file path: '/home/dev/git/id-translation/jupyterlab/id-translation/data-cache/clean_and_fix_ids/name.basics.tsv.pkl'.\n",
      "2023-03-25T11:23:39.197 [rics.utility.misc.get_local_or_remote:INFO] Running clean_and_fix_ids..\n",
      "2023-03-25T11:23:57.322 [rics.utility.misc.get_local_or_remote:INFO] Serializing processed data to '/home/dev/git/id-translation/jupyterlab/id-translation/data-cache/clean_and_fix_ids/name.basics.tsv.pkl'..\n",
      "2023-03-25T11:23:57.433 [rics.utility.misc.get_local_or_remote:DEBUG] Local file path: '/home/dev/git/id-translation/jupyterlab/id-translation/data-cache/title.basics.tsv.gz'.\n",
      "2023-03-25T11:23:57.434 [rics.utility.misc.get_local_or_remote:DEBUG] Remote file path: 'https://datasets.imdbws.com/title.basics.tsv.gz'.\n",
      "2023-03-25T11:23:57.434 [rics.utility.misc.get_local_or_remote:INFO] Fetching data from 'https://datasets.imdbws.com/title.basics.tsv.gz'..\n"
     ]
    },
    {
     "data": {
      "application/vnd.jupyter.widget-view+json": {
       "model_id": "617ec658dccb4cedbd29931dc22d8db9",
       "version_major": 2,
       "version_minor": 0
      },
      "text/plain": [
       "https://datasets.imdbws.com/title.basics.tsv.gz:   0%|          | 0.00/162M [00:00<?, ?iB/s]"
      ]
     },
     "metadata": {},
     "output_type": "display_data"
    },
    {
     "name": "stderr",
     "output_type": "stream",
     "text": [
      "2023-03-25T11:23:59.305 [rics.utility.misc.get_local_or_remote:INFO] Local processed file path: '/home/dev/git/id-translation/jupyterlab/id-translation/data-cache/clean_and_fix_ids/title.basics.tsv.pkl'.\n",
      "2023-03-25T11:23:59.306 [rics.utility.misc.get_local_or_remote:INFO] Running clean_and_fix_ids..\n",
      "/home/dev/git/id-translation/jupyterlab/id-translation/data.py:36: DtypeWarning: Columns (4) have mixed types. Specify dtype option on import or set low_memory=False.\n",
      "  df = pd.read_csv(input_path, sep=\"\\t\", header=0, engine=\"c\")\n",
      "2023-03-25T11:24:16.107 [rics.utility.misc.get_local_or_remote:INFO] Serializing processed data to '/home/dev/git/id-translation/jupyterlab/id-translation/data-cache/clean_and_fix_ids/title.basics.tsv.pkl'..\n"
     ]
    }
   ],
   "source": [
    "from data import load_imdb\n",
    "\n",
    "for dataset in sources:\n",
    "    load_imdb(dataset)"
   ]
  },
  {
   "cell_type": "markdown",
   "id": "0e6e444c-365b-402d-b166-d6c23361cdde",
   "metadata": {},
   "source": [
    "## Create translator from config\n",
    "Click [here](config.toml) to see the file."
   ]
  },
  {
   "cell_type": "code",
   "execution_count": 4,
   "id": "3be58de5-3ff5-4293-91cb-f75f9c32865f",
   "metadata": {
    "execution": {
     "iopub.execute_input": "2023-03-25T10:24:16.147058Z",
     "iopub.status.busy": "2023-03-25T10:24:16.146822Z",
     "iopub.status.idle": "2023-03-25T10:24:16.220228Z",
     "shell.execute_reply": "2023-03-25T10:24:16.219478Z",
     "shell.execute_reply.started": "2023-03-25T10:24:16.147042Z"
    },
    "tags": []
   },
   "outputs": [
    {
     "name": "stderr",
     "output_type": "stream",
     "text": [
      "2023-03-25T11:24:16.151 [id_translation.fetching.config-toml.pandas.discovery:DEBUG] Sources initialized: ['name.basics', 'title.basics']\n"
     ]
    },
    {
     "data": {
      "text/plain": [
       "Translator(online=True: fetcher=PandasFetcher(sources=['name.basics', 'title.basics']))"
      ]
     },
     "execution_count": 4,
     "metadata": {},
     "output_type": "execute_result"
    }
   ],
   "source": [
    "from id_translation import Translator\n",
    "\n",
    "translator = Translator.from_config(\"config.toml\")\n",
    "translator"
   ]
  },
  {
   "cell_type": "code",
   "execution_count": 5,
   "id": "2cd2c5f3-b624-4578-bd44-4ceddc16af3e",
   "metadata": {
    "execution": {
     "iopub.execute_input": "2023-03-25T10:24:16.220740Z",
     "iopub.status.busy": "2023-03-25T10:24:16.220614Z",
     "iopub.status.idle": "2023-03-25T10:24:16.491528Z",
     "shell.execute_reply": "2023-03-25T10:24:16.490873Z",
     "shell.execute_reply.started": "2023-03-25T10:24:16.220731Z"
    }
   },
   "outputs": [
    {
     "name": "stderr",
     "output_type": "stream",
     "text": [
      "2023-03-25T11:24:16.262 [id_translation.fetching.config-toml:DEBUG] Begin wanted-to-actual placeholder mapping of placeholders={'id', 'to', 'from', 'name'} to actual placeholders={'nconst', 'int_id_nconst', 'knownForTitles', 'deathYear', 'primaryName', 'primaryProfession', 'birthYear'} for source='name.basics'.\n",
      "2023-03-25T11:24:16.263 [id_translation.mapping.placeholders.config-toml:DEBUG] Begin computing match scores in context='name.basics' for ['id', 'to', 'from', 'name']x['nconst', 'int_id_nconst', 'knownForTitles', 'deathYear', 'primaryName', 'primaryProfession', 'birthYear'] using HeuristicScore([force_lower_case()] -> AbstractFetcher.default_score_function).\n",
      "2023-03-25T11:24:16.264 [id_translation.mapping.placeholders.config-toml:DEBUG] All values mapped by overrides. Applied 2 overrides, and found 4 matches={'id': 'nconst', 'to': 'deathYear', 'from': 'birthYear', 'name': 'primaryName'} in the given values=['id', 'to', 'from', 'name'].\n",
      "2023-03-25T11:24:16.266 [id_translation.fetching.config-toml:DEBUG] Finished wanted-to-actual placeholder mapping of placeholders={'id', 'to', 'from', 'name'} to actual placeholders={'nconst', 'int_id_nconst', 'knownForTitles', 'deathYear', 'primaryName', 'primaryProfession', 'birthYear'} for source='name.basics': {'id': ('nconst',), 'to': ('deathYear',), 'from': ('birthYear',), 'name': ('primaryName',)}.\n",
      "2023-03-25T11:24:16.266 [id_translation.fetching.config-toml:DEBUG] Begin wanted-to-actual placeholder mapping of placeholders={'id', 'to', 'from', 'name'} to actual placeholders={'startYear', 'titleType', 'int_id_tconst', 'tconst', 'runtimeMinutes', 'isAdult', 'primaryTitle', 'endYear', 'genres', 'originalTitle'} for source='title.basics'.\n",
      "2023-03-25T11:24:16.267 [id_translation.mapping.placeholders.config-toml:DEBUG] Begin computing match scores in context='title.basics' for ['id', 'to', 'from', 'name']x['startYear', 'titleType', 'int_id_tconst', 'tconst', 'runtimeMinutes', 'isAdult', 'primaryTitle', 'endYear', 'genres', 'originalTitle'] using HeuristicScore([force_lower_case()] -> AbstractFetcher.default_score_function).\n",
      "2023-03-25T11:24:16.268 [id_translation.mapping.placeholders.config-toml:DEBUG] All values mapped by overrides. Applied 2 overrides, and found 4 matches={'id': 'tconst', 'to': 'endYear', 'from': 'startYear', 'name': 'primaryTitle'} in the given values=['id', 'to', 'from', 'name'].\n",
      "2023-03-25T11:24:16.270 [id_translation.fetching.config-toml:DEBUG] Finished wanted-to-actual placeholder mapping of placeholders={'id', 'to', 'from', 'name'} to actual placeholders={'startYear', 'titleType', 'int_id_tconst', 'tconst', 'runtimeMinutes', 'isAdult', 'primaryTitle', 'endYear', 'genres', 'originalTitle'} for source='title.basics': {'id': ('tconst',), 'to': ('endYear',), 'from': ('startYear',), 'name': ('primaryTitle',)}.\n",
      "2023-03-25T11:24:16.270 [id_translation.fetching.config-toml:DEBUG] Begin wanted-to-actual placeholder mapping of placeholders={'original_name'} to actual placeholders={'nconst', 'int_id_nconst', 'knownForTitles', 'deathYear', 'primaryName', 'primaryProfession', 'birthYear'} for source='name.basics'.\n",
      "2023-03-25T11:24:16.270 [id_translation.mapping.placeholders.config-toml:DEBUG] Begin computing match scores in context='name.basics' for ['original_name']x['nconst', 'int_id_nconst', 'knownForTitles', 'deathYear', 'primaryName', 'primaryProfession', 'birthYear'] using HeuristicScore([force_lower_case()] -> AbstractFetcher.default_score_function).\n",
      "2023-03-25T11:24:16.271 [id_translation.mapping.placeholders.config-toml:DEBUG] Applied 2 overrides, but none were a match for the given values=['original_name'].\n",
      "2023-03-25T11:24:16.273 [id_translation.fetching.config-toml:DEBUG] Finished wanted-to-actual placeholder mapping of placeholders={'original_name'} to actual placeholders={'nconst', 'int_id_nconst', 'knownForTitles', 'deathYear', 'primaryName', 'primaryProfession', 'birthYear'} for source='name.basics': {}.\n",
      "2023-03-25T11:24:16.273 [id_translation.fetching.config-toml:DEBUG] Begin fetching placeholders=('id', 'name', 'original_name', 'from', 'to') from source='name.basics' for all IDs.\n",
      "2023-03-25T11:24:16.411 [id_translation.fetching.config-toml:DEBUG] Finished fetching placeholders=('nconst', 'primaryName', 'birthYear', 'deathYear', 'primaryProfession', 'knownForTitles', 'int_id_nconst') for 172326 IDs from source 'name.basics' in 0.13715 sec using PandasFetcher(sources=['name.basics', 'title.basics']).\n",
      "2023-03-25T11:24:16.412 [id_translation.fetching.config-toml:DEBUG] Begin wanted-to-actual placeholder mapping of placeholders={'original_name'} to actual placeholders={'startYear', 'titleType', 'int_id_tconst', 'tconst', 'runtimeMinutes', 'isAdult', 'primaryTitle', 'endYear', 'genres', 'originalTitle'} for source='title.basics'.\n",
      "2023-03-25T11:24:16.412 [id_translation.mapping.placeholders.config-toml:DEBUG] Begin computing match scores in context='title.basics' for ['original_name']x['startYear', 'titleType', 'int_id_tconst', 'tconst', 'runtimeMinutes', 'isAdult', 'primaryTitle', 'endYear', 'genres', 'originalTitle'] using HeuristicScore([force_lower_case()] -> AbstractFetcher.default_score_function).\n",
      "2023-03-25T11:24:16.413 [id_translation.mapping.placeholders.config-toml:DEBUG] All values mapped by overrides. Applied 2 overrides, and found 1 matches={'original_name': 'originalTitle'} in the given values=['original_name'].\n",
      "2023-03-25T11:24:16.415 [id_translation.fetching.config-toml:DEBUG] Finished wanted-to-actual placeholder mapping of placeholders={'original_name'} to actual placeholders={'startYear', 'titleType', 'int_id_tconst', 'tconst', 'runtimeMinutes', 'isAdult', 'primaryTitle', 'endYear', 'genres', 'originalTitle'} for source='title.basics': {'original_name': ('originalTitle',)}.\n",
      "2023-03-25T11:24:16.416 [id_translation.fetching.config-toml:DEBUG] Begin fetching placeholders=('id', 'name', 'original_name', 'from', 'to') from source='title.basics' for all IDs.\n",
      "2023-03-25T11:24:16.488 [id_translation.fetching.config-toml:DEBUG] Finished fetching placeholders=('tconst', 'titleType', 'primaryTitle', 'originalTitle', 'isAdult', 'startYear', 'endYear', 'runtimeMinutes', 'genres', 'int_id_tconst') for 48979 IDs from source 'title.basics' in 0.0710693 sec using PandasFetcher(sources=['name.basics', 'title.basics']).\n",
      "2023-03-25T11:24:16.488 [id_translation.Translator:INFO] Created Translator(online=False: cache=TranslationMap('title.basics': 48979 IDs, 'name.basics': 172326 IDs)) in 0.267461 sec.\n"
     ]
    }
   ],
   "source": [
    "tmap = translator.store().cache"
   ]
  },
  {
   "cell_type": "code",
   "execution_count": 6,
   "id": "96bc9fd2-3c20-49b4-80cb-57b60467595d",
   "metadata": {
    "execution": {
     "iopub.execute_input": "2023-03-25T10:24:16.492359Z",
     "iopub.status.busy": "2023-03-25T10:24:16.492210Z",
     "iopub.status.idle": "2023-03-25T10:24:16.762567Z",
     "shell.execute_reply": "2023-03-25T10:24:16.762110Z",
     "shell.execute_reply.started": "2023-03-25T10:24:16.492344Z"
    },
    "tags": []
   },
   "outputs": [
    {
     "name": "stdout",
     "output_type": "stream",
     "text": [
      "Translations for source='title.basics';\n",
      "    'tt0035803' -> 'tt0035803:The German Weekly Review (original: Die Deutsche Wochenschau) *1940†1945'\n",
      "    'tt0038276' -> 'tt0038276:You Are an Artist (original: You Are an Artist) *1946†1955'\n",
      "    'tt0039120' -> 'tt0039120:Americana (original: Americana) *1947†1949'\n",
      "Translations for source='name.basics';\n",
      "    'nm0000001' -> 'nm0000001:Fred Astaire *1899†1987'\n",
      "    'nm0000002' -> 'nm0000002:Lauren Bacall *1924†2014'\n",
      "    'nm0000004' -> 'nm0000004:John Belushi *1949†1982'\n"
     ]
    }
   ],
   "source": [
    "for source in tmap:\n",
    "    translations = tmap[source]\n",
    "    print(f\"Translations for {source=};\")\n",
    "    for i, (idx, translation) in enumerate(tmap[source].items()):\n",
    "        print(f\"    {repr(idx)} -> {repr(translation)}\")\n",
    "        if i == 2:\n",
    "            break"
   ]
  },
  {
   "cell_type": "code",
   "execution_count": null,
   "id": "de2d45f1-da91-4cb1-a32d-66addfe70da1",
   "metadata": {},
   "outputs": [],
   "source": []
  }
 ],
 "metadata": {
  "kernelspec": {
   "display_name": "Python 3 (ipykernel)",
   "language": "python",
   "name": "python3"
  },
  "language_info": {
   "codemirror_mode": {
    "name": "ipython",
    "version": 3
   },
   "file_extension": ".py",
   "mimetype": "text/x-python",
   "name": "python",
   "nbconvert_exporter": "python",
   "pygments_lexer": "ipython3",
   "version": "3.10.6"
  }
 },
 "nbformat": 4,
 "nbformat_minor": 5
}
