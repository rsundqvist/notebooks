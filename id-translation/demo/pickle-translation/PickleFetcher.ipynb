{
 "cells": [
  {
   "cell_type": "markdown",
   "id": "e186ded6-87a3-440b-8467-dd2b8aa2cbc6",
   "metadata": {},
   "source": [
    "# Fetching data using `PandasFetcher`\n",
    "Translating using pickle files."
   ]
  },
  {
   "cell_type": "code",
   "execution_count": 1,
   "id": "96a95da6-8332-4eb1-a5eb-45cd433f649d",
   "metadata": {
    "execution": {
     "iopub.execute_input": "2022-11-26T14:36:51.487436Z",
     "iopub.status.busy": "2022-11-26T14:36:51.463915Z",
     "iopub.status.idle": "2022-11-26T14:36:53.495559Z",
     "shell.execute_reply": "2022-11-26T14:36:53.487437Z",
     "shell.execute_reply.started": "2022-11-26T14:36:51.475515Z"
    },
    "tags": []
   },
   "outputs": [
    {
     "name": "stdout",
     "output_type": "stream",
     "text": [
      "rics.__version__='0.17.0.dev1'\n",
      "id_translation.__version__='0.1.0.dev0'\n",
      "sys.version='3.10.6 (main, Nov  2 2022, 18:53:38) [GCC 11.3.0]'\n",
      "\u001b[33m1ba612a\u001b[m\u001b[33m (\u001b[m\u001b[1;36mHEAD -> \u001b[m\u001b[1;32mmain\u001b[m\u001b[33m, \u001b[m\u001b[1;31morigin/main\u001b[m\u001b[33m, \u001b[m\u001b[1;31morigin/HEAD\u001b[m\u001b[33m)\u001b[m Spelling and formatting\n"
     ]
    }
   ],
   "source": [
    "import sys\n",
    "import rics\n",
    "import id_translation\n",
    "\n",
    "# Print relevant versions\n",
    "print(f\"{rics.__version__=}\")\n",
    "print(f\"{id_translation.__version__=}\")\n",
    "print(f\"{sys.version=}\")\n",
    "!git log --pretty=oneline --abbrev-commit -1"
   ]
  },
  {
   "cell_type": "code",
   "execution_count": 2,
   "id": "ac64b5fe-c822-4e37-80f3-deaac73a6869",
   "metadata": {
    "execution": {
     "iopub.execute_input": "2022-11-26T14:36:53.503966Z",
     "iopub.status.busy": "2022-11-26T14:36:53.503566Z",
     "iopub.status.idle": "2022-11-26T14:36:53.567380Z",
     "shell.execute_reply": "2022-11-26T14:36:53.555409Z",
     "shell.execute_reply.started": "2022-11-26T14:36:53.503944Z"
    },
    "tags": []
   },
   "outputs": [],
   "source": [
    "from rics.utility.logs import basic_config, logging\n",
    "\n",
    "basic_config(\n",
    "    level=logging.INFO, rics_level=logging.DEBUG, id_translation_level=logging.DEBUG\n",
    ")"
   ]
  },
  {
   "cell_type": "markdown",
   "id": "7863f401-2150-44e5-bf62-06e6ac249e09",
   "metadata": {},
   "source": [
    "## Make local Pickle files\n",
    "We'lll download data from https://datasets.imdbws.com and clean it to make sure all values are given (which means that for actors are dead and titles have stopped airing)."
   ]
  },
  {
   "cell_type": "code",
   "execution_count": 3,
   "id": "2f4a030e-0a9c-432d-bacd-9d157366e8ca",
   "metadata": {
    "execution": {
     "iopub.execute_input": "2022-11-26T14:36:53.567989Z",
     "iopub.status.busy": "2022-11-26T14:36:53.567867Z",
     "iopub.status.idle": "2022-11-26T14:36:53.631427Z",
     "shell.execute_reply": "2022-11-26T14:36:53.615589Z",
     "shell.execute_reply.started": "2022-11-26T14:36:53.567979Z"
    }
   },
   "outputs": [],
   "source": [
    "sources = [\"name.basics\", \"title.basics\"]"
   ]
  },
  {
   "cell_type": "code",
   "execution_count": 4,
   "id": "a891db10-da77-44bd-9f43-2756cf12c14c",
   "metadata": {
    "execution": {
     "iopub.execute_input": "2022-11-26T14:36:53.651853Z",
     "iopub.status.busy": "2022-11-26T14:36:53.651681Z",
     "iopub.status.idle": "2022-11-26T14:45:11.307371Z",
     "shell.execute_reply": "2022-11-26T14:45:11.275363Z",
     "shell.execute_reply.started": "2022-11-26T14:36:53.651840Z"
    },
    "tags": []
   },
   "outputs": [
    {
     "name": "stderr",
     "output_type": "stream",
     "text": [
      "2022-11-26T15:36:53.703 [rics.utility.misc.get_local_or_remote:DEBUG] Local file path: '/home/dev/git/id-translation/jupyterlab/id-translation/data-cache/name.basics.tsv.gz'.\n",
      "2022-11-26T15:36:53.723 [rics.utility.misc.get_local_or_remote:DEBUG] Remote file path: 'https://datasets.imdbws.com/name.basics.tsv.gz'.\n",
      "2022-11-26T15:36:53.947 [rics.utility.misc.get_local_or_remote:INFO] Fetching data from 'https://datasets.imdbws.com/name.basics.tsv.gz'..\n"
     ]
    },
    {
     "data": {
      "application/vnd.jupyter.widget-view+json": {
       "model_id": "0e5412d86226437681fb1365389b479a",
       "version_major": 2,
       "version_minor": 0
      },
      "text/plain": [
       "https://datasets.imdbws.com/name.basics.tsv.gz:   0%|          | 0.00/226M [00:00<?, ?iB/s]"
      ]
     },
     "metadata": {},
     "output_type": "display_data"
    },
    {
     "name": "stderr",
     "output_type": "stream",
     "text": [
      "2022-11-26T15:37:16.023 [rics.utility.misc.get_local_or_remote:INFO] Local processed file path: '/home/dev/git/id-translation/jupyterlab/id-translation/data-cache/clean_and_fix_ids/name.basics.tsv.pkl'.\n",
      "2022-11-26T15:37:16.027 [rics.utility.misc.get_local_or_remote:INFO] Running clean_and_fix_ids..\n",
      "2022-11-26T15:40:42.551 [rics.utility.misc.get_local_or_remote:INFO] Serializing processed data to '/home/dev/git/id-translation/jupyterlab/id-translation/data-cache/clean_and_fix_ids/name.basics.tsv.pkl'..\n",
      "2022-11-26T15:40:43.959 [rics.utility.misc.get_local_or_remote:DEBUG] Local file path: '/home/dev/git/id-translation/jupyterlab/id-translation/data-cache/title.basics.tsv.gz'.\n",
      "2022-11-26T15:40:43.979 [rics.utility.misc.get_local_or_remote:DEBUG] Remote file path: 'https://datasets.imdbws.com/title.basics.tsv.gz'.\n",
      "2022-11-26T15:40:43.991 [rics.utility.misc.get_local_or_remote:INFO] Fetching data from 'https://datasets.imdbws.com/title.basics.tsv.gz'..\n"
     ]
    },
    {
     "data": {
      "application/vnd.jupyter.widget-view+json": {
       "model_id": "3430698b7eab4d5da5fcbda1422633f2",
       "version_major": 2,
       "version_minor": 0
      },
      "text/plain": [
       "https://datasets.imdbws.com/title.basics.tsv.gz:   0%|          | 0.00/157M [00:00<?, ?iB/s]"
      ]
     },
     "metadata": {},
     "output_type": "display_data"
    },
    {
     "name": "stderr",
     "output_type": "stream",
     "text": [
      "2022-11-26T15:41:05.423 [rics.utility.misc.get_local_or_remote:INFO] Local processed file path: '/home/dev/git/id-translation/jupyterlab/id-translation/data-cache/clean_and_fix_ids/title.basics.tsv.pkl'.\n",
      "2022-11-26T15:41:05.447 [rics.utility.misc.get_local_or_remote:INFO] Running clean_and_fix_ids..\n",
      "/home/dev/git/id-translation/jupyterlab/id-translation/data.py:37: DtypeWarning: Columns (4) have mixed types. Specify dtype option on import or set low_memory=False.\n",
      "  df = pd.read_csv(input_path, sep=\"\\t\", header=0, engine=\"c\")\n",
      "2022-11-26T15:45:10.719 [rics.utility.misc.get_local_or_remote:INFO] Serializing processed data to '/home/dev/git/id-translation/jupyterlab/id-translation/data-cache/clean_and_fix_ids/title.basics.tsv.pkl'..\n"
     ]
    }
   ],
   "source": [
    "from data import load_imdb\n",
    "\n",
    "for dataset in sources:\n",
    "    load_imdb(dataset)"
   ]
  },
  {
   "cell_type": "markdown",
   "id": "0e6e444c-365b-402d-b166-d6c23361cdde",
   "metadata": {},
   "source": [
    "## Create translator from config\n",
    "Click [here](config.toml) to see the file."
   ]
  },
  {
   "cell_type": "code",
   "execution_count": 5,
   "id": "3be58de5-3ff5-4293-91cb-f75f9c32865f",
   "metadata": {
    "execution": {
     "iopub.execute_input": "2022-11-26T14:45:11.315559Z",
     "iopub.status.busy": "2022-11-26T14:45:11.315373Z",
     "iopub.status.idle": "2022-11-26T14:45:11.571376Z",
     "shell.execute_reply": "2022-11-26T14:45:11.547405Z",
     "shell.execute_reply.started": "2022-11-26T14:45:11.315544Z"
    },
    "tags": []
   },
   "outputs": [
    {
     "data": {
      "text/plain": [
       "Translator(online=True: fetcher=PandasFetcher(sources=['name.basics', 'title.basics']))"
      ]
     },
     "execution_count": 5,
     "metadata": {},
     "output_type": "execute_result"
    }
   ],
   "source": [
    "from id_translation import Translator\n",
    "\n",
    "translator = Translator.from_config(\"config.toml\")\n",
    "translator"
   ]
  },
  {
   "cell_type": "code",
   "execution_count": 6,
   "id": "2cd2c5f3-b624-4578-bd44-4ceddc16af3e",
   "metadata": {
    "execution": {
     "iopub.execute_input": "2022-11-26T14:45:11.591407Z",
     "iopub.status.busy": "2022-11-26T14:45:11.579632Z",
     "iopub.status.idle": "2022-11-26T14:45:17.031349Z",
     "shell.execute_reply": "2022-11-26T14:45:16.991348Z",
     "shell.execute_reply.started": "2022-11-26T14:45:11.579803Z"
    }
   },
   "outputs": [
    {
     "name": "stderr",
     "output_type": "stream",
     "text": [
      "2022-11-26T15:45:12.239 [rics.mapping.Mapper:DEBUG] Begin computing match scores for values=('name', 'to', 'original_name', 'from', 'id') in context='name.basics' to candidates=('primaryName', 'deathYear', 'int_id_nconst', 'knownForTitles', 'primaryProfession', 'birthYear', 'nconst') using HeuristicScore([force_lower_case()] -> AbstractFetcher.default_score_function).\n",
      "2022-11-26T15:45:12.323 [rics.mapping.Mapper:DEBUG] Computed 5x7 match scores in 0.0200166 sec:\n",
      "candidates     primaryName  deathYear  int_id_nconst  knownForTitles  primaryProfession  birthYear  nconst\n",
      "values                                                                                                    \n",
      "name                   inf       -inf           -inf            -inf               -inf       -inf    -inf\n",
      "to                    -inf        inf           -inf            -inf               -inf       -inf    -inf\n",
      "original_name     0.181818   0.022222       0.076923             0.0           0.015385        0.0     0.0\n",
      "from                  -inf       -inf           -inf            -inf               -inf        inf    -inf\n",
      "id                    -inf       -inf           -inf            -inf               -inf       -inf     inf\n",
      "2022-11-26T15:45:13.903 [rics.mapping.Mapper.accept:DEBUG] Accepted: 'name' -> 'primaryName'; score=inf (short-circuit or override).\n",
      "2022-11-26T15:45:13.919 [rics.mapping.Mapper.accept.details:DEBUG] This match supersedes 6 other matches:\n",
      "    'name' -> 'int_id_nconst'; score=-inf (superseded by short-circuit or override).\n",
      "    'name' -> 'nconst'; score=-inf (superseded by short-circuit or override).\n",
      "    'name' -> 'birthYear'; score=-inf (superseded by short-circuit or override).\n",
      "    'name' -> 'deathYear'; score=-inf (superseded by short-circuit or override).\n",
      "    'name' -> 'knownForTitles'; score=-inf (superseded by short-circuit or override).\n",
      "    'name' -> 'primaryProfession'; score=-inf (superseded by short-circuit or override).\n",
      "2022-11-26T15:45:13.935 [rics.mapping.Mapper.accept:DEBUG] Accepted: 'to' -> 'deathYear'; score=inf (short-circuit or override).\n",
      "2022-11-26T15:45:13.963 [rics.mapping.Mapper.accept.details:DEBUG] This match supersedes 6 other matches:\n",
      "    'to' -> 'primaryProfession'; score=-inf (superseded by short-circuit or override).\n",
      "    'to' -> 'birthYear'; score=-inf (superseded by short-circuit or override).\n",
      "    'to' -> 'primaryName'; score=-inf (superseded by short-circuit or override).\n",
      "    'to' -> 'int_id_nconst'; score=-inf (superseded by short-circuit or override).\n",
      "    'to' -> 'knownForTitles'; score=-inf (superseded by short-circuit or override).\n",
      "    'to' -> 'nconst'; score=-inf (superseded by short-circuit or override).\n",
      "2022-11-26T15:45:14.019 [rics.mapping.Mapper.accept:DEBUG] Accepted: 'from' -> 'birthYear'; score=inf (short-circuit or override).\n",
      "2022-11-26T15:45:14.075 [rics.mapping.Mapper.accept.details:DEBUG] This match supersedes 6 other matches:\n",
      "    'from' -> 'nconst'; score=-inf (superseded by short-circuit or override).\n",
      "    'from' -> 'primaryProfession'; score=-inf (superseded by short-circuit or override).\n",
      "    'from' -> 'knownForTitles'; score=-inf (superseded by short-circuit or override).\n",
      "    'from' -> 'int_id_nconst'; score=-inf (superseded by short-circuit or override).\n",
      "    'from' -> 'deathYear'; score=-inf (superseded by short-circuit or override).\n",
      "    'from' -> 'primaryName'; score=-inf (superseded by short-circuit or override).\n",
      "2022-11-26T15:45:14.095 [rics.mapping.Mapper.accept:DEBUG] Accepted: 'id' -> 'nconst'; score=inf (short-circuit or override).\n",
      "2022-11-26T15:45:14.107 [rics.mapping.Mapper.accept.details:DEBUG] This match supersedes 6 other matches:\n",
      "    'id' -> 'birthYear'; score=-inf (superseded by short-circuit or override).\n",
      "    'id' -> 'primaryProfession'; score=-inf (superseded by short-circuit or override).\n",
      "    'id' -> 'knownForTitles'; score=-inf (superseded by short-circuit or override).\n",
      "    'id' -> 'int_id_nconst'; score=-inf (superseded by short-circuit or override).\n",
      "    'id' -> 'deathYear'; score=-inf (superseded by short-circuit or override).\n",
      "    'id' -> 'primaryName'; score=-inf (superseded by short-circuit or override).\n",
      "2022-11-26T15:45:14.119 [rics.mapping.Mapper.unmapped.details:DEBUG] Could not map value='original_name':\n",
      "    'original_name' -> 'primaryName'; score=0.182 < 1.0 (below threshold).\n",
      "    'original_name' -> 'int_id_nconst'; score=0.077 < 1.0 (below threshold).\n",
      "    'original_name' -> 'deathYear'; score=0.022 < 1.0 (below threshold).\n",
      "    'original_name' -> 'primaryProfession'; score=0.015 < 1.0 (below threshold).\n",
      "    'original_name' -> 'birthYear'; score=0.000 < 1.0 (below threshold).\n",
      "    'original_name' -> 'nconst'; score=0.000 < 1.0 (below threshold).\n",
      "    'original_name' -> 'knownForTitles'; score=0.000 < 1.0 (below threshold).\n",
      "2022-11-26T15:45:14.131 [rics.mapping.Mapper.unmapped:DEBUG] Could not map {'original_name'} in context='name.basics' to any of candidates={'primaryName', 'deathYear', 'int_id_nconst', 'nconst', 'primaryProfession', 'birthYear', 'knownForTitles'}.\n",
      "2022-11-26T15:45:14.147 [rics.mapping.Mapper:DEBUG] Match selection with cardinality='ManyToOne' completed in 1.81 sec.\n",
      "2022-11-26T15:45:15.483 [rics.mapping.Mapper:DEBUG] Begin computing match scores for values=('name', 'to', 'original_name', 'from', 'id') in context='title.basics' to candidates=('originalTitle', 'int_id_tconst', 'titleType', 'isAdult', 'genres', 'tconst', 'runtimeMinutes', 'startYear', 'primaryTitle', 'endYear') using HeuristicScore([force_lower_case()] -> AbstractFetcher.default_score_function).\n",
      "2022-11-26T15:45:15.531 [rics.mapping.Mapper:DEBUG] Computed 5x10 match scores in 0.0164577 sec:\n",
      "candidates     originalTitle  int_id_tconst  titleType  isAdult  genres  tconst  runtimeMinutes  startYear  primaryTitle  endYear\n",
      "values                                                                                                                           \n",
      "name                    -inf           -inf       -inf     -inf    -inf    -inf            -inf       -inf           inf     -inf\n",
      "to                      -inf           -inf       -inf     -inf    -inf    -inf            -inf       -inf          -inf      inf\n",
      "original_name            inf           -inf       -inf     -inf    -inf    -inf            -inf       -inf          -inf     -inf\n",
      "from                    -inf           -inf       -inf     -inf    -inf    -inf            -inf        inf          -inf     -inf\n",
      "id                      -inf           -inf       -inf     -inf    -inf     inf            -inf       -inf          -inf     -inf\n",
      "2022-11-26T15:45:15.567 [rics.mapping.Mapper.accept:DEBUG] Accepted: 'from' -> 'startYear'; score=inf (short-circuit or override).\n",
      "2022-11-26T15:45:15.599 [rics.mapping.Mapper.accept.details:DEBUG] This match supersedes 9 other matches:\n",
      "    'from' -> 'originalTitle'; score=-inf (superseded by short-circuit or override).\n",
      "    'from' -> 'int_id_tconst'; score=-inf (superseded by short-circuit or override).\n",
      "    'from' -> 'titleType'; score=-inf (superseded by short-circuit or override).\n",
      "    'from' -> 'isAdult'; score=-inf (superseded by short-circuit or override).\n",
      "    'from' -> 'genres'; score=-inf (superseded by short-circuit or override).\n",
      "    'from' -> 'tconst'; score=-inf (superseded by short-circuit or override).\n",
      "    'from' -> 'runtimeMinutes'; score=-inf (superseded by short-circuit or override).\n",
      "    'from' -> 'primaryTitle'; score=-inf (superseded by short-circuit or override).\n",
      "    'from' -> 'endYear'; score=-inf (superseded by short-circuit or override).\n",
      "2022-11-26T15:45:15.611 [rics.mapping.Mapper.accept:DEBUG] Accepted: 'id' -> 'tconst'; score=inf (short-circuit or override).\n",
      "2022-11-26T15:45:15.623 [rics.mapping.Mapper.accept.details:DEBUG] This match supersedes 9 other matches:\n",
      "    'id' -> 'originalTitle'; score=-inf (superseded by short-circuit or override).\n",
      "    'id' -> 'int_id_tconst'; score=-inf (superseded by short-circuit or override).\n",
      "    'id' -> 'titleType'; score=-inf (superseded by short-circuit or override).\n",
      "    'id' -> 'isAdult'; score=-inf (superseded by short-circuit or override).\n",
      "    'id' -> 'genres'; score=-inf (superseded by short-circuit or override).\n",
      "    'id' -> 'runtimeMinutes'; score=-inf (superseded by short-circuit or override).\n",
      "    'id' -> 'startYear'; score=-inf (superseded by short-circuit or override).\n",
      "    'id' -> 'primaryTitle'; score=-inf (superseded by short-circuit or override).\n",
      "    'id' -> 'endYear'; score=-inf (superseded by short-circuit or override).\n",
      "2022-11-26T15:45:15.639 [rics.mapping.Mapper.accept:DEBUG] Accepted: 'original_name' -> 'originalTitle'; score=inf (short-circuit or override).\n",
      "2022-11-26T15:45:15.651 [rics.mapping.Mapper.accept.details:DEBUG] This match supersedes 9 other matches:\n",
      "    'original_name' -> 'endYear'; score=-inf (superseded by short-circuit or override).\n",
      "    'original_name' -> 'startYear'; score=-inf (superseded by short-circuit or override).\n",
      "    'original_name' -> 'primaryTitle'; score=-inf (superseded by short-circuit or override).\n",
      "    'original_name' -> 'tconst'; score=-inf (superseded by short-circuit or override).\n",
      "    'original_name' -> 'runtimeMinutes'; score=-inf (superseded by short-circuit or override).\n",
      "    'original_name' -> 'int_id_tconst'; score=-inf (superseded by short-circuit or override).\n",
      "    'original_name' -> 'titleType'; score=-inf (superseded by short-circuit or override).\n",
      "    'original_name' -> 'isAdult'; score=-inf (superseded by short-circuit or override).\n",
      "    'original_name' -> 'genres'; score=-inf (superseded by short-circuit or override).\n",
      "2022-11-26T15:45:15.659 [rics.mapping.Mapper.accept:DEBUG] Accepted: 'name' -> 'primaryTitle'; score=inf (short-circuit or override).\n",
      "2022-11-26T15:45:15.671 [rics.mapping.Mapper.accept.details:DEBUG] This match supersedes 9 other matches:\n",
      "    'name' -> 'originalTitle'; score=-inf (superseded by short-circuit or override).\n",
      "    'name' -> 'titleType'; score=-inf (superseded by short-circuit or override).\n",
      "    'name' -> 'isAdult'; score=-inf (superseded by short-circuit or override).\n",
      "    'name' -> 'genres'; score=-inf (superseded by short-circuit or override).\n",
      "    'name' -> 'tconst'; score=-inf (superseded by short-circuit or override).\n",
      "    'name' -> 'runtimeMinutes'; score=-inf (superseded by short-circuit or override).\n",
      "    'name' -> 'startYear'; score=-inf (superseded by short-circuit or override).\n",
      "    'name' -> 'endYear'; score=-inf (superseded by short-circuit or override).\n",
      "    'name' -> 'int_id_tconst'; score=-inf (superseded by short-circuit or override).\n",
      "2022-11-26T15:45:15.679 [rics.mapping.Mapper.accept:DEBUG] Accepted: 'to' -> 'endYear'; score=inf (short-circuit or override).\n",
      "2022-11-26T15:45:15.679 [rics.mapping.Mapper.accept.details:DEBUG] This match supersedes 9 other matches:\n",
      "    'to' -> 'titleType'; score=-inf (superseded by short-circuit or override).\n",
      "    'to' -> 'originalTitle'; score=-inf (superseded by short-circuit or override).\n",
      "    'to' -> 'int_id_tconst'; score=-inf (superseded by short-circuit or override).\n",
      "    'to' -> 'isAdult'; score=-inf (superseded by short-circuit or override).\n",
      "    'to' -> 'genres'; score=-inf (superseded by short-circuit or override).\n",
      "    'to' -> 'tconst'; score=-inf (superseded by short-circuit or override).\n",
      "    'to' -> 'runtimeMinutes'; score=-inf (superseded by short-circuit or override).\n",
      "    'to' -> 'startYear'; score=-inf (superseded by short-circuit or override).\n",
      "    'to' -> 'primaryTitle'; score=-inf (superseded by short-circuit or override).\n",
      "2022-11-26T15:45:15.715 [rics.mapping.Mapper:DEBUG] Match selection with cardinality='ManyToOne' completed in 0.179673 sec.\n"
     ]
    }
   ],
   "source": [
    "tmap = translator.store().cache"
   ]
  },
  {
   "cell_type": "code",
   "execution_count": 7,
   "id": "96bc9fd2-3c20-49b4-80cb-57b60467595d",
   "metadata": {
    "execution": {
     "iopub.execute_input": "2022-11-26T14:45:17.059696Z",
     "iopub.status.busy": "2022-11-26T14:45:17.059519Z",
     "iopub.status.idle": "2022-11-26T14:45:30.927616Z",
     "shell.execute_reply": "2022-11-26T14:45:30.919346Z",
     "shell.execute_reply.started": "2022-11-26T14:45:17.059684Z"
    },
    "tags": []
   },
   "outputs": [
    {
     "name": "stdout",
     "output_type": "stream",
     "text": [
      "Translations for source='title.basics';\n",
      "    'tt0025509' -> 'tt0025509:Les Misérables (original: Les misérables) *1934†1934'\n",
      "    'tt0035803' -> 'tt0035803:The German Weekly Review (original: Die Deutsche Wochenschau) *1940†1945'\n",
      "    'tt0038276' -> 'tt0038276:You Are an Artist (original: You Are an Artist) *1946†1955'\n",
      "Translations for source='name.basics';\n",
      "    'nm0000001' -> 'nm0000001:Fred Astaire *1899†1987'\n",
      "    'nm0000002' -> 'nm0000002:Lauren Bacall *1924†2014'\n",
      "    'nm0000004' -> 'nm0000004:John Belushi *1949†1982'\n"
     ]
    }
   ],
   "source": [
    "for source in tmap:\n",
    "    translations = tmap[source]\n",
    "    print(f\"Translations for {source=};\")\n",
    "    for i, (idx, translation) in enumerate(tmap[source].items()):\n",
    "        print(f\"    {repr(idx)} -> {repr(translation)}\")\n",
    "        if i == 2:\n",
    "            break"
   ]
  },
  {
   "cell_type": "code",
   "execution_count": null,
   "id": "de2d45f1-da91-4cb1-a32d-66addfe70da1",
   "metadata": {},
   "outputs": [],
   "source": []
  }
 ],
 "metadata": {
  "kernelspec": {
   "display_name": "Python 3 (ipykernel)",
   "language": "python",
   "name": "python3"
  },
  "language_info": {
   "codemirror_mode": {
    "name": "ipython",
    "version": 3
   },
   "file_extension": ".py",
   "mimetype": "text/x-python",
   "name": "python",
   "nbconvert_exporter": "python",
   "pygments_lexer": "ipython3",
   "version": "3.10.6"
  }
 },
 "nbformat": 4,
 "nbformat_minor": 5
}
