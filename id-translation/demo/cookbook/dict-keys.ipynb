{
 "cells": [
  {
   "cell_type": "markdown",
   "id": "93a678fb-4a20-4598-80cf-80d269c07d7f",
   "metadata": {},
   "source": [
    "## Translating `dict` keys\n",
    "\n",
    "When translating using `inplace=False` (the default), the `Translator` will always try to return an object of the same type. \n",
    "The `Translator` doesn't know what to do with the `dict_keys` class, so we wrap the values we want to translate using a known type.\n",
    "\n",
    "**NOTE**: For convenience, we'll use a dummy fetcher used for [testing](https://github.com/rsundqvist/rics/blob/master/src/rics/translation/testing.py) to generates > translation data instead of fetching real translations. Generated data is on the form `<placeholder-name>-of-<id>`, eg `'placeholder0-of-id0'`. Since we use the > `'{x}, {y}'` translation format, all translated values will take form form `'x-of-<id>, y-of-<id>'`."
   ]
  },
  {
   "cell_type": "code",
   "execution_count": 1,
   "id": "62173765-876a-4531-b099-2e78e7b81700",
   "metadata": {
    "execution": {
     "iopub.execute_input": "2023-03-25T10:24:09.102485Z",
     "iopub.status.busy": "2023-03-25T10:24:09.102349Z",
     "iopub.status.idle": "2023-03-25T10:24:09.397856Z",
     "shell.execute_reply": "2023-03-25T10:24:09.397251Z",
     "shell.execute_reply.started": "2023-03-25T10:24:09.102472Z"
    },
    "tags": []
   },
   "outputs": [
    {
     "name": "stderr",
     "output_type": "stream",
     "text": [
      "/tmp/ipykernel_8985/2794026548.py:4: UserWarning: No fetcher given. Translation data will be automatically generated.\n",
      "  translate = Translator(fmt=\"{x}, {y}\").translate\n"
     ]
    }
   ],
   "source": [
    "from id_translation import Translator\n",
    "\n",
    "NAMES_TO_TRANSLATE = \"name\"\n",
    "translate = Translator(fmt=\"{x}, {y}\").translate"
   ]
  },
  {
   "cell_type": "code",
   "execution_count": 2,
   "id": "bdce0756-5865-47ca-980d-ccc2af9a92ea",
   "metadata": {
    "execution": {
     "iopub.execute_input": "2023-03-25T10:24:09.398942Z",
     "iopub.status.busy": "2023-03-25T10:24:09.398767Z",
     "iopub.status.idle": "2023-03-25T10:24:09.406390Z",
     "shell.execute_reply": "2023-03-25T10:24:09.405816Z",
     "shell.execute_reply.started": "2023-03-25T10:24:09.398932Z"
    },
    "tags": []
   },
   "outputs": [
    {
     "name": "stdout",
     "output_type": "stream",
     "text": [
      "{'k0': 0, 'k1': 1, 'k2': 2, 'k3': 3}\n"
     ]
    },
    {
     "data": {
      "text/plain": [
       "{'x-of-k0, y-of-k0': 0,\n",
       " 'x-of-k1, y-of-k1': 1,\n",
       " 'x-of-k2, y-of-k2': 2,\n",
       " 'x-of-k3, y-of-k3': 3}"
      ]
     },
     "execution_count": 2,
     "metadata": {},
     "output_type": "execute_result"
    }
   ],
   "source": [
    "a_dict = {f\"k{i}\": i for i in range(4)}\n",
    "print(a_dict)\n",
    "\n",
    "translated_keys = translate(list(a_dict), names=NAMES_TO_TRANSLATE)\n",
    "{tk: a_dict[k] for k, tk in zip(a_dict, translated_keys)}  # tk is translated"
   ]
  },
  {
   "cell_type": "code",
   "execution_count": null,
   "id": "0aa90a13-584b-4e74-b679-704dae7338a7",
   "metadata": {},
   "outputs": [],
   "source": []
  }
 ],
 "metadata": {
  "kernelspec": {
   "display_name": "Python 3 (ipykernel)",
   "language": "python",
   "name": "python3"
  },
  "language_info": {
   "codemirror_mode": {
    "name": "ipython",
    "version": 3
   },
   "file_extension": ".py",
   "mimetype": "text/x-python",
   "name": "python",
   "nbconvert_exporter": "python",
   "pygments_lexer": "ipython3",
   "version": "3.10.6"
  }
 },
 "nbformat": 4,
 "nbformat_minor": 5
}
