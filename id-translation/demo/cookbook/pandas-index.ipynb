{
 "cells": [
  {
   "cell_type": "markdown",
   "id": "93a678fb-4a20-4598-80cf-80d269c07d7f",
   "metadata": {},
   "source": [
    "# Translating `pandas.Index` types\n",
    "\n",
    "The `attribute` argument may be used to translate a member variable instead.\n",
    "\n",
    "**NOTE**: For convenience, we'll use a dummy fetcher used [for testing](https://github.com/rsundqvist/rics/blob/master/src/rics/translation/testing.py) to generate translation data instead of fetching real translations. Generated data is on the form `<placeholder-name>-of-<id>`, eg `'placeholder0-of-id0'`. Since we use the `'{x}, {y}'` translation format, all translated values will take form `'x-of-<id>, y-of-<id>'`."
   ]
  },
  {
   "cell_type": "code",
   "execution_count": 1,
   "id": "62173765-876a-4531-b099-2e78e7b81700",
   "metadata": {
    "execution": {
     "iopub.execute_input": "2023-03-25T10:24:18.472039Z",
     "iopub.status.busy": "2023-03-25T10:24:18.471921Z",
     "iopub.status.idle": "2023-03-25T10:24:18.746599Z",
     "shell.execute_reply": "2023-03-25T10:24:18.745979Z",
     "shell.execute_reply.started": "2023-03-25T10:24:18.472025Z"
    },
    "tags": []
   },
   "outputs": [
    {
     "name": "stderr",
     "output_type": "stream",
     "text": [
      "/tmp/ipykernel_9034/2794026548.py:4: UserWarning: No fetcher given. Translation data will be automatically generated.\n",
      "  translate = Translator(fmt=\"{x}, {y}\").translate\n"
     ]
    }
   ],
   "source": [
    "from id_translation import Translator\n",
    "\n",
    "NAMES_TO_TRANSLATE = \"name\"\n",
    "translate = Translator(fmt=\"{x}, {y}\").translate"
   ]
  },
  {
   "cell_type": "code",
   "execution_count": 2,
   "id": "aad0654a-a565-4fe3-9dab-ff7aece08c2c",
   "metadata": {
    "execution": {
     "iopub.execute_input": "2023-03-25T10:24:18.748008Z",
     "iopub.status.busy": "2023-03-25T10:24:18.747822Z",
     "iopub.status.idle": "2023-03-25T10:24:18.751139Z",
     "shell.execute_reply": "2023-03-25T10:24:18.750381Z",
     "shell.execute_reply.started": "2023-03-25T10:24:18.747998Z"
    },
    "tags": []
   },
   "outputs": [],
   "source": [
    "import pandas as pd"
   ]
  },
  {
   "cell_type": "code",
   "execution_count": 3,
   "id": "243bf95c-6dbf-4fff-9f16-82b51e235670",
   "metadata": {
    "execution": {
     "iopub.execute_input": "2023-03-25T10:24:18.751935Z",
     "iopub.status.busy": "2023-03-25T10:24:18.751624Z",
     "iopub.status.idle": "2023-03-25T10:24:18.760379Z",
     "shell.execute_reply": "2023-03-25T10:24:18.759914Z",
     "shell.execute_reply.started": "2023-03-25T10:24:18.751921Z"
    },
    "tags": []
   },
   "outputs": [
    {
     "data": {
      "text/html": [
       "<div>\n",
       "<style scoped>\n",
       "    .dataframe tbody tr th:only-of-type {\n",
       "        vertical-align: middle;\n",
       "    }\n",
       "\n",
       "    .dataframe tbody tr th {\n",
       "        vertical-align: top;\n",
       "    }\n",
       "\n",
       "    .dataframe thead th {\n",
       "        text-align: right;\n",
       "    }\n",
       "</style>\n",
       "<table border=\"1\" class=\"dataframe\">\n",
       "  <thead>\n",
       "    <tr style=\"text-align: right;\">\n",
       "      <th></th>\n",
       "      <th>col0</th>\n",
       "      <th>col1</th>\n",
       "      <th>col2</th>\n",
       "      <th>col3</th>\n",
       "    </tr>\n",
       "    <tr>\n",
       "      <th>name</th>\n",
       "      <th></th>\n",
       "      <th></th>\n",
       "      <th></th>\n",
       "      <th></th>\n",
       "    </tr>\n",
       "  </thead>\n",
       "  <tbody>\n",
       "    <tr>\n",
       "      <th>idx0</th>\n",
       "      <td>00</td>\n",
       "      <td>01</td>\n",
       "      <td>02</td>\n",
       "      <td>03</td>\n",
       "    </tr>\n",
       "    <tr>\n",
       "      <th>idx1</th>\n",
       "      <td>10</td>\n",
       "      <td>11</td>\n",
       "      <td>12</td>\n",
       "      <td>13</td>\n",
       "    </tr>\n",
       "    <tr>\n",
       "      <th>idx2</th>\n",
       "      <td>20</td>\n",
       "      <td>21</td>\n",
       "      <td>22</td>\n",
       "      <td>23</td>\n",
       "    </tr>\n",
       "  </tbody>\n",
       "</table>\n",
       "</div>"
      ],
      "text/plain": [
       "     col0 col1 col2 col3\n",
       "name                    \n",
       "idx0   00   01   02   03\n",
       "idx1   10   11   12   13\n",
       "idx2   20   21   22   23"
      ]
     },
     "execution_count": 3,
     "metadata": {},
     "output_type": "execute_result"
    }
   ],
   "source": [
    "df = pd.DataFrame(\n",
    "    data=[[\"00\", \"01\", \"02\", \"03\"], [\"10\", \"11\", \"12\", \"13\"], [\"20\", \"21\", \"22\", \"23\"]],\n",
    "    columns=[f\"col{i}\" for i in range(4)],\n",
    "    index=[f\"idx{i}\" for i in range(3)],\n",
    ")\n",
    "df.index.name = NAMES_TO_TRANSLATE\n",
    "s = df.col0\n",
    "df"
   ]
  },
  {
   "cell_type": "code",
   "execution_count": 4,
   "id": "32dfe8f0-3ccb-4424-9f4b-12deacbe5a05",
   "metadata": {
    "execution": {
     "iopub.execute_input": "2023-03-25T10:24:18.761010Z",
     "iopub.status.busy": "2023-03-25T10:24:18.760875Z",
     "iopub.status.idle": "2023-03-25T10:24:18.772109Z",
     "shell.execute_reply": "2023-03-25T10:24:18.771664Z",
     "shell.execute_reply.started": "2023-03-25T10:24:18.761000Z"
    },
    "tags": []
   },
   "outputs": [
    {
     "data": {
      "text/html": [
       "<div>\n",
       "<style scoped>\n",
       "    .dataframe tbody tr th:only-of-type {\n",
       "        vertical-align: middle;\n",
       "    }\n",
       "\n",
       "    .dataframe tbody tr th {\n",
       "        vertical-align: top;\n",
       "    }\n",
       "\n",
       "    .dataframe thead th {\n",
       "        text-align: right;\n",
       "    }\n",
       "</style>\n",
       "<table border=\"1\" class=\"dataframe\">\n",
       "  <thead>\n",
       "    <tr style=\"text-align: right;\">\n",
       "      <th></th>\n",
       "      <th>x-of-col0, y-of-col0</th>\n",
       "      <th>x-of-col1, y-of-col1</th>\n",
       "      <th>x-of-col2, y-of-col2</th>\n",
       "      <th>x-of-col3, y-of-col3</th>\n",
       "    </tr>\n",
       "    <tr>\n",
       "      <th>name</th>\n",
       "      <th></th>\n",
       "      <th></th>\n",
       "      <th></th>\n",
       "      <th></th>\n",
       "    </tr>\n",
       "  </thead>\n",
       "  <tbody>\n",
       "    <tr>\n",
       "      <th>x-of-idx0, y-of-idx0</th>\n",
       "      <td>x-of-00, y-of-00</td>\n",
       "      <td>x-of-01, y-of-01</td>\n",
       "      <td>x-of-02, y-of-02</td>\n",
       "      <td>x-of-03, y-of-03</td>\n",
       "    </tr>\n",
       "    <tr>\n",
       "      <th>x-of-idx1, y-of-idx1</th>\n",
       "      <td>x-of-10, y-of-10</td>\n",
       "      <td>x-of-11, y-of-11</td>\n",
       "      <td>x-of-12, y-of-12</td>\n",
       "      <td>x-of-13, y-of-13</td>\n",
       "    </tr>\n",
       "    <tr>\n",
       "      <th>x-of-idx2, y-of-idx2</th>\n",
       "      <td>x-of-20, y-of-20</td>\n",
       "      <td>x-of-21, y-of-21</td>\n",
       "      <td>x-of-22, y-of-22</td>\n",
       "      <td>x-of-23, y-of-23</td>\n",
       "    </tr>\n",
       "  </tbody>\n",
       "</table>\n",
       "</div>"
      ],
      "text/plain": [
       "                     x-of-col0, y-of-col0 x-of-col1, y-of-col1  \\\n",
       "name                                                             \n",
       "x-of-idx0, y-of-idx0     x-of-00, y-of-00     x-of-01, y-of-01   \n",
       "x-of-idx1, y-of-idx1     x-of-10, y-of-10     x-of-11, y-of-11   \n",
       "x-of-idx2, y-of-idx2     x-of-20, y-of-20     x-of-21, y-of-21   \n",
       "\n",
       "                     x-of-col2, y-of-col2 x-of-col3, y-of-col3  \n",
       "name                                                            \n",
       "x-of-idx0, y-of-idx0     x-of-02, y-of-02     x-of-03, y-of-03  \n",
       "x-of-idx1, y-of-idx1     x-of-12, y-of-12     x-of-13, y-of-13  \n",
       "x-of-idx2, y-of-idx2     x-of-22, y-of-22     x-of-23, y-of-23  "
      ]
     },
     "execution_count": 4,
     "metadata": {},
     "output_type": "execute_result"
    }
   ],
   "source": [
    "translate(df, inplace=True)\n",
    "translate(df, attribute=\"columns\")  # Returns df after overwriting df.columns\n",
    "translate(df, attribute=\"index\")  # Returns df after overwriting df.index"
   ]
  },
  {
   "cell_type": "code",
   "execution_count": 5,
   "id": "a490bc87-871a-4040-9b98-0e7b230786ad",
   "metadata": {
    "execution": {
     "iopub.execute_input": "2023-03-25T10:24:18.772587Z",
     "iopub.status.busy": "2023-03-25T10:24:18.772481Z",
     "iopub.status.idle": "2023-03-25T10:24:18.778598Z",
     "shell.execute_reply": "2023-03-25T10:24:18.778160Z",
     "shell.execute_reply.started": "2023-03-25T10:24:18.772579Z"
    },
    "tags": []
   },
   "outputs": [
    {
     "data": {
      "text/plain": [
       "name\n",
       "x-of-idx0, y-of-idx0    x-of-00, y-of-00\n",
       "x-of-idx1, y-of-idx1    x-of-10, y-of-10\n",
       "x-of-idx2, y-of-idx2    x-of-20, y-of-20\n",
       "Name: col0, dtype: object"
      ]
     },
     "execution_count": 5,
     "metadata": {},
     "output_type": "execute_result"
    }
   ],
   "source": [
    "translate(s, inplace=True)\n",
    "translate(s, attribute=\"index\")"
   ]
  },
  {
   "cell_type": "code",
   "execution_count": null,
   "id": "0aa90a13-584b-4e74-b679-704dae7338a7",
   "metadata": {},
   "outputs": [],
   "source": []
  }
 ],
 "metadata": {
  "kernelspec": {
   "display_name": "Python 3 (ipykernel)",
   "language": "python",
   "name": "python3"
  },
  "language_info": {
   "codemirror_mode": {
    "name": "ipython",
    "version": 3
   },
   "file_extension": ".py",
   "mimetype": "text/x-python",
   "name": "python",
   "nbconvert_exporter": "python",
   "pygments_lexer": "ipython3",
   "version": "3.10.6"
  }
 },
 "nbformat": 4,
 "nbformat_minor": 5
}
