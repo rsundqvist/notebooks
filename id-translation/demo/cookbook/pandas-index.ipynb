{
 "cells": [
  {
   "cell_type": "markdown",
   "id": "93a678fb-4a20-4598-80cf-80d269c07d7f",
   "metadata": {},
   "source": [
    "# Translating `pandas.Index` types\n",
    "\n",
    "**NOTE**: For convenience, we'll use a dummy fetcher used [for testing](https://github.com/rsundqvist/id-translation/blob/master/src/id_translation/testing.py#L43-L48) to generate translation data instead of fetching real translations. Generated data is on the form `<placeholder-name>-of-<id>`, eg `'placeholder0-of-id0'`.\n",
    "\n",
    "Since we use `fmt='{x}, {y}'`, translated values will take form `'x-of-<id>, y-of-<id>'`."
   ]
  },
  {
   "cell_type": "code",
   "execution_count": 1,
   "id": "62173765-876a-4531-b099-2e78e7b81700",
   "metadata": {
    "execution": {
     "iopub.execute_input": "2023-11-05T22:49:53.029657Z",
     "iopub.status.busy": "2023-11-05T22:49:53.029559Z",
     "iopub.status.idle": "2023-11-05T22:49:53.403051Z",
     "shell.execute_reply": "2023-11-05T22:49:53.402078Z",
     "shell.execute_reply.started": "2023-11-05T22:49:53.029647Z"
    },
    "tags": []
   },
   "outputs": [
    {
     "name": "stderr",
     "output_type": "stream",
     "text": [
      "/tmp/ipykernel_8364/1782748667.py:3: UserWarning: No fetcher given. Translation data will be automatically generated.\n",
      "  t = Translator(fmt=\"{x}, {y}\")\n"
     ]
    }
   ],
   "source": [
    "from id_translation import Translator\n",
    "\n",
    "t = Translator(fmt=\"{x}, {y}\")"
   ]
  },
  {
   "cell_type": "markdown",
   "id": "9bd93cb8-8111-459f-915f-da0cb2c0f79a",
   "metadata": {
    "execution": {
     "iopub.execute_input": "2023-03-25T10:24:18.748008Z",
     "iopub.status.busy": "2023-03-25T10:24:18.747822Z",
     "iopub.status.idle": "2023-03-25T10:24:18.751139Z",
     "shell.execute_reply": "2023-03-25T10:24:18.750381Z",
     "shell.execute_reply.started": "2023-03-25T10:24:18.747998Z"
    },
    "tags": []
   },
   "source": [
    "## Dummy data"
   ]
  },
  {
   "cell_type": "code",
   "execution_count": 2,
   "id": "243bf95c-6dbf-4fff-9f16-82b51e235670",
   "metadata": {
    "execution": {
     "iopub.execute_input": "2023-11-05T22:49:53.404204Z",
     "iopub.status.busy": "2023-11-05T22:49:53.404025Z",
     "iopub.status.idle": "2023-11-05T22:49:53.417617Z",
     "shell.execute_reply": "2023-11-05T22:49:53.417034Z",
     "shell.execute_reply.started": "2023-11-05T22:49:53.404193Z"
    },
    "tags": []
   },
   "outputs": [
    {
     "data": {
      "text/html": [
       "<div>\n",
       "<style scoped>\n",
       "    .dataframe tbody tr th:only-of-type {\n",
       "        vertical-align: middle;\n",
       "    }\n",
       "\n",
       "    .dataframe tbody tr th {\n",
       "        vertical-align: top;\n",
       "    }\n",
       "\n",
       "    .dataframe thead th {\n",
       "        text-align: right;\n",
       "    }\n",
       "</style>\n",
       "<table border=\"1\" class=\"dataframe\">\n",
       "  <thead>\n",
       "    <tr style=\"text-align: right;\">\n",
       "      <th></th>\n",
       "      <th>0</th>\n",
       "      <th>1</th>\n",
       "      <th>2</th>\n",
       "      <th>3</th>\n",
       "    </tr>\n",
       "    <tr>\n",
       "      <th>name</th>\n",
       "      <th></th>\n",
       "      <th></th>\n",
       "      <th></th>\n",
       "      <th></th>\n",
       "    </tr>\n",
       "  </thead>\n",
       "  <tbody>\n",
       "    <tr>\n",
       "      <th>idx0</th>\n",
       "      <td>00</td>\n",
       "      <td>01</td>\n",
       "      <td>02</td>\n",
       "      <td>03</td>\n",
       "    </tr>\n",
       "    <tr>\n",
       "      <th>idx1</th>\n",
       "      <td>10</td>\n",
       "      <td>11</td>\n",
       "      <td>12</td>\n",
       "      <td>13</td>\n",
       "    </tr>\n",
       "    <tr>\n",
       "      <th>idx2</th>\n",
       "      <td>20</td>\n",
       "      <td>21</td>\n",
       "      <td>22</td>\n",
       "      <td>23</td>\n",
       "    </tr>\n",
       "  </tbody>\n",
       "</table>\n",
       "</div>"
      ],
      "text/plain": [
       "       0   1   2   3\n",
       "name                \n",
       "idx0  00  01  02  03\n",
       "idx1  10  11  12  13\n",
       "idx2  20  21  22  23"
      ]
     },
     "execution_count": 2,
     "metadata": {},
     "output_type": "execute_result"
    }
   ],
   "source": [
    "import pandas as pd\n",
    "\n",
    "df = pd.DataFrame(\n",
    "    [\n",
    "        [\"00\", \"01\", \"02\", \"03\"],\n",
    "        [\"10\", \"11\", \"12\", \"13\"],\n",
    "        [\"20\", \"21\", \"22\", \"23\"],\n",
    "    ],\n",
    "    index=[f\"idx{i}\" for i in range(3)],\n",
    ")\n",
    "df.index.name = \"name\"\n",
    "df"
   ]
  },
  {
   "cell_type": "markdown",
   "id": "29471846-5a93-4bb6-bb6f-2eeb772b9c6b",
   "metadata": {},
   "source": [
    "## Translation\n",
    "We gave the `Index` a name, which will be used unless the `names`-argument is given.\n",
    "\n",
    "By default, `DataFrame.columns` are used as the names. As such, translating column values before the `DataFrame` itself may break the built-in logic."
   ]
  },
  {
   "cell_type": "code",
   "execution_count": 3,
   "id": "32dfe8f0-3ccb-4424-9f4b-12deacbe5a05",
   "metadata": {
    "execution": {
     "iopub.execute_input": "2023-11-05T22:49:53.418170Z",
     "iopub.status.busy": "2023-11-05T22:49:53.418048Z",
     "iopub.status.idle": "2023-11-05T22:49:53.427175Z",
     "shell.execute_reply": "2023-11-05T22:49:53.426598Z",
     "shell.execute_reply.started": "2023-11-05T22:49:53.418159Z"
    },
    "tags": []
   },
   "outputs": [
    {
     "data": {
      "text/html": [
       "<div>\n",
       "<style scoped>\n",
       "    .dataframe tbody tr th:only-of-type {\n",
       "        vertical-align: middle;\n",
       "    }\n",
       "\n",
       "    .dataframe tbody tr th {\n",
       "        vertical-align: top;\n",
       "    }\n",
       "\n",
       "    .dataframe thead th {\n",
       "        text-align: right;\n",
       "    }\n",
       "</style>\n",
       "<table border=\"1\" class=\"dataframe\">\n",
       "  <thead>\n",
       "    <tr style=\"text-align: right;\">\n",
       "      <th></th>\n",
       "      <th>x-of-0, y-of-0</th>\n",
       "      <th>x-of-1, y-of-1</th>\n",
       "      <th>x-of-2, y-of-2</th>\n",
       "      <th>x-of-3, y-of-3</th>\n",
       "    </tr>\n",
       "    <tr>\n",
       "      <th>name</th>\n",
       "      <th></th>\n",
       "      <th></th>\n",
       "      <th></th>\n",
       "      <th></th>\n",
       "    </tr>\n",
       "  </thead>\n",
       "  <tbody>\n",
       "    <tr>\n",
       "      <th>idx0:name-of-idx0</th>\n",
       "      <td>x-of-00, y-of-00</td>\n",
       "      <td>x-of-01, y-of-01</td>\n",
       "      <td>x-of-02, y-of-02</td>\n",
       "      <td>x-of-03, y-of-03</td>\n",
       "    </tr>\n",
       "    <tr>\n",
       "      <th>idx1:name-of-idx1</th>\n",
       "      <td>x-of-10, y-of-10</td>\n",
       "      <td>x-of-11, y-of-11</td>\n",
       "      <td>x-of-12, y-of-12</td>\n",
       "      <td>x-of-13, y-of-13</td>\n",
       "    </tr>\n",
       "    <tr>\n",
       "      <th>idx2:name-of-idx2</th>\n",
       "      <td>x-of-20, y-of-20</td>\n",
       "      <td>x-of-21, y-of-21</td>\n",
       "      <td>x-of-22, y-of-22</td>\n",
       "      <td>x-of-23, y-of-23</td>\n",
       "    </tr>\n",
       "  </tbody>\n",
       "</table>\n",
       "</div>"
      ],
      "text/plain": [
       "                     x-of-0, y-of-0    x-of-1, y-of-1    x-of-2, y-of-2  \\\n",
       "name                                                                      \n",
       "idx0:name-of-idx0  x-of-00, y-of-00  x-of-01, y-of-01  x-of-02, y-of-02   \n",
       "idx1:name-of-idx1  x-of-10, y-of-10  x-of-11, y-of-11  x-of-12, y-of-12   \n",
       "idx2:name-of-idx2  x-of-20, y-of-20  x-of-21, y-of-21  x-of-22, y-of-22   \n",
       "\n",
       "                     x-of-3, y-of-3  \n",
       "name                                 \n",
       "idx0:name-of-idx0  x-of-03, y-of-03  \n",
       "idx1:name-of-idx1  x-of-13, y-of-13  \n",
       "idx2:name-of-idx2  x-of-23, y-of-23  "
      ]
     },
     "execution_count": 3,
     "metadata": {},
     "output_type": "execute_result"
    }
   ],
   "source": [
    "t.translate(df, inplace=True)\n",
    "df.columns = t.translate(df.columns, names=\"name-of-columns\")\n",
    "df.index = t.translate(df.index, fmt=\"{id}:{name}\")\n",
    "df"
   ]
  },
  {
   "cell_type": "markdown",
   "id": "74e5d592-0503-4752-81b3-80ea43d46f7f",
   "metadata": {},
   "source": [
    "The columns don't have a name, so one must be given to translate them. Pandas columns are regular indexes, and can have names just like any other index can."
   ]
  },
  {
   "cell_type": "code",
   "execution_count": null,
   "id": "0aa90a13-584b-4e74-b679-704dae7338a7",
   "metadata": {},
   "outputs": [],
   "source": []
  }
 ],
 "metadata": {
  "kernelspec": {
   "display_name": "Python 3 (ipykernel)",
   "language": "python",
   "name": "python3"
  },
  "language_info": {
   "codemirror_mode": {
    "name": "ipython",
    "version": 3
   },
   "file_extension": ".py",
   "mimetype": "text/x-python",
   "name": "python",
   "nbconvert_exporter": "python",
   "pygments_lexer": "ipython3",
   "version": "3.11.6"
  }
 },
 "nbformat": 4,
 "nbformat_minor": 5
}
