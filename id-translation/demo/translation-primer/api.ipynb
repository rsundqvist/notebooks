{
 "cells": [
  {
   "cell_type": "markdown",
   "id": "72d46e41-b0dc-4d4a-b114-f90788b5884c",
   "metadata": {},
   "source": [
    "# Primer: API implementation\n",
    "This notebook reconstructs the `Translator` showcased in the [Translation primer](../../../translation-primer.rst) using the API."
   ]
  },
  {
   "cell_type": "code",
   "execution_count": 1,
   "id": "d3aa815a-49f8-408c-bb4e-e0f088a114d4",
   "metadata": {
    "execution": {
     "iopub.execute_input": "2023-11-05T22:49:56.314426Z",
     "iopub.status.busy": "2023-11-05T22:49:56.314323Z",
     "iopub.status.idle": "2023-11-05T22:49:56.692830Z",
     "shell.execute_reply": "2023-11-05T22:49:56.692214Z",
     "shell.execute_reply.started": "2023-11-05T22:49:56.314415Z"
    }
   },
   "outputs": [
    {
     "name": "stdout",
     "output_type": "stream",
     "text": [
      "rics.__version__='3.2.0'\n",
      "id_translation.__version__='0.5.1.dev1'\n",
      "sys.version='3.11.6 (main, Oct 23 2023, 22:48:54) [GCC 11.4.0]'\n"
     ]
    }
   ],
   "source": [
    "import sys\n",
    "import rics\n",
    "import id_translation\n",
    "\n",
    "# Print relevant versions\n",
    "print(f\"{rics.__version__=}\")\n",
    "print(f\"{id_translation.__version__=}\")\n",
    "print(f\"{sys.version=}\")"
   ]
  },
  {
   "cell_type": "code",
   "execution_count": 2,
   "id": "62c450fd-d8c2-4e6c-ac02-9c9dec9f44e5",
   "metadata": {
    "execution": {
     "iopub.execute_input": "2023-11-05T22:49:56.694143Z",
     "iopub.status.busy": "2023-11-05T22:49:56.693988Z",
     "iopub.status.idle": "2023-11-05T22:49:58.175203Z",
     "shell.execute_reply": "2023-11-05T22:49:58.174662Z",
     "shell.execute_reply.started": "2023-11-05T22:49:56.694133Z"
    }
   },
   "outputs": [
    {
     "name": "stdout",
     "output_type": "stream",
     "text": [
      "👻 Configured some stuff just the way I like it!\n"
     ]
    }
   ],
   "source": [
    "rics.configure_stuff(format=\"[%(name)s:%(levelname)s] %(message)s\")"
   ]
  },
  {
   "cell_type": "markdown",
   "id": "ad0fd150-f88c-4688-befd-4033c6df9d8f",
   "metadata": {},
   "source": [
    "## Translatable data"
   ]
  },
  {
   "cell_type": "code",
   "execution_count": 3,
   "id": "03f1f870-4189-48b7-b992-9c3262b52f4a",
   "metadata": {
    "execution": {
     "iopub.execute_input": "2023-11-05T22:49:58.175768Z",
     "iopub.status.busy": "2023-11-05T22:49:58.175588Z",
     "iopub.status.idle": "2023-11-05T22:49:58.183784Z",
     "shell.execute_reply": "2023-11-05T22:49:58.183261Z",
     "shell.execute_reply.started": "2023-11-05T22:49:58.175757Z"
    }
   },
   "outputs": [
    {
     "data": {
      "text/html": [
       "<div>\n",
       "<style scoped>\n",
       "    .dataframe tbody tr th:only-of-type {\n",
       "        vertical-align: middle;\n",
       "    }\n",
       "\n",
       "    .dataframe tbody tr th {\n",
       "        vertical-align: top;\n",
       "    }\n",
       "\n",
       "    .dataframe thead th {\n",
       "        text-align: right;\n",
       "    }\n",
       "</style>\n",
       "<table border=\"1\" class=\"dataframe\">\n",
       "  <thead>\n",
       "    <tr style=\"text-align: right;\">\n",
       "      <th></th>\n",
       "      <th>human_id</th>\n",
       "      <th>bitten_by</th>\n",
       "    </tr>\n",
       "  </thead>\n",
       "  <tbody>\n",
       "    <tr>\n",
       "      <th>0</th>\n",
       "      <td>1904</td>\n",
       "      <td>1</td>\n",
       "    </tr>\n",
       "    <tr>\n",
       "      <th>1</th>\n",
       "      <td>1991</td>\n",
       "      <td>0</td>\n",
       "    </tr>\n",
       "    <tr>\n",
       "      <th>2</th>\n",
       "      <td>1991</td>\n",
       "      <td>2</td>\n",
       "    </tr>\n",
       "    <tr>\n",
       "      <th>3</th>\n",
       "      <td>1999</td>\n",
       "      <td>0</td>\n",
       "    </tr>\n",
       "  </tbody>\n",
       "</table>\n",
       "</div>"
      ],
      "text/plain": [
       "   human_id  bitten_by\n",
       "0      1904          1\n",
       "1      1991          0\n",
       "2      1991          2\n",
       "3      1999          0"
      ]
     },
     "execution_count": 3,
     "metadata": {},
     "output_type": "execute_result"
    }
   ],
   "source": [
    "import pandas as pd\n",
    "\n",
    "bite_report = pd.read_csv(\"biting-victims-2019-05-11.csv\")\n",
    "bite_report"
   ]
  },
  {
   "cell_type": "markdown",
   "id": "d531ee50-2a4f-42f4-a3a1-2a6689a56c10",
   "metadata": {},
   "source": [
    "## Name-to-source mapping"
   ]
  },
  {
   "cell_type": "code",
   "execution_count": 4,
   "id": "1fefab00-ce61-49e4-8a55-cf425526b88d",
   "metadata": {
    "execution": {
     "iopub.execute_input": "2023-11-05T22:49:58.184300Z",
     "iopub.status.busy": "2023-11-05T22:49:58.184187Z",
     "iopub.status.idle": "2023-11-05T22:49:58.187793Z",
     "shell.execute_reply": "2023-11-05T22:49:58.187097Z",
     "shell.execute_reply.started": "2023-11-05T22:49:58.184289Z"
    },
    "tags": []
   },
   "outputs": [],
   "source": [
    "from id_translation.mapping import HeuristicScore, Mapper\n",
    "\n",
    "score_function = HeuristicScore(\"equality\", heuristics=[\"like_database_table\"])\n",
    "mapper = Mapper(score_function, overrides={\"bitten_by\": \"animals\"})"
   ]
  },
  {
   "cell_type": "markdown",
   "id": "5ac6d864-445c-4f77-8bfc-5a5939449635",
   "metadata": {},
   "source": [
    "## Translation format"
   ]
  },
  {
   "cell_type": "code",
   "execution_count": 5,
   "id": "552eaded-7d5a-417e-a4e3-367befde3537",
   "metadata": {
    "execution": {
     "iopub.execute_input": "2023-11-05T22:49:58.188548Z",
     "iopub.status.busy": "2023-11-05T22:49:58.188419Z",
     "iopub.status.idle": "2023-11-05T22:49:58.191544Z",
     "shell.execute_reply": "2023-11-05T22:49:58.190630Z",
     "shell.execute_reply.started": "2023-11-05T22:49:58.188537Z"
    }
   },
   "outputs": [],
   "source": [
    "translation_format = \"[{title}. ]{name} (id={id})[ the {species}]\""
   ]
  },
  {
   "cell_type": "markdown",
   "id": "6b021019-9123-49eb-9b7d-2505ebcde411",
   "metadata": {},
   "source": [
    "## Mapping\n",
    "### Define heuristic function\n",
    "\n",
    "This will map to map `id` to `animal_id` when `context=\"animals\"`.\n",
    "\n",
    "It will remap the correctly named `id` column in `humans.csv` as well, but this is not a problem since the best match will be used.\n",
    "\n",
    "### Create `HeuristicScore` instace\n",
    "This class will evaluate the original score function with and without all given heuristics (just one here), and pick the best score for each candidate."
   ]
  },
  {
   "cell_type": "code",
   "execution_count": 6,
   "id": "ba9d0509-da5d-4192-a34a-7a93cc7a5e57",
   "metadata": {
    "execution": {
     "iopub.execute_input": "2023-11-05T22:49:58.192200Z",
     "iopub.status.busy": "2023-11-05T22:49:58.192062Z",
     "iopub.status.idle": "2023-11-05T22:49:58.195278Z",
     "shell.execute_reply": "2023-11-05T22:49:58.194715Z",
     "shell.execute_reply.started": "2023-11-05T22:49:58.192189Z"
    }
   },
   "outputs": [],
   "source": [
    "def smurf_column_heuristic(value, candidates, context):\n",
    "    \"\"\"Heuristic for matching columns that use the \"smurf\" convention.\"\"\"\n",
    "    return (\n",
    "        # Handles plural form that ends with or without an s.\n",
    "        f\"{context[:-1]}_{value}\" if context[-1] == \"s\" else f\"{context}_{value}\",\n",
    "        candidates,  # unchanged\n",
    "    )\n",
    "\n",
    "\n",
    "smurf_score = HeuristicScore(\"equality\", heuristics=[smurf_column_heuristic])"
   ]
  },
  {
   "cell_type": "markdown",
   "id": "c8fc205b-9479-43de-88e3-2917aea3cd78",
   "metadata": {},
   "source": [
    "## Create fetcher"
   ]
  },
  {
   "cell_type": "code",
   "execution_count": 7,
   "id": "4ab10458-8b72-4462-8ad6-e8bd8aa602fa",
   "metadata": {
    "execution": {
     "iopub.execute_input": "2023-11-05T22:49:58.196576Z",
     "iopub.status.busy": "2023-11-05T22:49:58.196430Z",
     "iopub.status.idle": "2023-11-05T22:49:58.199386Z",
     "shell.execute_reply": "2023-11-05T22:49:58.198796Z",
     "shell.execute_reply.started": "2023-11-05T22:49:58.196559Z"
    }
   },
   "outputs": [],
   "source": [
    "from id_translation.fetching import PandasFetcher\n",
    "\n",
    "\n",
    "fetcher = PandasFetcher(\n",
    "    read_function=pd.read_csv,\n",
    "    read_path_format=\"./sources/{}.csv\",\n",
    "    mapper=Mapper(smurf_score),\n",
    ")"
   ]
  },
  {
   "cell_type": "markdown",
   "id": "4e904823-aa47-417c-8025-b70372090946",
   "metadata": {},
   "source": [
    "## Moment of truth"
   ]
  },
  {
   "cell_type": "code",
   "execution_count": 8,
   "id": "288e628e-9ad8-4805-a455-bc65c60baf35",
   "metadata": {
    "execution": {
     "iopub.execute_input": "2023-11-05T22:49:58.200008Z",
     "iopub.status.busy": "2023-11-05T22:49:58.199872Z",
     "iopub.status.idle": "2023-11-05T22:49:58.214406Z",
     "shell.execute_reply": "2023-11-05T22:49:58.213929Z",
     "shell.execute_reply.started": "2023-11-05T22:49:58.199997Z"
    }
   },
   "outputs": [
    {
     "name": "stderr",
     "output_type": "stream",
     "text": [
      "[id_translation.Translator.translate:INFO] Finished translation of 2 names in 'DataFrame'-type data in 9ms, using name-to-source mapping: {'human_id': 'humans', 'bitten_by': 'animals'}.\n"
     ]
    },
    {
     "data": {
      "text/html": [
       "<div>\n",
       "<style scoped>\n",
       "    .dataframe tbody tr th:only-of-type {\n",
       "        vertical-align: middle;\n",
       "    }\n",
       "\n",
       "    .dataframe tbody tr th {\n",
       "        vertical-align: top;\n",
       "    }\n",
       "\n",
       "    .dataframe thead th {\n",
       "        text-align: right;\n",
       "    }\n",
       "</style>\n",
       "<table border=\"1\" class=\"dataframe\">\n",
       "  <thead>\n",
       "    <tr style=\"text-align: right;\">\n",
       "      <th></th>\n",
       "      <th>human_id</th>\n",
       "      <th>bitten_by</th>\n",
       "    </tr>\n",
       "  </thead>\n",
       "  <tbody>\n",
       "    <tr>\n",
       "      <th>0</th>\n",
       "      <td>Mr. Fred (id=1904)</td>\n",
       "      <td>Morris (id=1) the dog</td>\n",
       "    </tr>\n",
       "    <tr>\n",
       "      <th>1</th>\n",
       "      <td>Mr. Richard (id=1991)</td>\n",
       "      <td>Tarzan (id=0) the cat</td>\n",
       "    </tr>\n",
       "    <tr>\n",
       "      <th>2</th>\n",
       "      <td>Mr. Richard (id=1991)</td>\n",
       "      <td>Simba (id=2) the lion</td>\n",
       "    </tr>\n",
       "    <tr>\n",
       "      <th>3</th>\n",
       "      <td>Dr. Sofia (id=1999)</td>\n",
       "      <td>Tarzan (id=0) the cat</td>\n",
       "    </tr>\n",
       "  </tbody>\n",
       "</table>\n",
       "</div>"
      ],
      "text/plain": [
       "                human_id              bitten_by\n",
       "0     Mr. Fred (id=1904)  Morris (id=1) the dog\n",
       "1  Mr. Richard (id=1991)  Tarzan (id=0) the cat\n",
       "2  Mr. Richard (id=1991)  Simba (id=2) the lion\n",
       "3    Dr. Sofia (id=1999)  Tarzan (id=0) the cat"
      ]
     },
     "execution_count": 8,
     "metadata": {},
     "output_type": "execute_result"
    }
   ],
   "source": [
    "from id_translation import Translator\n",
    "\n",
    "translator = Translator(fetcher, fmt=translation_format, mapper=mapper)\n",
    "translated_bite_report = translator.translate(bite_report)\n",
    "translated_bite_report"
   ]
  },
  {
   "cell_type": "code",
   "execution_count": 9,
   "id": "9078871d-7af9-43ea-97ad-3f430c4202d3",
   "metadata": {
    "execution": {
     "iopub.execute_input": "2023-11-05T22:49:58.215039Z",
     "iopub.status.busy": "2023-11-05T22:49:58.214914Z",
     "iopub.status.idle": "2023-11-05T22:49:58.218562Z",
     "shell.execute_reply": "2023-11-05T22:49:58.218190Z",
     "shell.execute_reply.started": "2023-11-05T22:49:58.215030Z"
    }
   },
   "outputs": [],
   "source": [
    "expected = pd.read_csv(\"biting-victims-2019-05-11-translated.csv\")\n",
    "pd.testing.assert_frame_equal(translated_bite_report, expected)"
   ]
  },
  {
   "cell_type": "code",
   "execution_count": null,
   "id": "c04c8fe5-f577-4daf-8c2a-aa80ce04daa5",
   "metadata": {},
   "outputs": [],
   "source": []
  }
 ],
 "metadata": {
  "kernelspec": {
   "display_name": "Python 3 (ipykernel)",
   "language": "python",
   "name": "python3"
  },
  "language_info": {
   "codemirror_mode": {
    "name": "ipython",
    "version": 3
   },
   "file_extension": ".py",
   "mimetype": "text/x-python",
   "name": "python",
   "nbconvert_exporter": "python",
   "pygments_lexer": "ipython3",
   "version": "3.11.6"
  }
 },
 "nbformat": 4,
 "nbformat_minor": 5
}
