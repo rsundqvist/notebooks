{
 "cells": [
  {
   "cell_type": "markdown",
   "id": "72d46e41-b0dc-4d4a-b114-f90788b5884c",
   "metadata": {},
   "source": [
    "# Primer: API implementation\n",
    "This notebook reconstructs the `Translator` showcased in the [Translation primer](../../../translation-primer.rst) using the API."
   ]
  },
  {
   "cell_type": "code",
   "execution_count": 1,
   "id": "d3aa815a-49f8-408c-bb4e-e0f088a114d4",
   "metadata": {
    "execution": {
     "iopub.execute_input": "2022-11-26T15:07:37.812006Z",
     "iopub.status.busy": "2022-11-26T15:07:37.811793Z",
     "iopub.status.idle": "2022-11-26T15:07:38.209286Z",
     "shell.execute_reply": "2022-11-26T15:07:38.208059Z",
     "shell.execute_reply.started": "2022-11-26T15:07:37.811956Z"
    }
   },
   "outputs": [
    {
     "name": "stdout",
     "output_type": "stream",
     "text": [
      "rics.__version__='0.17.0.dev1'\n",
      "id_translation.__version__='0.1.0.dev0'\n",
      "sys.version='3.10.6 (main, Nov  2 2022, 18:53:38) [GCC 11.3.0]'\n",
      "\u001b[33m538ca56\u001b[m\u001b[33m (\u001b[m\u001b[1;36mHEAD -> \u001b[m\u001b[1;32mtmp\u001b[m\u001b[33m, \u001b[m\u001b[1;31morigin/tmp\u001b[m\u001b[33m, \u001b[m\u001b[1;32mmain\u001b[m\u001b[33m)\u001b[m split\n"
     ]
    }
   ],
   "source": [
    "import sys\n",
    "import rics\n",
    "import id_translation\n",
    "\n",
    "# Print relevant versions\n",
    "print(f\"{rics.__version__=}\")\n",
    "print(f\"{id_translation.__version__=}\")\n",
    "print(f\"{sys.version=}\")\n",
    "!git log --pretty=oneline --abbrev-commit -1"
   ]
  },
  {
   "cell_type": "code",
   "execution_count": 2,
   "id": "f5d4beac-fe6c-440f-bef8-da1a6aae9213",
   "metadata": {
    "execution": {
     "iopub.execute_input": "2022-11-26T15:07:38.210930Z",
     "iopub.status.busy": "2022-11-26T15:07:38.210630Z",
     "iopub.status.idle": "2022-11-26T15:07:38.218287Z",
     "shell.execute_reply": "2022-11-26T15:07:38.217795Z",
     "shell.execute_reply.started": "2022-11-26T15:07:38.210915Z"
    }
   },
   "outputs": [
    {
     "name": "stderr",
     "output_type": "stream",
     "text": [
      "/home/dev/git/rics/src/rics/utility/_just_the_way_i_like_it.py:36: UserWarning: Plotting configuration not done: No module named 'matplotlib'\n",
      "  warnings.warn(f\"Plotting configuration not done: {e}\")\n"
     ]
    }
   ],
   "source": [
    "from rics.utility import configure_stuff\n",
    "\n",
    "configure_stuff(rics_level=\"DEBUG\")"
   ]
  },
  {
   "cell_type": "markdown",
   "id": "ad0fd150-f88c-4688-befd-4033c6df9d8f",
   "metadata": {},
   "source": [
    "## Translatable data"
   ]
  },
  {
   "cell_type": "code",
   "execution_count": 3,
   "id": "03f1f870-4189-48b7-b992-9c3262b52f4a",
   "metadata": {
    "execution": {
     "iopub.execute_input": "2022-11-26T15:07:38.218955Z",
     "iopub.status.busy": "2022-11-26T15:07:38.218815Z",
     "iopub.status.idle": "2022-11-26T15:07:38.235622Z",
     "shell.execute_reply": "2022-11-26T15:07:38.235083Z",
     "shell.execute_reply.started": "2022-11-26T15:07:38.218945Z"
    }
   },
   "outputs": [
    {
     "data": {
      "text/html": [
       "<div>\n",
       "<style scoped>\n",
       "    .dataframe tbody tr th:only-of-type {\n",
       "        vertical-align: middle;\n",
       "    }\n",
       "\n",
       "    .dataframe tbody tr th {\n",
       "        vertical-align: top;\n",
       "    }\n",
       "\n",
       "    .dataframe thead th {\n",
       "        text-align: right;\n",
       "    }\n",
       "</style>\n",
       "<table border=\"1\" class=\"dataframe\">\n",
       "  <thead>\n",
       "    <tr style=\"text-align: right;\">\n",
       "      <th></th>\n",
       "      <th>human_id</th>\n",
       "      <th>bitten_by</th>\n",
       "    </tr>\n",
       "  </thead>\n",
       "  <tbody>\n",
       "    <tr>\n",
       "      <th>0</th>\n",
       "      <td>1904</td>\n",
       "      <td>1</td>\n",
       "    </tr>\n",
       "    <tr>\n",
       "      <th>1</th>\n",
       "      <td>1991</td>\n",
       "      <td>0</td>\n",
       "    </tr>\n",
       "    <tr>\n",
       "      <th>2</th>\n",
       "      <td>1991</td>\n",
       "      <td>2</td>\n",
       "    </tr>\n",
       "    <tr>\n",
       "      <th>3</th>\n",
       "      <td>1999</td>\n",
       "      <td>0</td>\n",
       "    </tr>\n",
       "  </tbody>\n",
       "</table>\n",
       "</div>"
      ],
      "text/plain": [
       "   human_id  bitten_by\n",
       "0      1904          1\n",
       "1      1991          0\n",
       "2      1991          2\n",
       "3      1999          0"
      ]
     },
     "execution_count": 3,
     "metadata": {},
     "output_type": "execute_result"
    }
   ],
   "source": [
    "from pandas import read_csv\n",
    "\n",
    "bite_report = read_csv(\"biting-victims-2019-05-11.csv\")\n",
    "bite_report"
   ]
  },
  {
   "cell_type": "markdown",
   "id": "d531ee50-2a4f-42f4-a3a1-2a6689a56c10",
   "metadata": {},
   "source": [
    "## Name-to-source mapping"
   ]
  },
  {
   "cell_type": "code",
   "execution_count": 4,
   "id": "1fefab00-ce61-49e4-8a55-cf425526b88d",
   "metadata": {
    "execution": {
     "iopub.execute_input": "2022-11-26T15:07:38.236171Z",
     "iopub.status.busy": "2022-11-26T15:07:38.236046Z",
     "iopub.status.idle": "2022-11-26T15:07:38.240326Z",
     "shell.execute_reply": "2022-11-26T15:07:38.239778Z",
     "shell.execute_reply.started": "2022-11-26T15:07:38.236162Z"
    }
   },
   "outputs": [],
   "source": [
    "from rics.mapping import HeuristicScore, Mapper\n",
    "\n",
    "score_function = HeuristicScore(\"equality\", heuristics=[\"like_database_table\"])\n",
    "mapper = Mapper(score_function, overrides={\"bitten_by\": \"animals\"})"
   ]
  },
  {
   "cell_type": "markdown",
   "id": "5ac6d864-445c-4f77-8bfc-5a5939449635",
   "metadata": {},
   "source": [
    "## Translation format"
   ]
  },
  {
   "cell_type": "code",
   "execution_count": 5,
   "id": "552eaded-7d5a-417e-a4e3-367befde3537",
   "metadata": {
    "execution": {
     "iopub.execute_input": "2022-11-26T15:07:38.241581Z",
     "iopub.status.busy": "2022-11-26T15:07:38.241444Z",
     "iopub.status.idle": "2022-11-26T15:07:38.244865Z",
     "shell.execute_reply": "2022-11-26T15:07:38.243861Z",
     "shell.execute_reply.started": "2022-11-26T15:07:38.241571Z"
    }
   },
   "outputs": [],
   "source": [
    "translation_format = \"[{title}. ]{name} (id={id})[ the {species}]\""
   ]
  },
  {
   "cell_type": "markdown",
   "id": "6b021019-9123-49eb-9b7d-2505ebcde411",
   "metadata": {},
   "source": [
    "## Placeholder mapping\n",
    "Define heuristic score function."
   ]
  },
  {
   "cell_type": "code",
   "execution_count": 6,
   "id": "44cf127e-5c43-4c78-a063-73a973daee9d",
   "metadata": {
    "execution": {
     "iopub.execute_input": "2022-11-26T15:07:38.245601Z",
     "iopub.status.busy": "2022-11-26T15:07:38.245468Z",
     "iopub.status.idle": "2022-11-26T15:07:38.250182Z",
     "shell.execute_reply": "2022-11-26T15:07:38.249533Z",
     "shell.execute_reply.started": "2022-11-26T15:07:38.245591Z"
    }
   },
   "outputs": [],
   "source": [
    "from id_translation.fetching import PandasFetcher\n",
    "\n",
    "\n",
    "def smurf_column_heuristic(value, candidates, context):\n",
    "    \"\"\"Heuristic for matching columns that use the \"smurf\" convention.\n",
    "\n",
    "    The value is the desired placeholder, the context is the name of the source\n",
    "    for which placeholder mapping is being performed.\n",
    "    \"\"\"\n",
    "    return (\n",
    "        f\"{context[:-1]}_{value}\" if context[-1] == \"s\" else f\"{context}_{value}\",\n",
    "        candidates,\n",
    "    )\n",
    "\n",
    "\n",
    "smurf_score = HeuristicScore(\"equality\", heuristics=[smurf_column_heuristic])"
   ]
  },
  {
   "cell_type": "markdown",
   "id": "c8fc205b-9479-43de-88e3-2917aea3cd78",
   "metadata": {},
   "source": [
    "## Create fetcher"
   ]
  },
  {
   "cell_type": "code",
   "execution_count": 7,
   "id": "4ab10458-8b72-4462-8ad6-e8bd8aa602fa",
   "metadata": {
    "execution": {
     "iopub.execute_input": "2022-11-26T15:07:38.251688Z",
     "iopub.status.busy": "2022-11-26T15:07:38.251519Z",
     "iopub.status.idle": "2022-11-26T15:07:38.254972Z",
     "shell.execute_reply": "2022-11-26T15:07:38.254405Z",
     "shell.execute_reply.started": "2022-11-26T15:07:38.251677Z"
    }
   },
   "outputs": [],
   "source": [
    "fetcher = PandasFetcher(\n",
    "    read_csv, read_path_format=\"./sources/{}.csv\", mapper=Mapper(smurf_score)\n",
    ")"
   ]
  },
  {
   "cell_type": "markdown",
   "id": "4e904823-aa47-417c-8025-b70372090946",
   "metadata": {},
   "source": [
    "## Moment of truth"
   ]
  },
  {
   "cell_type": "code",
   "execution_count": 8,
   "id": "288e628e-9ad8-4805-a455-bc65c60baf35",
   "metadata": {
    "execution": {
     "iopub.execute_input": "2022-11-26T15:07:38.255613Z",
     "iopub.status.busy": "2022-11-26T15:07:38.255484Z",
     "iopub.status.idle": "2022-11-26T15:07:38.295052Z",
     "shell.execute_reply": "2022-11-26T15:07:38.294419Z",
     "shell.execute_reply.started": "2022-11-26T15:07:38.255603Z"
    }
   },
   "outputs": [
    {
     "name": "stderr",
     "output_type": "stream",
     "text": [
      "2022-11-26T16:07:38.258 [rics.mapping.Mapper:DEBUG] Begin computing match scores for values=('human_id', 'bitten_by') to candidates=('animals', 'humans') using HeuristicScore([like_database_table()] -> equality).\n",
      "2022-11-26T16:07:38.259 [rics.mapping.Mapper:DEBUG] Computed 2x2 match scores in 0.00123532 sec:\n",
      "candidates  animals  humans\n",
      "values                     \n",
      "human_id          0       1\n",
      "bitten_by       inf    -inf\n",
      "2022-11-26T16:07:38.264 [rics.mapping.Mapper.accept:DEBUG] Accepted: 'bitten_by' -> 'animals'; score=inf (short-circuit or override).\n",
      "2022-11-26T16:07:38.265 [rics.mapping.Mapper.accept.details:DEBUG] This match supersedes 1 other matches:\n",
      "    'bitten_by' -> 'humans'; score=-inf (superseded by short-circuit or override).\n",
      "2022-11-26T16:07:38.265 [rics.mapping.Mapper.accept:DEBUG] Accepted: 'human_id' -> 'humans'; score=1.000 >= 1.0.\n",
      "2022-11-26T16:07:38.266 [rics.mapping.Mapper.accept.details:DEBUG] This match supersedes 1 other matches:\n",
      "    'human_id' -> 'animals'; score=0.000 < 1.0 (below threshold).\n",
      "2022-11-26T16:07:38.267 [rics.mapping.Mapper:DEBUG] Match selection with cardinality='ManyToOne' completed in 0.00734238 sec.\n",
      "2022-11-26T16:07:38.270 [rics.mapping.Mapper:DEBUG] Begin computing match scores for values=('species', 'id', 'title', 'name') in context='humans' to candidates=('name', 'title', 'id') using HeuristicScore([smurf_column_heuristic()] -> equality).\n",
      "2022-11-26T16:07:38.273 [rics.mapping.Mapper:DEBUG] Computed 4x3 match scores in 0.00111985 sec:\n",
      "candidates  name  title   id\n",
      "values                      \n",
      "species        0      0    0\n",
      "id          -inf   -inf  inf\n",
      "title       -inf    inf -inf\n",
      "name         inf   -inf -inf\n",
      "2022-11-26T16:07:38.275 [rics.mapping.Mapper.accept:DEBUG] Accepted: 'id' -> 'id'; score=inf (short-circuit or override).\n",
      "2022-11-26T16:07:38.275 [rics.mapping.Mapper.accept.details:DEBUG] This match supersedes 2 other matches:\n",
      "    'id' -> 'name'; score=-inf (superseded by short-circuit or override).\n",
      "    'id' -> 'title'; score=-inf (superseded by short-circuit or override).\n",
      "2022-11-26T16:07:38.275 [rics.mapping.Mapper.accept:DEBUG] Accepted: 'title' -> 'title'; score=inf (short-circuit or override).\n",
      "2022-11-26T16:07:38.276 [rics.mapping.Mapper.accept.details:DEBUG] This match supersedes 2 other matches:\n",
      "    'title' -> 'name'; score=-inf (superseded by short-circuit or override).\n",
      "    'title' -> 'id'; score=-inf (superseded by short-circuit or override).\n",
      "2022-11-26T16:07:38.276 [rics.mapping.Mapper.accept:DEBUG] Accepted: 'name' -> 'name'; score=inf (short-circuit or override).\n",
      "2022-11-26T16:07:38.276 [rics.mapping.Mapper.accept.details:DEBUG] This match supersedes 2 other matches:\n",
      "    'name' -> 'title'; score=-inf (superseded by short-circuit or override).\n",
      "    'name' -> 'id'; score=-inf (superseded by short-circuit or override).\n",
      "2022-11-26T16:07:38.277 [rics.mapping.Mapper.unmapped.details:DEBUG] Could not map value='species':\n",
      "    'species' -> 'name'; score=0.000 < 1.0 (below threshold).\n",
      "    'species' -> 'title'; score=0.000 < 1.0 (below threshold).\n",
      "    'species' -> 'id'; score=0.000 < 1.0 (below threshold).\n",
      "2022-11-26T16:07:38.278 [rics.mapping.Mapper.unmapped:DEBUG] Could not map {'species'} in context='humans' to any of candidates={'id', 'title', 'name'}.\n",
      "2022-11-26T16:07:38.279 [rics.mapping.Mapper:DEBUG] Match selection with cardinality='ManyToOne' completed in 0.00482776 sec.\n",
      "2022-11-26T16:07:38.281 [rics.mapping.Mapper:DEBUG] Begin computing match scores for values=('species', 'id', 'title', 'name') in context='animals' to candidates=('animal_id', 'species', 'name') using HeuristicScore([smurf_column_heuristic()] -> equality).\n",
      "2022-11-26T16:07:38.282 [rics.mapping.Mapper:DEBUG] Computed 4x3 match scores in 0.0010724 sec:\n",
      "candidates  animal_id  species  name\n",
      "values                              \n",
      "species          -inf      inf  -inf\n",
      "id                  1        0     0\n",
      "title               0        0     0\n",
      "name             -inf     -inf   inf\n",
      "2022-11-26T16:07:38.283 [rics.mapping.Mapper.accept:DEBUG] Accepted: 'species' -> 'species'; score=inf (short-circuit or override).\n",
      "2022-11-26T16:07:38.285 [rics.mapping.Mapper.accept.details:DEBUG] This match supersedes 2 other matches:\n",
      "    'species' -> 'animal_id'; score=-inf (superseded by short-circuit or override).\n",
      "    'species' -> 'name'; score=-inf (superseded by short-circuit or override).\n",
      "2022-11-26T16:07:38.285 [rics.mapping.Mapper.accept:DEBUG] Accepted: 'name' -> 'name'; score=inf (short-circuit or override).\n",
      "2022-11-26T16:07:38.285 [rics.mapping.Mapper.accept.details:DEBUG] This match supersedes 2 other matches:\n",
      "    'name' -> 'animal_id'; score=-inf (superseded by short-circuit or override).\n",
      "    'name' -> 'species'; score=-inf (superseded by short-circuit or override).\n",
      "2022-11-26T16:07:38.285 [rics.mapping.Mapper.accept:DEBUG] Accepted: 'id' -> 'animal_id'; score=1.000 >= 1.0.\n",
      "2022-11-26T16:07:38.286 [rics.mapping.Mapper.accept.details:DEBUG] This match supersedes 2 other matches:\n",
      "    'id' -> 'species'; score=0.000 < 1.0 (below threshold).\n",
      "    'id' -> 'name'; score=0.000 < 1.0 (below threshold).\n",
      "2022-11-26T16:07:38.287 [rics.mapping.Mapper.unmapped.details:DEBUG] Could not map value='title':\n",
      "    'title' -> 'animal_id'; score=0.000 < 1.0 (below threshold).\n",
      "    'title' -> 'species'; score=0.000 < 1.0 (below threshold).\n",
      "    'title' -> 'name'; score=0.000 < 1.0 (below threshold).\n",
      "2022-11-26T16:07:38.287 [rics.mapping.Mapper.unmapped:DEBUG] Could not map {'title'} in context='animals' to any of candidates={'animal_id', 'name', 'species'}.\n",
      "2022-11-26T16:07:38.288 [rics.mapping.Mapper:DEBUG] Match selection with cardinality='ManyToOne' completed in 0.00507639 sec.\n"
     ]
    },
    {
     "data": {
      "text/html": [
       "<div>\n",
       "<style scoped>\n",
       "    .dataframe tbody tr th:only-of-type {\n",
       "        vertical-align: middle;\n",
       "    }\n",
       "\n",
       "    .dataframe tbody tr th {\n",
       "        vertical-align: top;\n",
       "    }\n",
       "\n",
       "    .dataframe thead th {\n",
       "        text-align: right;\n",
       "    }\n",
       "</style>\n",
       "<table border=\"1\" class=\"dataframe\">\n",
       "  <thead>\n",
       "    <tr style=\"text-align: right;\">\n",
       "      <th></th>\n",
       "      <th>human_id</th>\n",
       "      <th>bitten_by</th>\n",
       "    </tr>\n",
       "  </thead>\n",
       "  <tbody>\n",
       "    <tr>\n",
       "      <th>0</th>\n",
       "      <td>Mr. Fred (id=1904)</td>\n",
       "      <td>Morris (id=1) the dog</td>\n",
       "    </tr>\n",
       "    <tr>\n",
       "      <th>1</th>\n",
       "      <td>Mr. Richard (id=1991)</td>\n",
       "      <td>Tarzan (id=0) the cat</td>\n",
       "    </tr>\n",
       "    <tr>\n",
       "      <th>2</th>\n",
       "      <td>Mr. Richard (id=1991)</td>\n",
       "      <td>Simba (id=2) the lion</td>\n",
       "    </tr>\n",
       "    <tr>\n",
       "      <th>3</th>\n",
       "      <td>Dr. Sofia (id=1999)</td>\n",
       "      <td>Tarzan (id=0) the cat</td>\n",
       "    </tr>\n",
       "  </tbody>\n",
       "</table>\n",
       "</div>"
      ],
      "text/plain": [
       "                human_id              bitten_by\n",
       "0     Mr. Fred (id=1904)  Morris (id=1) the dog\n",
       "1  Mr. Richard (id=1991)  Tarzan (id=0) the cat\n",
       "2  Mr. Richard (id=1991)  Simba (id=2) the lion\n",
       "3    Dr. Sofia (id=1999)  Tarzan (id=0) the cat"
      ]
     },
     "execution_count": 8,
     "metadata": {},
     "output_type": "execute_result"
    }
   ],
   "source": [
    "from id_translation import Translator\n",
    "\n",
    "translator = Translator(fetcher, fmt=translation_format, mapper=mapper)\n",
    "translated_bite_report = translator.translate(bite_report)\n",
    "translated_bite_report"
   ]
  },
  {
   "cell_type": "code",
   "execution_count": 9,
   "id": "9078871d-7af9-43ea-97ad-3f430c4202d3",
   "metadata": {
    "execution": {
     "iopub.execute_input": "2022-11-26T15:07:38.295676Z",
     "iopub.status.busy": "2022-11-26T15:07:38.295554Z",
     "iopub.status.idle": "2022-11-26T15:07:38.301428Z",
     "shell.execute_reply": "2022-11-26T15:07:38.300289Z",
     "shell.execute_reply.started": "2022-11-26T15:07:38.295666Z"
    }
   },
   "outputs": [],
   "source": [
    "assert translated_bite_report.equals(\n",
    "    read_csv(\"biting-victims-2019-05-11-translated.csv\")\n",
    ")"
   ]
  },
  {
   "cell_type": "code",
   "execution_count": null,
   "id": "368bfda3-a2cf-40d7-b1a7-d65ea062faec",
   "metadata": {},
   "outputs": [],
   "source": []
  }
 ],
 "metadata": {
  "kernelspec": {
   "display_name": "Python 3 (ipykernel)",
   "language": "python",
   "name": "python3"
  },
  "language_info": {
   "codemirror_mode": {
    "name": "ipython",
    "version": 3
   },
   "file_extension": ".py",
   "mimetype": "text/x-python",
   "name": "python",
   "nbconvert_exporter": "python",
   "pygments_lexer": "ipython3",
   "version": "3.10.6"
  }
 },
 "nbformat": 4,
 "nbformat_minor": 5
}
