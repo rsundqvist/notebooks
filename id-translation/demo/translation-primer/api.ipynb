{
 "cells": [
  {
   "cell_type": "markdown",
   "id": "72d46e41-b0dc-4d4a-b114-f90788b5884c",
   "metadata": {},
   "source": [
    "# Primer: API implementation\n",
    "This notebook reconstructs the `Translator` showcased in the [Translation primer](../../../translation-primer.rst) using the API."
   ]
  },
  {
   "cell_type": "code",
   "execution_count": 1,
   "id": "d3aa815a-49f8-408c-bb4e-e0f088a114d4",
   "metadata": {
    "execution": {
     "iopub.execute_input": "2023-03-25T10:23:13.441024Z",
     "iopub.status.busy": "2023-03-25T10:23:13.440917Z",
     "iopub.status.idle": "2023-03-25T10:23:13.974780Z",
     "shell.execute_reply": "2023-03-25T10:23:13.974006Z",
     "shell.execute_reply.started": "2023-03-25T10:23:13.441014Z"
    }
   },
   "outputs": [
    {
     "name": "stdout",
     "output_type": "stream",
     "text": [
      "rics.__version__='3.0.0'\n",
      "id_translation.__version__='0.3.1.dev1'\n",
      "sys.version='3.10.6 (main, Mar 10 2023, 10:55:28) [GCC 11.3.0]'\n",
      "👻 Configured some stuff just the way I like it!\n",
      "\u001b[33md2093a4\u001b[m\u001b[33m (\u001b[m\u001b[1;36mHEAD\u001b[m\u001b[33m, \u001b[m\u001b[1;31morigin/main\u001b[m\u001b[33m, \u001b[m\u001b[1;31morigin/HEAD\u001b[m\u001b[33m, \u001b[m\u001b[1;32mmain\u001b[m\u001b[33m)\u001b[m Update help link in TOML files\n"
     ]
    }
   ],
   "source": [
    "import sys\n",
    "import rics\n",
    "import id_translation\n",
    "\n",
    "# Print relevant versions\n",
    "print(f\"{rics.__version__=}\")\n",
    "print(f\"{id_translation.__version__=}\")\n",
    "print(f\"{sys.version=}\")\n",
    "rics.configure_stuff(id_translation_level=\"DEBUG\")\n",
    "!git log --pretty=oneline --abbrev-commit -1"
   ]
  },
  {
   "cell_type": "markdown",
   "id": "ad0fd150-f88c-4688-befd-4033c6df9d8f",
   "metadata": {},
   "source": [
    "## Translatable data"
   ]
  },
  {
   "cell_type": "code",
   "execution_count": 2,
   "id": "03f1f870-4189-48b7-b992-9c3262b52f4a",
   "metadata": {
    "execution": {
     "iopub.execute_input": "2023-03-25T10:23:13.977085Z",
     "iopub.status.busy": "2023-03-25T10:23:13.976733Z",
     "iopub.status.idle": "2023-03-25T10:23:13.988726Z",
     "shell.execute_reply": "2023-03-25T10:23:13.988234Z",
     "shell.execute_reply.started": "2023-03-25T10:23:13.977064Z"
    }
   },
   "outputs": [
    {
     "data": {
      "text/html": [
       "<div>\n",
       "<style scoped>\n",
       "    .dataframe tbody tr th:only-of-type {\n",
       "        vertical-align: middle;\n",
       "    }\n",
       "\n",
       "    .dataframe tbody tr th {\n",
       "        vertical-align: top;\n",
       "    }\n",
       "\n",
       "    .dataframe thead th {\n",
       "        text-align: right;\n",
       "    }\n",
       "</style>\n",
       "<table border=\"1\" class=\"dataframe\">\n",
       "  <thead>\n",
       "    <tr style=\"text-align: right;\">\n",
       "      <th></th>\n",
       "      <th>human_id</th>\n",
       "      <th>bitten_by</th>\n",
       "    </tr>\n",
       "  </thead>\n",
       "  <tbody>\n",
       "    <tr>\n",
       "      <th>0</th>\n",
       "      <td>1904</td>\n",
       "      <td>1</td>\n",
       "    </tr>\n",
       "    <tr>\n",
       "      <th>1</th>\n",
       "      <td>1991</td>\n",
       "      <td>0</td>\n",
       "    </tr>\n",
       "    <tr>\n",
       "      <th>2</th>\n",
       "      <td>1991</td>\n",
       "      <td>2</td>\n",
       "    </tr>\n",
       "    <tr>\n",
       "      <th>3</th>\n",
       "      <td>1999</td>\n",
       "      <td>0</td>\n",
       "    </tr>\n",
       "  </tbody>\n",
       "</table>\n",
       "</div>"
      ],
      "text/plain": [
       "   human_id  bitten_by\n",
       "0      1904          1\n",
       "1      1991          0\n",
       "2      1991          2\n",
       "3      1999          0"
      ]
     },
     "execution_count": 2,
     "metadata": {},
     "output_type": "execute_result"
    }
   ],
   "source": [
    "from pandas import read_csv\n",
    "\n",
    "bite_report = read_csv(\"biting-victims-2019-05-11.csv\")\n",
    "bite_report"
   ]
  },
  {
   "cell_type": "markdown",
   "id": "d531ee50-2a4f-42f4-a3a1-2a6689a56c10",
   "metadata": {},
   "source": [
    "## Name-to-source mapping"
   ]
  },
  {
   "cell_type": "code",
   "execution_count": 3,
   "id": "1fefab00-ce61-49e4-8a55-cf425526b88d",
   "metadata": {
    "execution": {
     "iopub.execute_input": "2023-03-25T10:23:13.989204Z",
     "iopub.status.busy": "2023-03-25T10:23:13.989089Z",
     "iopub.status.idle": "2023-03-25T10:23:13.998429Z",
     "shell.execute_reply": "2023-03-25T10:23:13.997851Z",
     "shell.execute_reply.started": "2023-03-25T10:23:13.989195Z"
    },
    "tags": []
   },
   "outputs": [],
   "source": [
    "from rics.mapping import HeuristicScore, Mapper\n",
    "\n",
    "score_function = HeuristicScore(\"equality\", heuristics=[\"like_database_table\"])\n",
    "mapper = Mapper(score_function, overrides={\"bitten_by\": \"animals\"})"
   ]
  },
  {
   "cell_type": "markdown",
   "id": "5ac6d864-445c-4f77-8bfc-5a5939449635",
   "metadata": {},
   "source": [
    "## Translation format"
   ]
  },
  {
   "cell_type": "code",
   "execution_count": 4,
   "id": "552eaded-7d5a-417e-a4e3-367befde3537",
   "metadata": {
    "execution": {
     "iopub.execute_input": "2023-03-25T10:23:13.999089Z",
     "iopub.status.busy": "2023-03-25T10:23:13.998959Z",
     "iopub.status.idle": "2023-03-25T10:23:14.001831Z",
     "shell.execute_reply": "2023-03-25T10:23:14.001337Z",
     "shell.execute_reply.started": "2023-03-25T10:23:13.999080Z"
    }
   },
   "outputs": [],
   "source": [
    "translation_format = \"[{title}. ]{name} (id={id})[ the {species}]\""
   ]
  },
  {
   "cell_type": "markdown",
   "id": "6b021019-9123-49eb-9b7d-2505ebcde411",
   "metadata": {},
   "source": [
    "## Placeholder mapping\n",
    "Define heuristic score function."
   ]
  },
  {
   "cell_type": "code",
   "execution_count": 5,
   "id": "44cf127e-5c43-4c78-a063-73a973daee9d",
   "metadata": {
    "execution": {
     "iopub.execute_input": "2023-03-25T10:23:14.002380Z",
     "iopub.status.busy": "2023-03-25T10:23:14.002273Z",
     "iopub.status.idle": "2023-03-25T10:23:14.005931Z",
     "shell.execute_reply": "2023-03-25T10:23:14.005353Z",
     "shell.execute_reply.started": "2023-03-25T10:23:14.002371Z"
    },
    "tags": []
   },
   "outputs": [],
   "source": [
    "from id_translation.fetching import PandasFetcher\n",
    "\n",
    "\n",
    "def smurf_column_heuristic(value, candidates, context):\n",
    "    \"\"\"Heuristic for matching columns that use the \"smurf\" convention.\n",
    "\n",
    "    The value is the desired placeholder, the context is the name of the source\n",
    "    for which placeholder mapping is being performed.\n",
    "    \"\"\"\n",
    "    return (\n",
    "        f\"{context[:-1]}_{value}\" if context[-1] == \"s\" else f\"{context}_{value}\",\n",
    "        candidates,\n",
    "    )\n",
    "\n",
    "\n",
    "smurf_score = HeuristicScore(\"equality\", heuristics=[smurf_column_heuristic])"
   ]
  },
  {
   "cell_type": "markdown",
   "id": "c8fc205b-9479-43de-88e3-2917aea3cd78",
   "metadata": {},
   "source": [
    "## Create fetcher"
   ]
  },
  {
   "cell_type": "code",
   "execution_count": 6,
   "id": "4ab10458-8b72-4462-8ad6-e8bd8aa602fa",
   "metadata": {
    "execution": {
     "iopub.execute_input": "2023-03-25T10:23:14.006433Z",
     "iopub.status.busy": "2023-03-25T10:23:14.006321Z",
     "iopub.status.idle": "2023-03-25T10:23:14.010499Z",
     "shell.execute_reply": "2023-03-25T10:23:14.009721Z",
     "shell.execute_reply.started": "2023-03-25T10:23:14.006424Z"
    }
   },
   "outputs": [],
   "source": [
    "fetcher = PandasFetcher(\n",
    "    read_csv, read_path_format=\"./sources/{}.csv\", mapper=Mapper(smurf_score)\n",
    ")"
   ]
  },
  {
   "cell_type": "markdown",
   "id": "4e904823-aa47-417c-8025-b70372090946",
   "metadata": {},
   "source": [
    "## Moment of truth"
   ]
  },
  {
   "cell_type": "code",
   "execution_count": 7,
   "id": "288e628e-9ad8-4805-a455-bc65c60baf35",
   "metadata": {
    "execution": {
     "iopub.execute_input": "2023-03-25T10:23:14.011807Z",
     "iopub.status.busy": "2023-03-25T10:23:14.011671Z",
     "iopub.status.idle": "2023-03-25T10:23:14.032087Z",
     "shell.execute_reply": "2023-03-25T10:23:14.031613Z",
     "shell.execute_reply.started": "2023-03-25T10:23:14.011797Z"
    }
   },
   "outputs": [
    {
     "name": "stderr",
     "output_type": "stream",
     "text": [
      "2023-03-25T11:23:14.013 [id_translation.fetching.pandas.discovery:DEBUG] Sources initialized: ['humans', 'animals']\n",
      "2023-03-25T11:23:14.016 [id_translation.Translator:INFO] Begin translation of 'DataFrame' using sources=['humans', 'animals']. Names to translate: Will be derived based on 'DataFrame'.\n",
      "2023-03-25T11:23:14.016 [id_translation.Translator:DEBUG] Begin name-to-source mapping of names=['human_id', 'bitten_by'] in DataFrame against sources=['humans', 'animals'].\n",
      "2023-03-25T11:23:14.019 [id_translation.Translator:DEBUG] Finished name-to-source mapping of names=['human_id', 'bitten_by'] in DataFrame against sources=['humans', 'animals']: {'human_id': ('humans',), 'bitten_by': ('animals',)}.\n",
      "2023-03-25T11:23:14.019 [id_translation.fetching:DEBUG] Begin wanted-to-actual placeholder mapping of placeholders={'name', 'title', 'species', 'id'} to actual placeholders={'id', 'title', 'name'} for source='humans'.\n",
      "2023-03-25T11:23:14.021 [id_translation.fetching:DEBUG] Finished wanted-to-actual placeholder mapping of placeholders={'name', 'title', 'species', 'id'} to actual placeholders={'id', 'title', 'name'} for source='humans': {'name': ('name',), 'title': ('title',), 'id': ('id',)}.\n",
      "2023-03-25T11:23:14.021 [id_translation.fetching:DEBUG] Begin fetching placeholders=('title', 'name', 'id', 'species') from source='humans' for 3 IDs.\n",
      "2023-03-25T11:23:14.023 [id_translation.fetching:DEBUG] Finished fetching placeholders=('id', 'name', 'title') for 3 IDs from source 'humans' in 0.00105887 sec using PandasFetcher(sources=['humans', 'animals']).\n",
      "2023-03-25T11:23:14.023 [id_translation.fetching:DEBUG] Begin wanted-to-actual placeholder mapping of placeholders={'name', 'title', 'species', 'id'} to actual placeholders={'name', 'species', 'animal_id'} for source='animals'.\n",
      "2023-03-25T11:23:14.024 [id_translation.fetching:DEBUG] Finished wanted-to-actual placeholder mapping of placeholders={'name', 'title', 'species', 'id'} to actual placeholders={'name', 'species', 'animal_id'} for source='animals': {'name': ('name',), 'species': ('species',), 'id': ('animal_id',)}.\n",
      "2023-03-25T11:23:14.025 [id_translation.fetching:DEBUG] Begin fetching placeholders=('title', 'name', 'id', 'species') from source='animals' for 3 IDs.\n",
      "2023-03-25T11:23:14.026 [id_translation.fetching:DEBUG] Finished fetching placeholders=('animal_id', 'name', 'species') for 3 IDs from source 'animals' in 0.000791097 sec using PandasFetcher(sources=['humans', 'animals']).\n",
      "2023-03-25T11:23:14.027 [id_translation.Translator:DEBUG] Failed to translate 0/8 (0.000%) of IDs extracted from 2 different names.\n",
      "2023-03-25T11:23:14.028 [id_translation.Translator:INFO] Finished translation of 'DataFrame' in 0.0158912 sec. Returning a translated copy since inplace=False.\n"
     ]
    },
    {
     "data": {
      "text/html": [
       "<div>\n",
       "<style scoped>\n",
       "    .dataframe tbody tr th:only-of-type {\n",
       "        vertical-align: middle;\n",
       "    }\n",
       "\n",
       "    .dataframe tbody tr th {\n",
       "        vertical-align: top;\n",
       "    }\n",
       "\n",
       "    .dataframe thead th {\n",
       "        text-align: right;\n",
       "    }\n",
       "</style>\n",
       "<table border=\"1\" class=\"dataframe\">\n",
       "  <thead>\n",
       "    <tr style=\"text-align: right;\">\n",
       "      <th></th>\n",
       "      <th>human_id</th>\n",
       "      <th>bitten_by</th>\n",
       "    </tr>\n",
       "  </thead>\n",
       "  <tbody>\n",
       "    <tr>\n",
       "      <th>0</th>\n",
       "      <td>Mr. Fred (id=1904)</td>\n",
       "      <td>Morris (id=1) the dog</td>\n",
       "    </tr>\n",
       "    <tr>\n",
       "      <th>1</th>\n",
       "      <td>Mr. Richard (id=1991)</td>\n",
       "      <td>Tarzan (id=0) the cat</td>\n",
       "    </tr>\n",
       "    <tr>\n",
       "      <th>2</th>\n",
       "      <td>Mr. Richard (id=1991)</td>\n",
       "      <td>Simba (id=2) the lion</td>\n",
       "    </tr>\n",
       "    <tr>\n",
       "      <th>3</th>\n",
       "      <td>Dr. Sofia (id=1999)</td>\n",
       "      <td>Tarzan (id=0) the cat</td>\n",
       "    </tr>\n",
       "  </tbody>\n",
       "</table>\n",
       "</div>"
      ],
      "text/plain": [
       "                human_id              bitten_by\n",
       "0     Mr. Fred (id=1904)  Morris (id=1) the dog\n",
       "1  Mr. Richard (id=1991)  Tarzan (id=0) the cat\n",
       "2  Mr. Richard (id=1991)  Simba (id=2) the lion\n",
       "3    Dr. Sofia (id=1999)  Tarzan (id=0) the cat"
      ]
     },
     "execution_count": 7,
     "metadata": {},
     "output_type": "execute_result"
    }
   ],
   "source": [
    "from id_translation import Translator\n",
    "\n",
    "translator = Translator(fetcher, fmt=translation_format, mapper=mapper)\n",
    "translated_bite_report = translator.translate(bite_report)\n",
    "translated_bite_report"
   ]
  },
  {
   "cell_type": "code",
   "execution_count": 8,
   "id": "9078871d-7af9-43ea-97ad-3f430c4202d3",
   "metadata": {
    "execution": {
     "iopub.execute_input": "2023-03-25T10:23:14.032604Z",
     "iopub.status.busy": "2023-03-25T10:23:14.032494Z",
     "iopub.status.idle": "2023-03-25T10:23:14.036503Z",
     "shell.execute_reply": "2023-03-25T10:23:14.035882Z",
     "shell.execute_reply.started": "2023-03-25T10:23:14.032595Z"
    }
   },
   "outputs": [],
   "source": [
    "assert translated_bite_report.equals(\n",
    "    read_csv(\"biting-victims-2019-05-11-translated.csv\")\n",
    ")"
   ]
  },
  {
   "cell_type": "code",
   "execution_count": null,
   "id": "368bfda3-a2cf-40d7-b1a7-d65ea062faec",
   "metadata": {},
   "outputs": [],
   "source": []
  }
 ],
 "metadata": {
  "kernelspec": {
   "display_name": "Python 3 (ipykernel)",
   "language": "python",
   "name": "python3"
  },
  "language_info": {
   "codemirror_mode": {
    "name": "ipython",
    "version": 3
   },
   "file_extension": ".py",
   "mimetype": "text/x-python",
   "name": "python",
   "nbconvert_exporter": "python",
   "pygments_lexer": "ipython3",
   "version": "3.10.6"
  }
 },
 "nbformat": 4,
 "nbformat_minor": 5
}
