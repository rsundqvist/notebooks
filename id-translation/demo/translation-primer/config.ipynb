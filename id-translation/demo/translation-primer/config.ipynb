{
 "cells": [
  {
   "cell_type": "markdown",
   "id": "13f908c9-91ef-4c10-9342-8c7d1d282b49",
   "metadata": {},
   "source": [
    "# Primer: TOML implementation\n",
    "This notebook reconstructs the `Translator` showcased in the [Translation primer](../../../translation-primer.rst) using the a [TOML configuration](config.toml)."
   ]
  },
  {
   "cell_type": "code",
   "execution_count": 1,
   "id": "0369b718-55fc-46f1-bf0f-510d541514df",
   "metadata": {
    "execution": {
     "iopub.execute_input": "2023-11-05T22:50:07.845018Z",
     "iopub.status.busy": "2023-11-05T22:50:07.844914Z",
     "iopub.status.idle": "2023-11-05T22:50:08.195474Z",
     "shell.execute_reply": "2023-11-05T22:50:08.195026Z",
     "shell.execute_reply.started": "2023-11-05T22:50:07.845008Z"
    },
    "tags": []
   },
   "outputs": [
    {
     "name": "stdout",
     "output_type": "stream",
     "text": [
      "rics.__version__='3.2.0'\n",
      "id_translation.__version__='0.5.1.dev1'\n",
      "sys.version='3.11.6 (main, Oct 23 2023, 22:48:54) [GCC 11.4.0]'\n"
     ]
    }
   ],
   "source": [
    "import sys\n",
    "import rics\n",
    "import id_translation\n",
    "\n",
    "# Print relevant versions\n",
    "print(f\"{rics.__version__=}\")\n",
    "print(f\"{id_translation.__version__=}\")\n",
    "print(f\"{sys.version=}\")"
   ]
  },
  {
   "cell_type": "code",
   "execution_count": 2,
   "id": "bbcd3c20-f2bd-4eae-94ec-e35e58164f6d",
   "metadata": {
    "execution": {
     "iopub.execute_input": "2023-11-05T22:50:08.196493Z",
     "iopub.status.busy": "2023-11-05T22:50:08.196324Z",
     "iopub.status.idle": "2023-11-05T22:50:08.698230Z",
     "shell.execute_reply": "2023-11-05T22:50:08.697456Z",
     "shell.execute_reply.started": "2023-11-05T22:50:08.196483Z"
    }
   },
   "outputs": [
    {
     "name": "stdout",
     "output_type": "stream",
     "text": [
      "👻 Configured some stuff just the way I like it!\n"
     ]
    }
   ],
   "source": [
    "rics.configure_stuff(format=\"[%(name)s:%(levelname)s] %(message)s\")"
   ]
  },
  {
   "cell_type": "markdown",
   "id": "1487d6cf-9f0f-477f-ac00-01442e0ca99d",
   "metadata": {},
   "source": [
    "## Translatable data"
   ]
  },
  {
   "cell_type": "code",
   "execution_count": 3,
   "id": "8b7cb6d7-f985-4d8c-b2a9-46302422371d",
   "metadata": {
    "execution": {
     "iopub.execute_input": "2023-11-05T22:50:08.698963Z",
     "iopub.status.busy": "2023-11-05T22:50:08.698736Z",
     "iopub.status.idle": "2023-11-05T22:50:08.709993Z",
     "shell.execute_reply": "2023-11-05T22:50:08.709386Z",
     "shell.execute_reply.started": "2023-11-05T22:50:08.698951Z"
    }
   },
   "outputs": [
    {
     "data": {
      "text/html": [
       "<div>\n",
       "<style scoped>\n",
       "    .dataframe tbody tr th:only-of-type {\n",
       "        vertical-align: middle;\n",
       "    }\n",
       "\n",
       "    .dataframe tbody tr th {\n",
       "        vertical-align: top;\n",
       "    }\n",
       "\n",
       "    .dataframe thead th {\n",
       "        text-align: right;\n",
       "    }\n",
       "</style>\n",
       "<table border=\"1\" class=\"dataframe\">\n",
       "  <thead>\n",
       "    <tr style=\"text-align: right;\">\n",
       "      <th></th>\n",
       "      <th>human_id</th>\n",
       "      <th>bitten_by</th>\n",
       "    </tr>\n",
       "  </thead>\n",
       "  <tbody>\n",
       "    <tr>\n",
       "      <th>0</th>\n",
       "      <td>1904</td>\n",
       "      <td>1</td>\n",
       "    </tr>\n",
       "    <tr>\n",
       "      <th>1</th>\n",
       "      <td>1991</td>\n",
       "      <td>0</td>\n",
       "    </tr>\n",
       "    <tr>\n",
       "      <th>2</th>\n",
       "      <td>1991</td>\n",
       "      <td>2</td>\n",
       "    </tr>\n",
       "    <tr>\n",
       "      <th>3</th>\n",
       "      <td>1999</td>\n",
       "      <td>0</td>\n",
       "    </tr>\n",
       "  </tbody>\n",
       "</table>\n",
       "</div>"
      ],
      "text/plain": [
       "   human_id  bitten_by\n",
       "0      1904          1\n",
       "1      1991          0\n",
       "2      1991          2\n",
       "3      1999          0"
      ]
     },
     "execution_count": 3,
     "metadata": {},
     "output_type": "execute_result"
    }
   ],
   "source": [
    "import pandas as pd\n",
    "\n",
    "bite_report = pd.read_csv(\"biting-victims-2019-05-11.csv\")\n",
    "bite_report"
   ]
  },
  {
   "cell_type": "markdown",
   "id": "6b021019-9123-49eb-9b7d-2505ebcde411",
   "metadata": {},
   "source": [
    "## Mapping\n",
    "### Define heuristic function\n",
    "\n",
    "This will map to map `id` to `animal_id` when `context=\"animals\"`.\n",
    "\n",
    "It will remap the correctly named `id` column in `humans.csv` as well, but this is not a problem since the best match will be used."
   ]
  },
  {
   "cell_type": "code",
   "execution_count": 4,
   "id": "44cf127e-5c43-4c78-a063-73a973daee9d",
   "metadata": {
    "execution": {
     "iopub.execute_input": "2023-11-05T22:50:08.710945Z",
     "iopub.status.busy": "2023-11-05T22:50:08.710803Z",
     "iopub.status.idle": "2023-11-05T22:50:08.714130Z",
     "shell.execute_reply": "2023-11-05T22:50:08.713567Z",
     "shell.execute_reply.started": "2023-11-05T22:50:08.710933Z"
    }
   },
   "outputs": [],
   "source": [
    "def smurf_column_heuristic(value, candidates, context):\n",
    "    \"\"\"Heuristic for matching columns that use the \"smurf\" convention.\"\"\"\n",
    "    return (\n",
    "        # Handles plural form that ends with or without an s.\n",
    "        f\"{context[:-1]}_{value}\" if context[-1] == \"s\" else f\"{context}_{value}\",\n",
    "        candidates,  # unchanged\n",
    "    )"
   ]
  },
  {
   "cell_type": "markdown",
   "id": "4e904823-aa47-417c-8025-b70372090946",
   "metadata": {},
   "source": [
    "## Moment of truth"
   ]
  },
  {
   "cell_type": "code",
   "execution_count": 5,
   "id": "288e628e-9ad8-4805-a455-bc65c60baf35",
   "metadata": {
    "execution": {
     "iopub.execute_input": "2023-11-05T22:50:08.715005Z",
     "iopub.status.busy": "2023-11-05T22:50:08.714878Z",
     "iopub.status.idle": "2023-11-05T22:50:08.727831Z",
     "shell.execute_reply": "2023-11-05T22:50:08.727325Z",
     "shell.execute_reply.started": "2023-11-05T22:50:08.714994Z"
    }
   },
   "outputs": [
    {
     "name": "stderr",
     "output_type": "stream",
     "text": [
      "[id_translation.Translator.translate:INFO] Finished translation of 2 names in 'DataFrame'-type data in 7ms, using name-to-source mapping: {'human_id': 'humans', 'bitten_by': 'animals'}.\n"
     ]
    },
    {
     "data": {
      "text/html": [
       "<div>\n",
       "<style scoped>\n",
       "    .dataframe tbody tr th:only-of-type {\n",
       "        vertical-align: middle;\n",
       "    }\n",
       "\n",
       "    .dataframe tbody tr th {\n",
       "        vertical-align: top;\n",
       "    }\n",
       "\n",
       "    .dataframe thead th {\n",
       "        text-align: right;\n",
       "    }\n",
       "</style>\n",
       "<table border=\"1\" class=\"dataframe\">\n",
       "  <thead>\n",
       "    <tr style=\"text-align: right;\">\n",
       "      <th></th>\n",
       "      <th>human_id</th>\n",
       "      <th>bitten_by</th>\n",
       "    </tr>\n",
       "  </thead>\n",
       "  <tbody>\n",
       "    <tr>\n",
       "      <th>0</th>\n",
       "      <td>Mr. Fred (id=1904)</td>\n",
       "      <td>Morris (id=1) the dog</td>\n",
       "    </tr>\n",
       "    <tr>\n",
       "      <th>1</th>\n",
       "      <td>Mr. Richard (id=1991)</td>\n",
       "      <td>Tarzan (id=0) the cat</td>\n",
       "    </tr>\n",
       "    <tr>\n",
       "      <th>2</th>\n",
       "      <td>Mr. Richard (id=1991)</td>\n",
       "      <td>Simba (id=2) the lion</td>\n",
       "    </tr>\n",
       "    <tr>\n",
       "      <th>3</th>\n",
       "      <td>Dr. Sofia (id=1999)</td>\n",
       "      <td>Tarzan (id=0) the cat</td>\n",
       "    </tr>\n",
       "  </tbody>\n",
       "</table>\n",
       "</div>"
      ],
      "text/plain": [
       "                human_id              bitten_by\n",
       "0     Mr. Fred (id=1904)  Morris (id=1) the dog\n",
       "1  Mr. Richard (id=1991)  Tarzan (id=0) the cat\n",
       "2  Mr. Richard (id=1991)  Simba (id=2) the lion\n",
       "3    Dr. Sofia (id=1999)  Tarzan (id=0) the cat"
      ]
     },
     "execution_count": 5,
     "metadata": {},
     "output_type": "execute_result"
    }
   ],
   "source": [
    "from id_translation import Translator\n",
    "\n",
    "translated_bite_report = Translator.from_config(\"config.toml\").translate(bite_report)\n",
    "translated_bite_report"
   ]
  },
  {
   "cell_type": "code",
   "execution_count": 6,
   "id": "8a9bd821-980d-43f2-bec9-d2c189d63f2a",
   "metadata": {
    "execution": {
     "iopub.execute_input": "2023-11-05T22:50:08.728334Z",
     "iopub.status.busy": "2023-11-05T22:50:08.728206Z",
     "iopub.status.idle": "2023-11-05T22:50:08.733248Z",
     "shell.execute_reply": "2023-11-05T22:50:08.732513Z",
     "shell.execute_reply.started": "2023-11-05T22:50:08.728324Z"
    }
   },
   "outputs": [],
   "source": [
    "expected = pd.read_csv(\"biting-victims-2019-05-11-translated.csv\")\n",
    "pd.testing.assert_frame_equal(translated_bite_report, expected)"
   ]
  },
  {
   "cell_type": "markdown",
   "id": "aa4ee1f0-99e3-4a12-9249-77c4b55951ba",
   "metadata": {
    "tags": []
   },
   "source": [
    "## Print the config\n",
    "Click [here](config.toml) to download."
   ]
  },
  {
   "cell_type": "code",
   "execution_count": 7,
   "id": "349297b4-bc51-449e-bdbc-746487109156",
   "metadata": {
    "execution": {
     "iopub.execute_input": "2023-11-05T22:50:08.736058Z",
     "iopub.status.busy": "2023-11-05T22:50:08.735441Z",
     "iopub.status.idle": "2023-11-05T22:50:09.169133Z",
     "shell.execute_reply": "2023-11-05T22:50:09.168512Z",
     "shell.execute_reply.started": "2023-11-05T22:50:08.736033Z"
    }
   },
   "outputs": [
    {
     "name": "stdout",
     "output_type": "stream",
     "text": [
      "\u001b[37m################################################################################\u001b[39;49;00m\u001b[37m\u001b[39;49;00m\n",
      "\u001b[37m# For help, see https://id-translation.readthedocs.io                          #\u001b[39;49;00m\u001b[37m\u001b[39;49;00m\n",
      "\u001b[37m################################################################################\u001b[39;49;00m\u001b[37m\u001b[39;49;00m\n",
      "\u001b[34m[translator]\u001b[39;49;00m\u001b[37m\u001b[39;49;00m\n",
      "fmt\u001b[37m \u001b[39;49;00m=\u001b[37m \u001b[39;49;00m\u001b[33m\"[{title}. ]{name} (id={id})[ the {species}]\"\u001b[39;49;00m\u001b[37m\u001b[39;49;00m\n",
      "\u001b[37m\u001b[39;49;00m\n",
      "\u001b[37m# ------------------------------------------------------------------------------\u001b[39;49;00m\u001b[37m\u001b[39;49;00m\n",
      "\u001b[37m# Name-to-source mapping configuration. Binds names to source, eg 'cute_animals'\u001b[39;49;00m\u001b[37m\u001b[39;49;00m\n",
      "\u001b[37m# -> 'my_database.animals'. Overrides take precedence over scoring logic.\u001b[39;49;00m\u001b[37m\u001b[39;49;00m\n",
      "\u001b[34m[translator.mapping]\u001b[39;49;00m\u001b[37m\u001b[39;49;00m\n",
      "score_function\u001b[37m \u001b[39;49;00m=\u001b[37m \u001b[39;49;00m\u001b[33m\"equality\"\u001b[39;49;00m\u001b[37m\u001b[39;49;00m\n",
      "\u001b[34m[[translator.mapping.score_function_heuristics]]\u001b[39;49;00m\u001b[37m\u001b[39;49;00m\n",
      "function\u001b[37m \u001b[39;49;00m=\u001b[37m \u001b[39;49;00m\u001b[33m\"like_database_table\"\u001b[39;49;00m\u001b[37m\u001b[39;49;00m\n",
      "\u001b[37m\u001b[39;49;00m\n",
      "\u001b[34m[translator.mapping.overrides]\u001b[39;49;00m\u001b[37m\u001b[39;49;00m\n",
      "bitten_by\u001b[37m \u001b[39;49;00m=\u001b[37m \u001b[39;49;00m\u001b[33m\"animals\"\u001b[39;49;00m\u001b[37m\u001b[39;49;00m\n",
      "\u001b[37m\u001b[39;49;00m\n",
      "\u001b[37m################################################################################\u001b[39;49;00m\u001b[37m\u001b[39;49;00m\n",
      "\u001b[37m# Fetching configuration.\u001b[39;49;00m\u001b[37m\u001b[39;49;00m\n",
      "\u001b[37m################################################################################\u001b[39;49;00m\u001b[37m\u001b[39;49;00m\n",
      "\u001b[34m[fetching.PandasFetcher]\u001b[39;49;00m\u001b[37m\u001b[39;49;00m\n",
      "read_function\u001b[37m \u001b[39;49;00m=\u001b[37m \u001b[39;49;00m\u001b[33m\"read_csv\"\u001b[39;49;00m\u001b[37m\u001b[39;49;00m\n",
      "read_path_format\u001b[37m \u001b[39;49;00m=\u001b[37m \u001b[39;49;00m\u001b[33m\"./sources/{}.csv\"\u001b[39;49;00m\u001b[37m\u001b[39;49;00m\n",
      "\u001b[37m\u001b[39;49;00m\n",
      "\u001b[34m[fetching.mapping]\u001b[39;49;00m\u001b[37m\u001b[39;49;00m\n",
      "verbose_logging\u001b[37m \u001b[39;49;00m=\u001b[37m \u001b[39;49;00m\u001b[34mfalse\u001b[39;49;00m\u001b[37m\u001b[39;49;00m\n",
      "\u001b[37m\u001b[39;49;00m\n",
      "\u001b[37m# ------------------------------------------------------------------------------\u001b[39;49;00m\u001b[37m\u001b[39;49;00m\n",
      "\u001b[37m# Placeholder mapping configuration. Binds actual names in sources (such as\u001b[39;49;00m\u001b[37m\u001b[39;49;00m\n",
      "\u001b[37m# column names in an SQL table) to wanted names, eg id = 'animal_id'.\u001b[39;49;00m\u001b[37m\u001b[39;49;00m\n",
      "\u001b[34m[[fetching.mapping.score_function_heuristics]]\u001b[39;49;00m\u001b[37m\u001b[39;49;00m\n",
      "function\u001b[37m \u001b[39;49;00m=\u001b[37m \u001b[39;49;00m\u001b[33m\"__main__.smurf_column_heuristic\"\u001b[39;49;00m\u001b[37m\u001b[39;49;00m\n"
     ]
    }
   ],
   "source": [
    "!pygmentize config.toml"
   ]
  },
  {
   "cell_type": "code",
   "execution_count": null,
   "id": "38a23387-7546-48c7-a8d3-04d9f3d0c3df",
   "metadata": {},
   "outputs": [],
   "source": []
  }
 ],
 "metadata": {
  "kernelspec": {
   "display_name": "Python 3 (ipykernel)",
   "language": "python",
   "name": "python3"
  },
  "language_info": {
   "codemirror_mode": {
    "name": "ipython",
    "version": 3
   },
   "file_extension": ".py",
   "mimetype": "text/x-python",
   "name": "python",
   "nbconvert_exporter": "python",
   "pygments_lexer": "ipython3",
   "version": "3.11.6"
  }
 },
 "nbformat": 4,
 "nbformat_minor": 5
}
