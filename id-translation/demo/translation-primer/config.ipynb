{
 "cells": [
  {
   "cell_type": "markdown",
   "id": "13f908c9-91ef-4c10-9342-8c7d1d282b49",
   "metadata": {},
   "source": [
    "# Primer: TOML implementation\n",
    "This notebook reconstructs the `Translator` showcased in the [Translation primer](../../../translation-primer.rst) using the a [TOML configuration](config.toml)."
   ]
  },
  {
   "cell_type": "code",
   "execution_count": 1,
   "id": "0369b718-55fc-46f1-bf0f-510d541514df",
   "metadata": {
    "execution": {
     "iopub.execute_input": "2023-03-25T10:21:34.717281Z",
     "iopub.status.busy": "2023-03-25T10:21:34.717182Z",
     "iopub.status.idle": "2023-03-25T10:21:35.279948Z",
     "shell.execute_reply": "2023-03-25T10:21:35.278708Z",
     "shell.execute_reply.started": "2023-03-25T10:21:34.717271Z"
    },
    "tags": []
   },
   "outputs": [
    {
     "name": "stdout",
     "output_type": "stream",
     "text": [
      "rics.__version__='3.0.0'\n",
      "id_translation.__version__='0.3.1.dev1'\n",
      "sys.version='3.10.6 (main, Mar 10 2023, 10:55:28) [GCC 11.3.0]'\n",
      "👻 Configured some stuff just the way I like it!\n",
      "\u001b[33md2093a4\u001b[m\u001b[33m (\u001b[m\u001b[1;36mHEAD\u001b[m\u001b[33m, \u001b[m\u001b[1;31morigin/main\u001b[m\u001b[33m, \u001b[m\u001b[1;31morigin/HEAD\u001b[m\u001b[33m, \u001b[m\u001b[1;32mmain\u001b[m\u001b[33m)\u001b[m Update help link in TOML files\n"
     ]
    }
   ],
   "source": [
    "import sys\n",
    "import rics\n",
    "import id_translation\n",
    "\n",
    "# Print relevant versions\n",
    "print(f\"{rics.__version__=}\")\n",
    "print(f\"{id_translation.__version__=}\")\n",
    "print(f\"{sys.version=}\")\n",
    "rics.configure_stuff(id_translation_level=\"DEBUG\")\n",
    "!git log --pretty=oneline --abbrev-commit -1"
   ]
  },
  {
   "cell_type": "markdown",
   "id": "1487d6cf-9f0f-477f-ac00-01442e0ca99d",
   "metadata": {},
   "source": [
    "## Translatable data"
   ]
  },
  {
   "cell_type": "code",
   "execution_count": 2,
   "id": "8b7cb6d7-f985-4d8c-b2a9-46302422371d",
   "metadata": {
    "execution": {
     "iopub.execute_input": "2023-03-25T10:21:35.282687Z",
     "iopub.status.busy": "2023-03-25T10:21:35.282126Z",
     "iopub.status.idle": "2023-03-25T10:21:35.300632Z",
     "shell.execute_reply": "2023-03-25T10:21:35.300120Z",
     "shell.execute_reply.started": "2023-03-25T10:21:35.282665Z"
    }
   },
   "outputs": [
    {
     "data": {
      "text/html": [
       "<div>\n",
       "<style scoped>\n",
       "    .dataframe tbody tr th:only-of-type {\n",
       "        vertical-align: middle;\n",
       "    }\n",
       "\n",
       "    .dataframe tbody tr th {\n",
       "        vertical-align: top;\n",
       "    }\n",
       "\n",
       "    .dataframe thead th {\n",
       "        text-align: right;\n",
       "    }\n",
       "</style>\n",
       "<table border=\"1\" class=\"dataframe\">\n",
       "  <thead>\n",
       "    <tr style=\"text-align: right;\">\n",
       "      <th></th>\n",
       "      <th>human_id</th>\n",
       "      <th>bitten_by</th>\n",
       "    </tr>\n",
       "  </thead>\n",
       "  <tbody>\n",
       "    <tr>\n",
       "      <th>0</th>\n",
       "      <td>1904</td>\n",
       "      <td>1</td>\n",
       "    </tr>\n",
       "    <tr>\n",
       "      <th>1</th>\n",
       "      <td>1991</td>\n",
       "      <td>0</td>\n",
       "    </tr>\n",
       "    <tr>\n",
       "      <th>2</th>\n",
       "      <td>1991</td>\n",
       "      <td>2</td>\n",
       "    </tr>\n",
       "    <tr>\n",
       "      <th>3</th>\n",
       "      <td>1999</td>\n",
       "      <td>0</td>\n",
       "    </tr>\n",
       "  </tbody>\n",
       "</table>\n",
       "</div>"
      ],
      "text/plain": [
       "   human_id  bitten_by\n",
       "0      1904          1\n",
       "1      1991          0\n",
       "2      1991          2\n",
       "3      1999          0"
      ]
     },
     "execution_count": 2,
     "metadata": {},
     "output_type": "execute_result"
    }
   ],
   "source": [
    "from pandas import read_csv\n",
    "\n",
    "bite_report = read_csv(\"biting-victims-2019-05-11.csv\")\n",
    "bite_report"
   ]
  },
  {
   "cell_type": "markdown",
   "id": "6b021019-9123-49eb-9b7d-2505ebcde411",
   "metadata": {},
   "source": [
    "## Define heuristic score function"
   ]
  },
  {
   "cell_type": "code",
   "execution_count": 3,
   "id": "44cf127e-5c43-4c78-a063-73a973daee9d",
   "metadata": {
    "execution": {
     "iopub.execute_input": "2023-03-25T10:21:35.301253Z",
     "iopub.status.busy": "2023-03-25T10:21:35.301134Z",
     "iopub.status.idle": "2023-03-25T10:21:35.309947Z",
     "shell.execute_reply": "2023-03-25T10:21:35.309216Z",
     "shell.execute_reply.started": "2023-03-25T10:21:35.301244Z"
    }
   },
   "outputs": [],
   "source": [
    "from id_translation.fetching import PandasFetcher\n",
    "from rics.mapping import HeuristicScore, Mapper\n",
    "\n",
    "\n",
    "def smurf_column_heuristic(value, candidates, context):\n",
    "    \"\"\"Heuristic for matching columns that use the \"smurf\" convention.\n",
    "\n",
    "    The value is the desired placeholder, the context is the name of the source\n",
    "    for which placeholder mapping is being performed.\n",
    "    \"\"\"\n",
    "    return (\n",
    "        f\"{context[:-1]}_{value}\" if context[-1] == \"s\" else f\"{context}_{value}\",\n",
    "        candidates,\n",
    "    )"
   ]
  },
  {
   "cell_type": "markdown",
   "id": "4e904823-aa47-417c-8025-b70372090946",
   "metadata": {},
   "source": [
    "## Moment of truth"
   ]
  },
  {
   "cell_type": "code",
   "execution_count": 4,
   "id": "288e628e-9ad8-4805-a455-bc65c60baf35",
   "metadata": {
    "execution": {
     "iopub.execute_input": "2023-03-25T10:21:35.311548Z",
     "iopub.status.busy": "2023-03-25T10:21:35.311342Z",
     "iopub.status.idle": "2023-03-25T10:21:35.350473Z",
     "shell.execute_reply": "2023-03-25T10:21:35.350024Z",
     "shell.execute_reply.started": "2023-03-25T10:21:35.311534Z"
    }
   },
   "outputs": [
    {
     "name": "stderr",
     "output_type": "stream",
     "text": [
      "2023-03-25T11:21:35.313 [id_translation.fetching.config-toml.pandas.discovery:DEBUG] Sources initialized: ['humans', 'animals']\n",
      "2023-03-25T11:21:35.316 [id_translation.Translator:INFO] Begin translation of 'DataFrame' using sources=['humans', 'animals']. Names to translate: Will be derived based on 'DataFrame'.\n",
      "2023-03-25T11:21:35.316 [id_translation.Translator:DEBUG] Begin name-to-source mapping of names=['human_id', 'bitten_by'] in DataFrame against sources=['humans', 'animals'].\n",
      "2023-03-25T11:21:35.317 [id_translation.mapping.name-to-source:DEBUG] Begin computing match scores for ['human_id', 'bitten_by']x['humans', 'animals'] using HeuristicScore([like_database_table()] -> equality).\n",
      "2023-03-25T11:21:35.317 [id_translation.mapping.name-to-source:DEBUG] Applied 1 overrides, and found 1 matches={'bitten_by': 'animals'} in the given values=['human_id', 'bitten_by'].\n",
      "2023-03-25T11:21:35.319 [id_translation.Translator:DEBUG] Finished name-to-source mapping of names=['human_id', 'bitten_by'] in DataFrame against sources=['humans', 'animals']: {'human_id': ('humans',), 'bitten_by': ('animals',)}.\n",
      "2023-03-25T11:21:35.320 [id_translation.fetching.config-toml:DEBUG] Begin wanted-to-actual placeholder mapping of placeholders={'species', 'name', 'id', 'title'} to actual placeholders={'name', 'id', 'title'} for source='humans'.\n",
      "2023-03-25T11:21:35.320 [id_translation.mapping.placeholders.config-toml:DEBUG] Begin computing match scores in context='humans' for ['species', 'name', 'id', 'title']x['name', 'id', 'title'] using HeuristicScore([force_lower_case() | smurf_column_heuristic()] -> AbstractFetcher.default_score_function).\n",
      "2023-03-25T11:21:35.320 [id_translation.mapping.placeholders.config-toml.verbose:DEBUG] Compute match scores for value='species'.\n",
      "2023-03-25T11:21:35.321 [id_translation.mapping.verbose.HeuristicScore:DEBUG] Called non-mutating alias function force_lower_case() in context='humans':\n",
      "    ('species', ['name', 'id', 'title']) -> (*, *).\n",
      "    Positional penalty=0.000. Scores before penalty: [0.0, -0.001, -0.002].\n",
      "2023-03-25T11:21:35.321 [id_translation.mapping.verbose.HeuristicScore:DEBUG] Called non-mutating alias function smurf_column_heuristic() in context='humans':\n",
      "    ('species', ['name', 'id', 'title']) -> ('human_species', *).\n",
      "    Positional penalty=0.005. Scores before penalty: [0.0, -0.001, -0.002].\n",
      "2023-03-25T11:21:35.321 [id_translation.mapping.verbose.HeuristicScore:DEBUG] Heuristics scores for value='species': ['name': 0.00 -> 0.00 (+0.00), 'id': -0.00 -> -0.00 (+0.00), 'title': -0.00 -> -0.00 (+0.00)]\n",
      "2023-03-25T11:21:35.321 [id_translation.mapping.placeholders.config-toml.verbose:DEBUG] Compute match scores for value='name'.\n",
      "2023-03-25T11:21:35.322 [id_translation.mapping.placeholders.config-toml.verbose:DEBUG] Compute match scores for value='id'.\n",
      "2023-03-25T11:21:35.322 [id_translation.mapping.placeholders.config-toml.verbose:DEBUG] Compute match scores for value='title'.\n",
      "2023-03-25T11:21:35.323 [id_translation.mapping.placeholders.config-toml.verbose:DEBUG] Computed 4x3 match scores in 0.00272595 sec:\n",
      "candidates  name     id  title\n",
      "values                        \n",
      "species        0 -0.001 -0.002\n",
      "name         inf   -inf   -inf\n",
      "id          -inf    inf   -inf\n",
      "title       -inf   -inf    inf\n",
      "2023-03-25T11:21:35.324 [id_translation.mapping.placeholders.config-toml.verbose:DEBUG] Accepted: 'name' -> 'name'; score=inf (short-circuit or override).\n",
      "2023-03-25T11:21:35.325 [id_translation.mapping.placeholders.config-toml.verbose:DEBUG] This match supersedes 2 other matches:\n",
      "    'name' -> 'id'; score=-inf (superseded by short-circuit or override).\n",
      "    'name' -> 'title'; score=-inf (superseded by short-circuit or override).\n",
      "2023-03-25T11:21:35.325 [id_translation.mapping.placeholders.config-toml.verbose:DEBUG] Accepted: 'id' -> 'id'; score=inf (short-circuit or override).\n",
      "2023-03-25T11:21:35.326 [id_translation.mapping.placeholders.config-toml.verbose:DEBUG] This match supersedes 2 other matches:\n",
      "    'id' -> 'name'; score=-inf (superseded by short-circuit or override).\n",
      "    'id' -> 'title'; score=-inf (superseded by short-circuit or override).\n",
      "2023-03-25T11:21:35.326 [id_translation.mapping.placeholders.config-toml.verbose:DEBUG] Accepted: 'title' -> 'title'; score=inf (short-circuit or override).\n",
      "2023-03-25T11:21:35.326 [id_translation.mapping.placeholders.config-toml.verbose:DEBUG] This match supersedes 2 other matches:\n",
      "    'title' -> 'name'; score=-inf (superseded by short-circuit or override).\n",
      "    'title' -> 'id'; score=-inf (superseded by short-circuit or override).\n",
      "2023-03-25T11:21:35.328 [id_translation.mapping.placeholders.config-toml.verbose:DEBUG] Could not map value='species':\n",
      "    'species' -> 'name'; score=0.000 < 0.9 (below threshold).\n",
      "    'species' -> 'id'; score=-0.001 < 0.9 (below threshold).\n",
      "    'species' -> 'title'; score=-0.002 < 0.9 (below threshold).\n",
      "2023-03-25T11:21:35.329 [id_translation.mapping.placeholders.config-toml.verbose:DEBUG] Could not map {'species'} in context='humans' to any of candidates={'name', 'id', 'title'}.\n",
      "2023-03-25T11:21:35.329 [id_translation.mapping.placeholders.config-toml.verbose:DEBUG] Mapping with cardinality='ManyToOne' completed for ['species', 'name', 'id', 'title']x['name', 'id', 'title'] in 0.00916875 sec. Matches:\n",
      "    'species' -> <no matches>\n",
      "    'name' -> ('name',)\n",
      "    'id' -> ('id',)\n",
      "    'title' -> ('title',)\n",
      "Matched 3/4 values with 3 different candidates.\n",
      "2023-03-25T11:21:35.329 [id_translation.fetching.config-toml:DEBUG] Finished wanted-to-actual placeholder mapping of placeholders={'species', 'name', 'id', 'title'} to actual placeholders={'name', 'id', 'title'} for source='humans': {'name': ('name',), 'id': ('id',), 'title': ('title',)}.\n",
      "2023-03-25T11:21:35.330 [id_translation.fetching.config-toml:DEBUG] Begin fetching placeholders=('title', 'name', 'id', 'species') from source='humans' for 3 IDs.\n",
      "2023-03-25T11:21:35.331 [id_translation.fetching.config-toml:DEBUG] Finished fetching placeholders=('id', 'name', 'title') for 3 IDs from source 'humans' in 0.00149211 sec using PandasFetcher(sources=['humans', 'animals']).\n",
      "2023-03-25T11:21:35.332 [id_translation.fetching.config-toml:DEBUG] Begin wanted-to-actual placeholder mapping of placeholders={'species', 'name', 'id', 'title'} to actual placeholders={'animal_id', 'name', 'species'} for source='animals'.\n",
      "2023-03-25T11:21:35.332 [id_translation.mapping.placeholders.config-toml:DEBUG] Begin computing match scores in context='animals' for ['species', 'name', 'id', 'title']x['animal_id', 'name', 'species'] using HeuristicScore([force_lower_case() | smurf_column_heuristic()] -> AbstractFetcher.default_score_function).\n",
      "2023-03-25T11:21:35.333 [id_translation.mapping.placeholders.config-toml.verbose:DEBUG] Compute match scores for value='species'.\n",
      "2023-03-25T11:21:35.333 [id_translation.mapping.placeholders.config-toml.verbose:DEBUG] Compute match scores for value='name'.\n",
      "2023-03-25T11:21:35.334 [id_translation.mapping.placeholders.config-toml.verbose:DEBUG] Compute match scores for value='id'.\n",
      "2023-03-25T11:21:35.334 [id_translation.mapping.verbose.HeuristicScore:DEBUG] Called non-mutating alias function force_lower_case() in context='animals':\n",
      "    ('id', ['animal_id', 'name', 'species']) -> (*, *).\n",
      "    Positional penalty=0.000. Scores before penalty: [0.125, -0.001, -0.002].\n",
      "2023-03-25T11:21:35.334 [id_translation.mapping.verbose.HeuristicScore:DEBUG] Called non-mutating alias function smurf_column_heuristic() in context='animals':\n",
      "    ('id', ['animal_id', 'name', 'species']) -> ('animal_id', *).\n",
      "    Positional penalty=0.005. Scores before penalty: [1.0, -0.001, -0.002].\n",
      "2023-03-25T11:21:35.334 [id_translation.mapping.verbose.HeuristicScore:DEBUG] Heuristics scores for value='id': ['animal_id': 0.12 -> 0.99 (+0.87), 'name': -0.00 -> -0.00 (+0.00), 'species': -0.00 -> -0.00 (+0.00)]\n",
      "2023-03-25T11:21:35.335 [id_translation.mapping.placeholders.config-toml.verbose:DEBUG] Compute match scores for value='title'.\n",
      "2023-03-25T11:21:35.335 [id_translation.mapping.verbose.HeuristicScore:DEBUG] Called non-mutating alias function force_lower_case() in context='animals':\n",
      "    ('title', ['animal_id', 'name', 'species']) -> (*, *).\n",
      "    Positional penalty=0.000. Scores before penalty: [0.0, 0.124, -0.002].\n",
      "2023-03-25T11:21:35.336 [id_translation.mapping.verbose.HeuristicScore:DEBUG] Called non-mutating alias function smurf_column_heuristic() in context='animals':\n",
      "    ('title', ['animal_id', 'name', 'species']) -> ('animal_title', *).\n",
      "    Positional penalty=0.005. Scores before penalty: [0.0, 0.027, -0.002].\n",
      "2023-03-25T11:21:35.336 [id_translation.mapping.verbose.HeuristicScore:DEBUG] Heuristics scores for value='title': ['animal_id': 0.00 -> 0.00 (+0.00), 'name': 0.12 -> 0.12 (+0.00), 'species': -0.00 -> -0.00 (+0.00)]\n",
      "2023-03-25T11:21:35.337 [id_translation.mapping.placeholders.config-toml.verbose:DEBUG] Computed 4x3 match scores in 0.00464705 sec:\n",
      "candidates  animal_id   name  species\n",
      "values                               \n",
      "species          -inf   -inf      inf\n",
      "name             -inf    inf     -inf\n",
      "id              0.995 -0.001   -0.002\n",
      "title               0  0.124   -0.002\n",
      "2023-03-25T11:21:35.338 [id_translation.mapping.placeholders.config-toml.verbose:DEBUG] Accepted: 'species' -> 'species'; score=inf (short-circuit or override).\n",
      "2023-03-25T11:21:35.339 [id_translation.mapping.placeholders.config-toml.verbose:DEBUG] This match supersedes 2 other matches:\n",
      "    'species' -> 'animal_id'; score=-inf (superseded by short-circuit or override).\n",
      "    'species' -> 'name'; score=-inf (superseded by short-circuit or override).\n",
      "2023-03-25T11:21:35.339 [id_translation.mapping.placeholders.config-toml.verbose:DEBUG] Accepted: 'name' -> 'name'; score=inf (short-circuit or override).\n",
      "2023-03-25T11:21:35.340 [id_translation.mapping.placeholders.config-toml.verbose:DEBUG] This match supersedes 2 other matches:\n",
      "    'name' -> 'animal_id'; score=-inf (superseded by short-circuit or override).\n",
      "    'name' -> 'species'; score=-inf (superseded by short-circuit or override).\n",
      "2023-03-25T11:21:35.340 [id_translation.mapping.placeholders.config-toml.verbose:DEBUG] Accepted: 'id' -> 'animal_id'; score=0.995 >= 0.9.\n",
      "2023-03-25T11:21:35.340 [id_translation.mapping.placeholders.config-toml.verbose:DEBUG] This match supersedes 2 other matches:\n",
      "    'id' -> 'name'; score=-0.001 < 0.9 (below threshold).\n",
      "    'id' -> 'species'; score=-0.002 < 0.9 (below threshold).\n",
      "2023-03-25T11:21:35.341 [id_translation.mapping.placeholders.config-toml.verbose:DEBUG] Could not map value='title':\n",
      "    'title' -> 'name'; score=0.124 < 0.9 (below threshold).\n",
      "    'title' -> 'animal_id'; score=0.000 < 0.9 (below threshold).\n",
      "    'title' -> 'species'; score=-0.002 < 0.9 (below threshold).\n",
      "2023-03-25T11:21:35.341 [id_translation.mapping.placeholders.config-toml.verbose:DEBUG] Could not map {'title'} in context='animals' to any of candidates={'animal_id', 'name', 'species'}.\n",
      "2023-03-25T11:21:35.342 [id_translation.mapping.placeholders.config-toml.verbose:DEBUG] Mapping with cardinality='ManyToOne' completed for ['species', 'name', 'id', 'title']x['animal_id', 'name', 'species'] in 0.00939368 sec. Matches:\n",
      "    'species' -> ('species',)\n",
      "    'name' -> ('name',)\n",
      "    'id' -> ('animal_id',)\n",
      "    'title' -> <no matches>\n",
      "Matched 3/4 values with 3 different candidates.\n",
      "2023-03-25T11:21:35.342 [id_translation.fetching.config-toml:DEBUG] Finished wanted-to-actual placeholder mapping of placeholders={'species', 'name', 'id', 'title'} to actual placeholders={'animal_id', 'name', 'species'} for source='animals': {'species': ('species',), 'name': ('name',), 'id': ('animal_id',)}.\n",
      "2023-03-25T11:21:35.342 [id_translation.fetching.config-toml:DEBUG] Begin fetching placeholders=('title', 'name', 'id', 'species') from source='animals' for 3 IDs.\n",
      "2023-03-25T11:21:35.344 [id_translation.fetching.config-toml:DEBUG] Finished fetching placeholders=('animal_id', 'name', 'species') for 3 IDs from source 'animals' in 0.00148788 sec using PandasFetcher(sources=['humans', 'animals']).\n",
      "2023-03-25T11:21:35.345 [id_translation.Translator:DEBUG] Failed to translate 0/8 (0.000%) of IDs extracted from 2 different names.\n",
      "2023-03-25T11:21:35.345 [id_translation.Translator:INFO] Finished translation of 'DataFrame' in 0.0327558 sec. Returning a translated copy since inplace=False.\n"
     ]
    },
    {
     "data": {
      "text/html": [
       "<div>\n",
       "<style scoped>\n",
       "    .dataframe tbody tr th:only-of-type {\n",
       "        vertical-align: middle;\n",
       "    }\n",
       "\n",
       "    .dataframe tbody tr th {\n",
       "        vertical-align: top;\n",
       "    }\n",
       "\n",
       "    .dataframe thead th {\n",
       "        text-align: right;\n",
       "    }\n",
       "</style>\n",
       "<table border=\"1\" class=\"dataframe\">\n",
       "  <thead>\n",
       "    <tr style=\"text-align: right;\">\n",
       "      <th></th>\n",
       "      <th>human_id</th>\n",
       "      <th>bitten_by</th>\n",
       "    </tr>\n",
       "  </thead>\n",
       "  <tbody>\n",
       "    <tr>\n",
       "      <th>0</th>\n",
       "      <td>Mr. Fred (id=1904)</td>\n",
       "      <td>Morris (id=1) the dog</td>\n",
       "    </tr>\n",
       "    <tr>\n",
       "      <th>1</th>\n",
       "      <td>Mr. Richard (id=1991)</td>\n",
       "      <td>Tarzan (id=0) the cat</td>\n",
       "    </tr>\n",
       "    <tr>\n",
       "      <th>2</th>\n",
       "      <td>Mr. Richard (id=1991)</td>\n",
       "      <td>Simba (id=2) the lion</td>\n",
       "    </tr>\n",
       "    <tr>\n",
       "      <th>3</th>\n",
       "      <td>Dr. Sofia (id=1999)</td>\n",
       "      <td>Tarzan (id=0) the cat</td>\n",
       "    </tr>\n",
       "  </tbody>\n",
       "</table>\n",
       "</div>"
      ],
      "text/plain": [
       "                human_id              bitten_by\n",
       "0     Mr. Fred (id=1904)  Morris (id=1) the dog\n",
       "1  Mr. Richard (id=1991)  Tarzan (id=0) the cat\n",
       "2  Mr. Richard (id=1991)  Simba (id=2) the lion\n",
       "3    Dr. Sofia (id=1999)  Tarzan (id=0) the cat"
      ]
     },
     "execution_count": 4,
     "metadata": {},
     "output_type": "execute_result"
    }
   ],
   "source": [
    "from id_translation import Translator\n",
    "\n",
    "translated_bite_report = Translator.from_config(\"config.toml\").translate(bite_report)\n",
    "translated_bite_report"
   ]
  },
  {
   "cell_type": "code",
   "execution_count": 5,
   "id": "8a9bd821-980d-43f2-bec9-d2c189d63f2a",
   "metadata": {
    "execution": {
     "iopub.execute_input": "2023-03-25T10:21:35.351166Z",
     "iopub.status.busy": "2023-03-25T10:21:35.351034Z",
     "iopub.status.idle": "2023-03-25T10:21:35.355900Z",
     "shell.execute_reply": "2023-03-25T10:21:35.355084Z",
     "shell.execute_reply.started": "2023-03-25T10:21:35.351157Z"
    }
   },
   "outputs": [],
   "source": [
    "assert translated_bite_report.equals(\n",
    "    read_csv(\"biting-victims-2019-05-11-translated.csv\")\n",
    ")"
   ]
  },
  {
   "cell_type": "markdown",
   "id": "aa4ee1f0-99e3-4a12-9249-77c4b55951ba",
   "metadata": {
    "tags": []
   },
   "source": [
    "## Print the config\n",
    "Click [here](config.toml) to download."
   ]
  },
  {
   "cell_type": "code",
   "execution_count": 6,
   "id": "349297b4-bc51-449e-bdbc-746487109156",
   "metadata": {
    "execution": {
     "iopub.execute_input": "2023-03-25T10:21:35.356453Z",
     "iopub.status.busy": "2023-03-25T10:21:35.356334Z",
     "iopub.status.idle": "2023-03-25T10:21:35.698382Z",
     "shell.execute_reply": "2023-03-25T10:21:35.697824Z",
     "shell.execute_reply.started": "2023-03-25T10:21:35.356443Z"
    }
   },
   "outputs": [
    {
     "name": "stdout",
     "output_type": "stream",
     "text": [
      "\u001b[37m################################################################################\u001b[39;49;00m\u001b[37m\u001b[39;49;00m\n",
      "\u001b[37m# For help, see https://id-translation.readthedocs.io                          #\u001b[39;49;00m\u001b[37m\u001b[39;49;00m\n",
      "\u001b[37m################################################################################\u001b[39;49;00m\u001b[37m\u001b[39;49;00m\n",
      "\u001b[34m[translator]\u001b[39;49;00m\u001b[37m\u001b[39;49;00m\n",
      "fmt\u001b[37m \u001b[39;49;00m=\u001b[37m \u001b[39;49;00m\u001b[33m\"[{title}. ]{name} (id={id})[ the {species}]\"\u001b[39;49;00m\u001b[37m\u001b[39;49;00m\n",
      "\u001b[37m\u001b[39;49;00m\n",
      "\u001b[37m# ------------------------------------------------------------------------------\u001b[39;49;00m\u001b[37m\u001b[39;49;00m\n",
      "\u001b[37m# Name-to-source mapping configuration. Binds names to source, eg 'cute_animals'\u001b[39;49;00m\u001b[37m\u001b[39;49;00m\n",
      "\u001b[37m# -> 'my_database.animals'. Overrides take precedence over scoring logic.\u001b[39;49;00m\u001b[37m\u001b[39;49;00m\n",
      "\u001b[34m[translator.mapping]\u001b[39;49;00m\u001b[37m\u001b[39;49;00m\n",
      "score_function=\u001b[33m\"equality\"\u001b[39;49;00m\u001b[37m\u001b[39;49;00m\n",
      "\u001b[34m[[translator.mapping.score_function_heuristics]]\u001b[39;49;00m\u001b[37m\u001b[39;49;00m\n",
      "function\u001b[37m \u001b[39;49;00m=\u001b[37m \u001b[39;49;00m\u001b[33m\"like_database_table\"\u001b[39;49;00m\u001b[37m\u001b[39;49;00m\n",
      "\u001b[37m\u001b[39;49;00m\n",
      "\u001b[34m[translator.mapping.overrides]\u001b[39;49;00m\u001b[37m\u001b[39;49;00m\n",
      "bitten_by\u001b[37m \u001b[39;49;00m=\u001b[37m \u001b[39;49;00m\u001b[33m\"animals\"\u001b[39;49;00m\u001b[37m\u001b[39;49;00m\n",
      "\u001b[37m\u001b[39;49;00m\n",
      "\u001b[37m################################################################################\u001b[39;49;00m\u001b[37m\u001b[39;49;00m\n",
      "\u001b[37m# Fetching configuration.\u001b[39;49;00m\u001b[37m\u001b[39;49;00m\n",
      "\u001b[37m################################################################################\u001b[39;49;00m\u001b[37m\u001b[39;49;00m\n",
      "\u001b[34m[fetching.PandasFetcher]\u001b[39;49;00m\u001b[37m\u001b[39;49;00m\n",
      "read_function\u001b[37m \u001b[39;49;00m=\u001b[37m \u001b[39;49;00m\u001b[33m\"read_csv\"\u001b[39;49;00m\u001b[37m\u001b[39;49;00m\n",
      "read_path_format=\u001b[37m \u001b[39;49;00m\u001b[33m\"./sources/{}.csv\"\u001b[39;49;00m\u001b[37m\u001b[39;49;00m\n",
      "\u001b[37m\u001b[39;49;00m\n",
      "\u001b[34m[fetching.mapping]\u001b[39;49;00m\u001b[37m\u001b[39;49;00m\n",
      "verbose_logging\u001b[37m \u001b[39;49;00m=\u001b[37m \u001b[39;49;00m\u001b[34mtrue\u001b[39;49;00m\u001b[37m\u001b[39;49;00m\n",
      "\u001b[37m\u001b[39;49;00m\n",
      "\u001b[37m# ------------------------------------------------------------------------------\u001b[39;49;00m\u001b[37m\u001b[39;49;00m\n",
      "\u001b[37m# Placeholder mapping configuration. Binds actual names in sources (such as\u001b[39;49;00m\u001b[37m\u001b[39;49;00m\n",
      "\u001b[37m# column names in an SQL table) to wanted names, eg id = 'animal_id'.\u001b[39;49;00m\u001b[37m\u001b[39;49;00m\n",
      "\u001b[34m[[fetching.mapping.score_function_heuristics]]\u001b[39;49;00m\u001b[37m\u001b[39;49;00m\n",
      "function\u001b[37m \u001b[39;49;00m=\u001b[37m \u001b[39;49;00m\u001b[33m\"__main__.smurf_column_heuristic\"\u001b[39;49;00m\u001b[37m\u001b[39;49;00m\n"
     ]
    }
   ],
   "source": [
    "!pygmentize config.toml"
   ]
  },
  {
   "cell_type": "code",
   "execution_count": null,
   "id": "fe95775c-cbba-4741-b7aa-43a360f5d1cb",
   "metadata": {},
   "outputs": [],
   "source": []
  }
 ],
 "metadata": {
  "kernelspec": {
   "display_name": "Python 3 (ipykernel)",
   "language": "python",
   "name": "python3"
  },
  "language_info": {
   "codemirror_mode": {
    "name": "ipython",
    "version": 3
   },
   "file_extension": ".py",
   "mimetype": "text/x-python",
   "name": "python",
   "nbconvert_exporter": "python",
   "pygments_lexer": "ipython3",
   "version": "3.10.6"
  }
 },
 "nbformat": 4,
 "nbformat_minor": 5
}
