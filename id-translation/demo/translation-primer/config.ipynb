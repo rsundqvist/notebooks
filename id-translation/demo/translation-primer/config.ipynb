{
 "cells": [
  {
   "cell_type": "markdown",
   "id": "13f908c9-91ef-4c10-9342-8c7d1d282b49",
   "metadata": {},
   "source": [
    "# Primer: TOML implementation\n",
    "This notebook reconstructs the `Translator` showcased in the [Translation primer](../../../translation-primer.rst) using the a [TOML configuration](config.toml)."
   ]
  },
  {
   "cell_type": "code",
   "execution_count": 1,
   "id": "0369b718-55fc-46f1-bf0f-510d541514df",
   "metadata": {
    "execution": {
     "iopub.execute_input": "2022-11-26T15:07:52.662632Z",
     "iopub.status.busy": "2022-11-26T15:07:52.662506Z",
     "iopub.status.idle": "2022-11-26T15:07:53.056249Z",
     "shell.execute_reply": "2022-11-26T15:07:53.055610Z",
     "shell.execute_reply.started": "2022-11-26T15:07:52.662599Z"
    }
   },
   "outputs": [
    {
     "name": "stdout",
     "output_type": "stream",
     "text": [
      "rics.__version__='0.17.0.dev1'\n",
      "id_translation.__version__='0.1.0.dev0'\n",
      "sys.version='3.10.6 (main, Nov  2 2022, 18:53:38) [GCC 11.3.0]'\n",
      "\u001b[33m538ca56\u001b[m\u001b[33m (\u001b[m\u001b[1;36mHEAD -> \u001b[m\u001b[1;32mtmp\u001b[m\u001b[33m, \u001b[m\u001b[1;31morigin/tmp\u001b[m\u001b[33m, \u001b[m\u001b[1;32mmain\u001b[m\u001b[33m)\u001b[m split\n"
     ]
    }
   ],
   "source": [
    "import sys\n",
    "import rics\n",
    "import id_translation\n",
    "\n",
    "# Print relevant versions\n",
    "print(f\"{rics.__version__=}\")\n",
    "print(f\"{id_translation.__version__=}\")\n",
    "print(f\"{sys.version=}\")\n",
    "!git log --pretty=oneline --abbrev-commit -1"
   ]
  },
  {
   "cell_type": "code",
   "execution_count": 2,
   "id": "34780c6c-edd2-4380-9932-6b6336bf40ea",
   "metadata": {
    "execution": {
     "iopub.execute_input": "2022-11-26T15:07:53.058057Z",
     "iopub.status.busy": "2022-11-26T15:07:53.057776Z",
     "iopub.status.idle": "2022-11-26T15:07:53.063503Z",
     "shell.execute_reply": "2022-11-26T15:07:53.063068Z",
     "shell.execute_reply.started": "2022-11-26T15:07:53.058041Z"
    }
   },
   "outputs": [
    {
     "name": "stderr",
     "output_type": "stream",
     "text": [
      "/home/dev/git/rics/src/rics/utility/_just_the_way_i_like_it.py:36: UserWarning: Plotting configuration not done: No module named 'matplotlib'\n",
      "  warnings.warn(f\"Plotting configuration not done: {e}\")\n"
     ]
    }
   ],
   "source": [
    "from rics.utility import configure_stuff\n",
    "\n",
    "configure_stuff(rics_level=\"DEBUG\")"
   ]
  },
  {
   "cell_type": "markdown",
   "id": "1487d6cf-9f0f-477f-ac00-01442e0ca99d",
   "metadata": {},
   "source": [
    "## Translatable data"
   ]
  },
  {
   "cell_type": "code",
   "execution_count": 3,
   "id": "8b7cb6d7-f985-4d8c-b2a9-46302422371d",
   "metadata": {
    "execution": {
     "iopub.execute_input": "2022-11-26T15:07:53.064016Z",
     "iopub.status.busy": "2022-11-26T15:07:53.063906Z",
     "iopub.status.idle": "2022-11-26T15:07:53.075365Z",
     "shell.execute_reply": "2022-11-26T15:07:53.074928Z",
     "shell.execute_reply.started": "2022-11-26T15:07:53.064007Z"
    }
   },
   "outputs": [
    {
     "data": {
      "text/html": [
       "<div>\n",
       "<style scoped>\n",
       "    .dataframe tbody tr th:only-of-type {\n",
       "        vertical-align: middle;\n",
       "    }\n",
       "\n",
       "    .dataframe tbody tr th {\n",
       "        vertical-align: top;\n",
       "    }\n",
       "\n",
       "    .dataframe thead th {\n",
       "        text-align: right;\n",
       "    }\n",
       "</style>\n",
       "<table border=\"1\" class=\"dataframe\">\n",
       "  <thead>\n",
       "    <tr style=\"text-align: right;\">\n",
       "      <th></th>\n",
       "      <th>human_id</th>\n",
       "      <th>bitten_by</th>\n",
       "    </tr>\n",
       "  </thead>\n",
       "  <tbody>\n",
       "    <tr>\n",
       "      <th>0</th>\n",
       "      <td>1904</td>\n",
       "      <td>1</td>\n",
       "    </tr>\n",
       "    <tr>\n",
       "      <th>1</th>\n",
       "      <td>1991</td>\n",
       "      <td>0</td>\n",
       "    </tr>\n",
       "    <tr>\n",
       "      <th>2</th>\n",
       "      <td>1991</td>\n",
       "      <td>2</td>\n",
       "    </tr>\n",
       "    <tr>\n",
       "      <th>3</th>\n",
       "      <td>1999</td>\n",
       "      <td>0</td>\n",
       "    </tr>\n",
       "  </tbody>\n",
       "</table>\n",
       "</div>"
      ],
      "text/plain": [
       "   human_id  bitten_by\n",
       "0      1904          1\n",
       "1      1991          0\n",
       "2      1991          2\n",
       "3      1999          0"
      ]
     },
     "execution_count": 3,
     "metadata": {},
     "output_type": "execute_result"
    }
   ],
   "source": [
    "from pandas import read_csv\n",
    "\n",
    "bite_report = read_csv(\"biting-victims-2019-05-11.csv\")\n",
    "bite_report"
   ]
  },
  {
   "cell_type": "markdown",
   "id": "6b021019-9123-49eb-9b7d-2505ebcde411",
   "metadata": {},
   "source": [
    "## Define heuristic score function"
   ]
  },
  {
   "cell_type": "code",
   "execution_count": 4,
   "id": "44cf127e-5c43-4c78-a063-73a973daee9d",
   "metadata": {
    "execution": {
     "iopub.execute_input": "2022-11-26T15:07:53.075870Z",
     "iopub.status.busy": "2022-11-26T15:07:53.075763Z",
     "iopub.status.idle": "2022-11-26T15:07:53.078939Z",
     "shell.execute_reply": "2022-11-26T15:07:53.078559Z",
     "shell.execute_reply.started": "2022-11-26T15:07:53.075861Z"
    }
   },
   "outputs": [],
   "source": [
    "from id_translation.fetching import PandasFetcher\n",
    "from rics.mapping import HeuristicScore, Mapper\n",
    "\n",
    "\n",
    "def smurf_column_heuristic(value, candidates, context):\n",
    "    \"\"\"Heuristic for matching columns that use the \"smurf\" convention.\n",
    "\n",
    "    The value is the desired placeholder, the context is the name of the source\n",
    "    for which placeholder mapping is being performed.\n",
    "    \"\"\"\n",
    "    return (\n",
    "        f\"{context[:-1]}_{value}\" if context[-1] == \"s\" else f\"{context}_{value}\",\n",
    "        candidates,\n",
    "    )"
   ]
  },
  {
   "cell_type": "markdown",
   "id": "4e904823-aa47-417c-8025-b70372090946",
   "metadata": {},
   "source": [
    "## Moment of truth"
   ]
  },
  {
   "cell_type": "code",
   "execution_count": 5,
   "id": "288e628e-9ad8-4805-a455-bc65c60baf35",
   "metadata": {
    "execution": {
     "iopub.execute_input": "2022-11-26T15:07:53.079749Z",
     "iopub.status.busy": "2022-11-26T15:07:53.079621Z",
     "iopub.status.idle": "2022-11-26T15:07:53.112996Z",
     "shell.execute_reply": "2022-11-26T15:07:53.112116Z",
     "shell.execute_reply.started": "2022-11-26T15:07:53.079740Z"
    }
   },
   "outputs": [
    {
     "name": "stderr",
     "output_type": "stream",
     "text": [
      "2022-11-26T16:07:53.082 [rics.mapping.Mapper:DEBUG] Begin computing match scores for values=('human_id', 'bitten_by') to candidates=('animals', 'humans') using HeuristicScore([like_database_table()] -> equality).\n",
      "2022-11-26T16:07:53.084 [rics.mapping.Mapper:DEBUG] Computed 2x2 match scores in 0.000974649 sec:\n",
      "candidates  animals  humans\n",
      "values                     \n",
      "human_id          0       1\n",
      "bitten_by       inf    -inf\n",
      "2022-11-26T16:07:53.087 [rics.mapping.Mapper.accept:DEBUG] Accepted: 'bitten_by' -> 'animals'; score=inf (short-circuit or override).\n",
      "2022-11-26T16:07:53.088 [rics.mapping.Mapper.accept.details:DEBUG] This match supersedes 1 other matches:\n",
      "    'bitten_by' -> 'humans'; score=-inf (superseded by short-circuit or override).\n",
      "2022-11-26T16:07:53.088 [rics.mapping.Mapper.accept:DEBUG] Accepted: 'human_id' -> 'humans'; score=1.000 >= 1.0.\n",
      "2022-11-26T16:07:53.089 [rics.mapping.Mapper.accept.details:DEBUG] This match supersedes 1 other matches:\n",
      "    'human_id' -> 'animals'; score=0.000 < 1.0 (below threshold).\n",
      "2022-11-26T16:07:53.090 [rics.mapping.Mapper:DEBUG] Match selection with cardinality='ManyToOne' completed in 0.00549345 sec.\n",
      "2022-11-26T16:07:53.092 [rics.mapping.Mapper:DEBUG] Begin computing match scores for values=('name', 'id', 'title', 'species') in context='humans' to candidates=('name', 'id', 'title') using HeuristicScore([force_lower_case() | smurf_column_heuristic()] -> AbstractFetcher.default_score_function).\n",
      "2022-11-26T16:07:53.094 [rics.mapping.Mapper:DEBUG] Computed 4x3 match scores in 0.00125061 sec:\n",
      "candidates  name   id  title\n",
      "values                      \n",
      "name         inf -inf   -inf\n",
      "id          -inf  inf   -inf\n",
      "title       -inf -inf    inf\n",
      "species        0    0      0\n",
      "2022-11-26T16:07:53.095 [rics.mapping.Mapper.accept:DEBUG] Accepted: 'name' -> 'name'; score=inf (short-circuit or override).\n",
      "2022-11-26T16:07:53.095 [rics.mapping.Mapper.accept.details:DEBUG] This match supersedes 2 other matches:\n",
      "    'name' -> 'id'; score=-inf (superseded by short-circuit or override).\n",
      "    'name' -> 'title'; score=-inf (superseded by short-circuit or override).\n",
      "2022-11-26T16:07:53.096 [rics.mapping.Mapper.accept:DEBUG] Accepted: 'id' -> 'id'; score=inf (short-circuit or override).\n",
      "2022-11-26T16:07:53.097 [rics.mapping.Mapper.accept.details:DEBUG] This match supersedes 2 other matches:\n",
      "    'id' -> 'name'; score=-inf (superseded by short-circuit or override).\n",
      "    'id' -> 'title'; score=-inf (superseded by short-circuit or override).\n",
      "2022-11-26T16:07:53.097 [rics.mapping.Mapper.accept:DEBUG] Accepted: 'title' -> 'title'; score=inf (short-circuit or override).\n",
      "2022-11-26T16:07:53.097 [rics.mapping.Mapper.accept.details:DEBUG] This match supersedes 2 other matches:\n",
      "    'title' -> 'name'; score=-inf (superseded by short-circuit or override).\n",
      "    'title' -> 'id'; score=-inf (superseded by short-circuit or override).\n",
      "2022-11-26T16:07:53.098 [rics.mapping.Mapper.unmapped.details:DEBUG] Could not map value='species':\n",
      "    'species' -> 'name'; score=0.000 < 1.0 (below threshold).\n",
      "    'species' -> 'id'; score=0.000 < 1.0 (below threshold).\n",
      "    'species' -> 'title'; score=0.000 < 1.0 (below threshold).\n",
      "2022-11-26T16:07:53.098 [rics.mapping.Mapper.unmapped:DEBUG] Could not map {'species'} in context='humans' to any of candidates={'name', 'id', 'title'}.\n",
      "2022-11-26T16:07:53.098 [rics.mapping.Mapper:DEBUG] Match selection with cardinality='ManyToOne' completed in 0.00405652 sec.\n",
      "2022-11-26T16:07:53.100 [rics.mapping.Mapper:DEBUG] Begin computing match scores for values=('name', 'id', 'title', 'species') in context='animals' to candidates=('name', 'animal_id', 'species') using HeuristicScore([force_lower_case() | smurf_column_heuristic()] -> AbstractFetcher.default_score_function).\n",
      "2022-11-26T16:07:53.101 [rics.mapping.Mapper:DEBUG] Computed 4x3 match scores in 0.0012541 sec:\n",
      "candidates  name  animal_id  species\n",
      "values                              \n",
      "name         inf       -inf     -inf\n",
      "id             0          1        0\n",
      "title      0.125          0        0\n",
      "species     -inf       -inf      inf\n",
      "2022-11-26T16:07:53.103 [rics.mapping.Mapper.accept:DEBUG] Accepted: 'name' -> 'name'; score=inf (short-circuit or override).\n",
      "2022-11-26T16:07:53.103 [rics.mapping.Mapper.accept.details:DEBUG] This match supersedes 2 other matches:\n",
      "    'name' -> 'animal_id'; score=-inf (superseded by short-circuit or override).\n",
      "    'name' -> 'species'; score=-inf (superseded by short-circuit or override).\n",
      "2022-11-26T16:07:53.103 [rics.mapping.Mapper.accept:DEBUG] Accepted: 'species' -> 'species'; score=inf (short-circuit or override).\n",
      "2022-11-26T16:07:53.103 [rics.mapping.Mapper.accept.details:DEBUG] This match supersedes 2 other matches:\n",
      "    'species' -> 'name'; score=-inf (superseded by short-circuit or override).\n",
      "    'species' -> 'animal_id'; score=-inf (superseded by short-circuit or override).\n",
      "2022-11-26T16:07:53.104 [rics.mapping.Mapper.accept:DEBUG] Accepted: 'id' -> 'animal_id'; score=1.000 >= 1.0.\n",
      "2022-11-26T16:07:53.105 [rics.mapping.Mapper.accept.details:DEBUG] This match supersedes 2 other matches:\n",
      "    'id' -> 'name'; score=0.000 < 1.0 (below threshold).\n",
      "    'id' -> 'species'; score=0.000 < 1.0 (below threshold).\n",
      "2022-11-26T16:07:53.105 [rics.mapping.Mapper.unmapped.details:DEBUG] Could not map value='title':\n",
      "    'title' -> 'name'; score=0.125 < 1.0 (below threshold).\n",
      "    'title' -> 'animal_id'; score=0.000 < 1.0 (below threshold).\n",
      "    'title' -> 'species'; score=0.000 < 1.0 (below threshold).\n",
      "2022-11-26T16:07:53.106 [rics.mapping.Mapper.unmapped:DEBUG] Could not map {'title'} in context='animals' to any of candidates={'name', 'animal_id', 'species'}.\n",
      "2022-11-26T16:07:53.106 [rics.mapping.Mapper:DEBUG] Match selection with cardinality='ManyToOne' completed in 0.0043102 sec.\n"
     ]
    },
    {
     "data": {
      "text/html": [
       "<div>\n",
       "<style scoped>\n",
       "    .dataframe tbody tr th:only-of-type {\n",
       "        vertical-align: middle;\n",
       "    }\n",
       "\n",
       "    .dataframe tbody tr th {\n",
       "        vertical-align: top;\n",
       "    }\n",
       "\n",
       "    .dataframe thead th {\n",
       "        text-align: right;\n",
       "    }\n",
       "</style>\n",
       "<table border=\"1\" class=\"dataframe\">\n",
       "  <thead>\n",
       "    <tr style=\"text-align: right;\">\n",
       "      <th></th>\n",
       "      <th>human_id</th>\n",
       "      <th>bitten_by</th>\n",
       "    </tr>\n",
       "  </thead>\n",
       "  <tbody>\n",
       "    <tr>\n",
       "      <th>0</th>\n",
       "      <td>Mr. Fred (id=1904)</td>\n",
       "      <td>Morris (id=1) the dog</td>\n",
       "    </tr>\n",
       "    <tr>\n",
       "      <th>1</th>\n",
       "      <td>Mr. Richard (id=1991)</td>\n",
       "      <td>Tarzan (id=0) the cat</td>\n",
       "    </tr>\n",
       "    <tr>\n",
       "      <th>2</th>\n",
       "      <td>Mr. Richard (id=1991)</td>\n",
       "      <td>Simba (id=2) the lion</td>\n",
       "    </tr>\n",
       "    <tr>\n",
       "      <th>3</th>\n",
       "      <td>Dr. Sofia (id=1999)</td>\n",
       "      <td>Tarzan (id=0) the cat</td>\n",
       "    </tr>\n",
       "  </tbody>\n",
       "</table>\n",
       "</div>"
      ],
      "text/plain": [
       "                human_id              bitten_by\n",
       "0     Mr. Fred (id=1904)  Morris (id=1) the dog\n",
       "1  Mr. Richard (id=1991)  Tarzan (id=0) the cat\n",
       "2  Mr. Richard (id=1991)  Simba (id=2) the lion\n",
       "3    Dr. Sofia (id=1999)  Tarzan (id=0) the cat"
      ]
     },
     "execution_count": 5,
     "metadata": {},
     "output_type": "execute_result"
    }
   ],
   "source": [
    "from id_translation import Translator\n",
    "\n",
    "translated_bite_report = Translator.from_config(\"config.toml\").translate(bite_report)\n",
    "translated_bite_report"
   ]
  },
  {
   "cell_type": "code",
   "execution_count": 6,
   "id": "8a9bd821-980d-43f2-bec9-d2c189d63f2a",
   "metadata": {
    "execution": {
     "iopub.execute_input": "2022-11-26T15:07:53.113640Z",
     "iopub.status.busy": "2022-11-26T15:07:53.113507Z",
     "iopub.status.idle": "2022-11-26T15:07:53.117834Z",
     "shell.execute_reply": "2022-11-26T15:07:53.117415Z",
     "shell.execute_reply.started": "2022-11-26T15:07:53.113630Z"
    }
   },
   "outputs": [],
   "source": [
    "assert translated_bite_report.equals(\n",
    "    read_csv(\"biting-victims-2019-05-11-translated.csv\")\n",
    ")"
   ]
  },
  {
   "cell_type": "markdown",
   "id": "aa4ee1f0-99e3-4a12-9249-77c4b55951ba",
   "metadata": {
    "tags": []
   },
   "source": [
    "## Print the config\n",
    "Click [here](config.toml) to download."
   ]
  },
  {
   "cell_type": "code",
   "execution_count": 7,
   "id": "349297b4-bc51-449e-bdbc-746487109156",
   "metadata": {
    "execution": {
     "iopub.execute_input": "2022-11-26T15:07:53.118809Z",
     "iopub.status.busy": "2022-11-26T15:07:53.118687Z",
     "iopub.status.idle": "2022-11-26T15:07:53.534935Z",
     "shell.execute_reply": "2022-11-26T15:07:53.534398Z",
     "shell.execute_reply.started": "2022-11-26T15:07:53.118799Z"
    }
   },
   "outputs": [
    {
     "name": "stdout",
     "output_type": "stream",
     "text": [
      "\u001b[38;2;61;123;123;03m################################################################################\u001b[39;00m\n",
      "\u001b[38;2;61;123;123;03m# For help, see https://rics.readthedocs.io                                    #\u001b[39;00m\n",
      "\u001b[38;2;61;123;123;03m################################################################################\u001b[39;00m\n",
      "\u001b[38;2;0;128;0;01m[translator]\u001b[39;00m\n",
      "fmt\u001b[38;2;187;187;187m \u001b[39m\u001b[38;2;102;102;102m=\u001b[39m\u001b[38;2;187;187;187m \u001b[39m\u001b[38;2;186;33;33m\"[{title}. ]{name} (id={id})[ the {species}]\"\u001b[39m\n",
      "\n",
      "\u001b[38;2;61;123;123;03m# ------------------------------------------------------------------------------\u001b[39;00m\n",
      "\u001b[38;2;61;123;123;03m# Name-to-source mapping configuration. Binds names to source, eg 'cute_animals'\u001b[39;00m\n",
      "\u001b[38;2;61;123;123;03m# -> 'my_database.animals'. Overrides take precedence over scoring logic.\u001b[39;00m\n",
      "\u001b[38;2;0;128;0;01m[translator.mapping]\u001b[39;00m\n",
      "score_function\u001b[38;2;102;102;102m=\u001b[39m\u001b[38;2;186;33;33m\"equality\"\u001b[39m\n",
      "\u001b[38;2;0;128;0;01m[[translator.mapping.score_function_heuristics]]\u001b[39;00m\n",
      "function\u001b[38;2;187;187;187m \u001b[39m\u001b[38;2;102;102;102m=\u001b[39m\u001b[38;2;187;187;187m \u001b[39m\u001b[38;2;186;33;33m\"like_database_table\"\u001b[39m\n",
      "\n",
      "\u001b[38;2;0;128;0;01m[translator.mapping.overrides]\u001b[39;00m\n",
      "bitten_by\u001b[38;2;187;187;187m \u001b[39m\u001b[38;2;102;102;102m=\u001b[39m\u001b[38;2;187;187;187m \u001b[39m\u001b[38;2;186;33;33m\"animals\"\u001b[39m\n",
      "\n",
      "\u001b[38;2;61;123;123;03m################################################################################\u001b[39;00m\n",
      "\u001b[38;2;61;123;123;03m# Fetching configuration.\u001b[39;00m\n",
      "\u001b[38;2;61;123;123;03m################################################################################\u001b[39;00m\n",
      "\u001b[38;2;0;128;0;01m[fetching.PandasFetcher]\u001b[39;00m\n",
      "read_function\u001b[38;2;187;187;187m \u001b[39m\u001b[38;2;102;102;102m=\u001b[39m\u001b[38;2;187;187;187m \u001b[39m\u001b[38;2;186;33;33m\"read_csv\"\u001b[39m\n",
      "read_path_format\u001b[38;2;102;102;102m=\u001b[39m\u001b[38;2;187;187;187m \u001b[39m\u001b[38;2;186;33;33m\"./sources/{}.csv\"\u001b[39m\n",
      "\n",
      "\u001b[38;2;61;123;123;03m# ------------------------------------------------------------------------------\u001b[39;00m\n",
      "\u001b[38;2;61;123;123;03m# Placeholder mapping configuration. Binds actual names in sources (such as\u001b[39;00m\n",
      "\u001b[38;2;61;123;123;03m# column names in an SQL table) to wanted names, eg id = 'animal_id'.\u001b[39;00m\n",
      "\u001b[38;2;0;128;0;01m[[fetching.mapping.score_function_heuristics]]\u001b[39;00m\n",
      "function\u001b[38;2;187;187;187m \u001b[39m\u001b[38;2;102;102;102m=\u001b[39m\u001b[38;2;187;187;187m \u001b[39m\u001b[38;2;186;33;33m\"__main__.smurf_column_heuristic\"\u001b[39m\n"
     ]
    }
   ],
   "source": [
    "!pygmentize config.toml"
   ]
  },
  {
   "cell_type": "code",
   "execution_count": null,
   "id": "fe95775c-cbba-4741-b7aa-43a360f5d1cb",
   "metadata": {},
   "outputs": [],
   "source": []
  }
 ],
 "metadata": {
  "kernelspec": {
   "display_name": "Python 3 (ipykernel)",
   "language": "python",
   "name": "python3"
  },
  "language_info": {
   "codemirror_mode": {
    "name": "ipython",
    "version": 3
   },
   "file_extension": ".py",
   "mimetype": "text/x-python",
   "name": "python",
   "nbconvert_exporter": "python",
   "pygments_lexer": "ipython3",
   "version": "3.10.6"
  }
 },
 "nbformat": 4,
 "nbformat_minor": 5
}
